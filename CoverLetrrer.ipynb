{
  "nbformat": 4,
  "nbformat_minor": 0,
  "metadata": {
    "colab": {
      "provenance": [],
      "authorship_tag": "ABX9TyOzovtM0AqA6Ilhy0mJ6lam",
      "include_colab_link": true
    },
    "kernelspec": {
      "name": "python3",
      "display_name": "Python 3"
    },
    "language_info": {
      "name": "python"
    }
  },
  "cells": [
    {
      "cell_type": "markdown",
      "metadata": {
        "id": "view-in-github",
        "colab_type": "text"
      },
      "source": [
        "<a href=\"https://colab.research.google.com/github/bdi2357/CoverLetter/blob/main/CoverLetrrer.ipynb\" target=\"_parent\"><img src=\"https://colab.research.google.com/assets/colab-badge.svg\" alt=\"Open In Colab\"/></a>"
      ]
    },
    {
      "cell_type": "code",
      "source": [
        "!pip install -q -U google-generativeai"
      ],
      "metadata": {
        "id": "hTAXNfaoRqDr"
      },
      "execution_count": 1,
      "outputs": []
    },
    {
      "cell_type": "code",
      "source": [
        "!git clone https://github.com/bdi2357/CoverLetter"
      ],
      "metadata": {
        "colab": {
          "base_uri": "https://localhost:8080/"
        },
        "id": "V0bLtjxrR_Ya",
        "outputId": "5e09c0d4-3fc8-4594-ac92-3d9469fa6877"
      },
      "execution_count": 2,
      "outputs": [
        {
          "output_type": "stream",
          "name": "stdout",
          "text": [
            "Cloning into 'CoverLetter'...\n",
            "remote: Enumerating objects: 39, done.\u001b[K\n",
            "remote: Counting objects: 100% (39/39), done.\u001b[K\n",
            "remote: Compressing objects: 100% (37/37), done.\u001b[K\n",
            "remote: Total 39 (delta 19), reused 0 (delta 0), pack-reused 0 (from 0)\u001b[K\n",
            "Receiving objects: 100% (39/39), 114.94 KiB | 1.10 MiB/s, done.\n",
            "Resolving deltas: 100% (19/19), done.\n"
          ]
        }
      ]
    },
    {
      "cell_type": "code",
      "source": [
        "import pathlib\n",
        "import textwrap\n",
        "\n",
        "import google.generativeai as genai\n",
        "\n",
        "from IPython.display import display\n",
        "from IPython.display import Markdown\n",
        "\n",
        "\n",
        "def to_markdown(text):\n",
        "  text = text.replace('•', '  *')\n",
        "  return Markdown(textwrap.indent(text, '> ', predicate=lambda _: True))"
      ],
      "metadata": {
        "id": "At05GNhPPQ-s"
      },
      "execution_count": 3,
      "outputs": []
    },
    {
      "cell_type": "code",
      "source": [
        "!pip install -q PyPDF2"
      ],
      "metadata": {
        "id": "4qshbooyX7EJ",
        "colab": {
          "base_uri": "https://localhost:8080/"
        },
        "outputId": "dc6d28b1-8dfa-49fc-b637-69625b162625"
      },
      "execution_count": 4,
      "outputs": [
        {
          "output_type": "stream",
          "name": "stdout",
          "text": [
            "\u001b[?25l   \u001b[90m━━━━━━━━━━━━━━━━━━━━━━━━━━━━━━━━━━━━━━━━\u001b[0m \u001b[32m0.0/232.6 kB\u001b[0m \u001b[31m?\u001b[0m eta \u001b[36m-:--:--\u001b[0m\r\u001b[2K   \u001b[91m━━━━━━━━━━━━━━━\u001b[0m\u001b[91m╸\u001b[0m\u001b[90m━━━━━━━━━━━━━━━━━━━━━━━━\u001b[0m \u001b[32m92.2/232.6 kB\u001b[0m \u001b[31m2.7 MB/s\u001b[0m eta \u001b[36m0:00:01\u001b[0m\r\u001b[2K   \u001b[91m━━━━━━━━━━━━━━━━━━━━━━━━━━━━━━━━━━━━━━\u001b[0m\u001b[91m╸\u001b[0m\u001b[90m━\u001b[0m \u001b[32m225.3/232.6 kB\u001b[0m \u001b[31m3.6 MB/s\u001b[0m eta \u001b[36m0:00:01\u001b[0m\r\u001b[2K   \u001b[90m━━━━━━━━━━━━━━━━━━━━━━━━━━━━━━━━━━━━━━━━\u001b[0m \u001b[32m232.6/232.6 kB\u001b[0m \u001b[31m3.0 MB/s\u001b[0m eta \u001b[36m0:00:00\u001b[0m\n",
            "\u001b[?25h"
          ]
        }
      ]
    },
    {
      "cell_type": "code",
      "source": [
        "!pip install docx\n",
        "!pip install fpdf"
      ],
      "metadata": {
        "colab": {
          "base_uri": "https://localhost:8080/"
        },
        "id": "pLepXwZwYBfz",
        "outputId": "e2779910-fd28-41c0-d9cc-24564868d846"
      },
      "execution_count": 5,
      "outputs": [
        {
          "output_type": "stream",
          "name": "stdout",
          "text": [
            "Collecting docx\n",
            "  Downloading docx-0.2.4.tar.gz (54 kB)\n",
            "\u001b[?25l     \u001b[90m━━━━━━━━━━━━━━━━━━━━━━━━━━━━━━━━━━━━━━━━\u001b[0m \u001b[32m0.0/54.9 kB\u001b[0m \u001b[31m?\u001b[0m eta \u001b[36m-:--:--\u001b[0m\r\u001b[2K     \u001b[90m━━━━━━━━━━━━━━━━━━━━━━━━━━━━━━━━━━━━━━━━\u001b[0m \u001b[32m54.9/54.9 kB\u001b[0m \u001b[31m2.4 MB/s\u001b[0m eta \u001b[36m0:00:00\u001b[0m\n",
            "\u001b[?25h  Preparing metadata (setup.py) ... \u001b[?25l\u001b[?25hdone\n",
            "Requirement already satisfied: lxml in /usr/local/lib/python3.10/dist-packages (from docx) (4.9.4)\n",
            "Requirement already satisfied: Pillow>=2.0 in /usr/local/lib/python3.10/dist-packages (from docx) (9.4.0)\n",
            "Building wheels for collected packages: docx\n",
            "  Building wheel for docx (setup.py) ... \u001b[?25l\u001b[?25hdone\n",
            "  Created wheel for docx: filename=docx-0.2.4-py3-none-any.whl size=53892 sha256=335b190df11f9da707275e4d4b4e988bd17e0ccc6419bb34251b0d6b5b1f4919\n",
            "  Stored in directory: /root/.cache/pip/wheels/81/f5/1d/e09ba2c1907a43a4146d1189ae4733ca1a3bfe27ee39507767\n",
            "Successfully built docx\n",
            "Installing collected packages: docx\n",
            "Successfully installed docx-0.2.4\n",
            "Collecting fpdf\n",
            "  Downloading fpdf-1.7.2.tar.gz (39 kB)\n",
            "  Preparing metadata (setup.py) ... \u001b[?25l\u001b[?25hdone\n",
            "Building wheels for collected packages: fpdf\n",
            "  Building wheel for fpdf (setup.py) ... \u001b[?25l\u001b[?25hdone\n",
            "  Created wheel for fpdf: filename=fpdf-1.7.2-py2.py3-none-any.whl size=40704 sha256=8ca185898240caccc85cdd3853cc2fa17b7a77817714ffcb03a2bf9faa252009\n",
            "  Stored in directory: /root/.cache/pip/wheels/f9/95/ba/f418094659025eb9611f17cbcaf2334236bf39a0c3453ea455\n",
            "Successfully built fpdf\n",
            "Installing collected packages: fpdf\n",
            "Successfully installed fpdf-1.7.2\n"
          ]
        }
      ]
    },
    {
      "cell_type": "code",
      "source": [
        "!pip install python-docx"
      ],
      "metadata": {
        "colab": {
          "base_uri": "https://localhost:8080/"
        },
        "id": "oIHuTeqilm84",
        "outputId": "026d5818-2ccd-4dfd-da38-ba121a5352cd"
      },
      "execution_count": 6,
      "outputs": [
        {
          "output_type": "stream",
          "name": "stdout",
          "text": [
            "Collecting python-docx\n",
            "  Downloading python_docx-1.1.2-py3-none-any.whl.metadata (2.0 kB)\n",
            "Requirement already satisfied: lxml>=3.1.0 in /usr/local/lib/python3.10/dist-packages (from python-docx) (4.9.4)\n",
            "Requirement already satisfied: typing-extensions>=4.9.0 in /usr/local/lib/python3.10/dist-packages (from python-docx) (4.12.2)\n",
            "Downloading python_docx-1.1.2-py3-none-any.whl (244 kB)\n",
            "\u001b[2K   \u001b[90m━━━━━━━━━━━━━━━━━━━━━━━━━━━━━━━━━━━━━━━━\u001b[0m \u001b[32m244.3/244.3 kB\u001b[0m \u001b[31m3.3 MB/s\u001b[0m eta \u001b[36m0:00:00\u001b[0m\n",
            "\u001b[?25hInstalling collected packages: python-docx\n",
            "Successfully installed python-docx-1.1.2\n"
          ]
        }
      ]
    },
    {
      "cell_type": "code",
      "source": [
        "#from genai import GenerativeModel\n",
        "from docx import Document\n",
        "from docx.shared import Pt\n",
        "import re\n",
        "import time"
      ],
      "metadata": {
        "id": "a1sqyTAmRfRw"
      },
      "execution_count": 7,
      "outputs": []
    },
    {
      "cell_type": "code",
      "source": [
        "# Used to securely store your API key\n",
        "from google.colab import userdata"
      ],
      "metadata": {
        "id": "eB61SnIWVKVm"
      },
      "execution_count": 8,
      "outputs": []
    },
    {
      "cell_type": "code",
      "source": [
        "import pathlib\n",
        "import textwrap\n",
        "\n",
        "import google.generativeai as genai\n",
        "\n",
        "from IPython.display import display\n",
        "from IPython.display import Markdown\n",
        "\n",
        "\n",
        "def to_markdown(text):\n",
        "  text = text.replace('•', '  *')\n",
        "  return Markdown(textwrap.indent(text, '> ', predicate=lambda _: True))"
      ],
      "metadata": {
        "id": "-hpD7lN6K1O2"
      },
      "execution_count": 9,
      "outputs": []
    },
    {
      "cell_type": "code",
      "source": [
        "# Or use `os.getenv('GOOGLE_API_KEY')` to fetch an environment variable.\n",
        "GOOGLE_API_KEY=userdata.get('GOOGLE_API_KEY')\n",
        "\n",
        "genai.configure(api_key=GOOGLE_API_KEY)"
      ],
      "metadata": {
        "id": "eyq9gB2IV8E7"
      },
      "execution_count": 10,
      "outputs": []
    },
    {
      "cell_type": "code",
      "source": [
        "model = genai.GenerativeModel('gemini-1.5-flash')"
      ],
      "metadata": {
        "id": "OdyzB6kgYN9b"
      },
      "execution_count": 11,
      "outputs": []
    },
    {
      "cell_type": "code",
      "source": [
        "from PyPDF2 import PdfReader\n",
        "\n",
        "def load_and_extract_text(file_path):\n",
        "    with open(file_path, 'rb') as file:\n",
        "        pdf_reader = PdfReader(file)\n",
        "        text = \"\"\n",
        "        for page in pdf_reader.pages:\n",
        "            text += page.extract_text()\n",
        "        return text"
      ],
      "metadata": {
        "id": "scs-j7SadNPa"
      },
      "execution_count": 12,
      "outputs": []
    },
    {
      "cell_type": "code",
      "execution_count": 13,
      "metadata": {
        "id": "yrZFX_ZGCAKu"
      },
      "outputs": [],
      "source": [
        "def generate_cover_letter(model,cv_text, job_description_text):\n",
        "\n",
        "    prompt = f\"\"\"Based on the provided job description and CV, write a concise, compelling and personalized cover letter that highlights relevant skills and experiences.\n",
        "\n",
        "    Job Description:\\n{job_description_text}\\n\\nCV:\\n{cv_text}\\n\\n\n",
        "\n",
        "    Tailor the letter to the specific job requirements and showcase the candidate's match for the position. Be sure to mention specific accomplishments and quantify results whenever possible. Keep the tone professional and precise based on the cv.\n",
        "    As concise as possible no more than 4 sentences. Avoid using adjectives unless neccessary , as less as possible , do not use emotive adjectives in any case, use only factual information based on the cv_text , finalize with best regards, Name where the name of the applicant is taken from the CV\"\"\"\n",
        "    print(\"HERE generate_cover_letter\")\n",
        "    response = model.generate_content(prompt)  # Remove the 'context' argument\n",
        "    print(\"after generate_cover_letter\")\n",
        "    return response"
      ]
    },
    {
      "cell_type": "code",
      "source": [
        "job_description = \"\"\" We're seeking an AI Developer to join our team. In this role, you'll leverage artificial intelligence and machine learning techniques to improve the invoice reconciliation process and create a unified data format across various financial systems.\n",
        "\n",
        "Responsibilities:\n",
        "- Develop and implement AI and machine learning models to automate invoice reconciliation\n",
        "- Create intelligent systems to unify diverse invoice data into a standardized format\n",
        "- Design and build natural language processing (NLP) solutions to extract key information from unstructured invoice data\n",
        "- Implement machine learning algorithms to identify patterns, anomalies, and potential errors in financial data\n",
        "- Collaborate with finance and accounting teams to understand business requirements and integrate AI solutions into existing workflows\n",
        "- Continuously improve and optimize AI models based on new data and changing business needs\n",
        "\n",
        "Requirements:\n",
        "- Masters or PhD in Computer Science, Artificial Intelligence, or related field\n",
        "- 3+ years of experience developing AI and machine learning solutions, preferably in finance or accounting domains\n",
        "- Strong programming skills in Python and experience with ML frameworks (e.g., TensorFlow, PyTorch, scikit-learn)\n",
        "- Experience with NLP techniques and text analysis\n",
        "- Familiarity with financial systems, ERP software, and accounting principles\n",
        "- Knowledge of data privacy and security best practices\n",
        "- Excellent problem-solving skills and ability to translate complex business requirements into technical solutions\n",
        "\n",
        "No agencies please.\n",
        "This individual must be available for 30h/week and during UK working hours.\n",
        "\n",
        "\"\"\""
      ],
      "metadata": {
        "id": "fh4UxsGzyvCh"
      },
      "execution_count": 14,
      "outputs": []
    },
    {
      "cell_type": "code",
      "source": [
        "cv_text = load_and_extract_text(\"CoverLetter/Data/CV_GPT_rev.pdf\")"
      ],
      "metadata": {
        "id": "w9qtW_RXdDwD"
      },
      "execution_count": 15,
      "outputs": []
    },
    {
      "cell_type": "code",
      "source": [
        "cv_text"
      ],
      "metadata": {
        "colab": {
          "base_uri": "https://localhost:8080/",
          "height": 88
        },
        "id": "dedzxL_GqtL8",
        "outputId": "453a0b94-5431-4832-e3f8-f3d17c253026"
      },
      "execution_count": 56,
      "outputs": [
        {
          "output_type": "execute_result",
          "data": {
            "text/plain": [
              "'Itay\\nBen-Dan\\nHaarava\\n20,\\nHerzliya\\nP.\\nO.\\nBox\\n5990,\\nHerzliya,\\nIsrael\\n46100\\nCellular:\\n+972544539284\\nEmail:\\nitaybd@gmail.com\\nProfessional\\nSummary\\nFull\\nStack\\nMachine\\nLearning\\nEngineer\\nwith\\nextensive\\nexperience\\nin\\ndata\\nengineering,\\nmodel\\ndevelopment,\\ndeployment,\\nand\\nmaintenance.\\nExpertise\\nin\\nsports,\\nfinance,\\nand\\nrobotics,\\nwith\\na\\nfocus\\non\\nadvanced\\ndata\\nanalytics\\nand\\nmachine\\nlearning,\\nincluding\\nLLMs\\nand\\nmulti-agent\\nsystems.\\nWork\\nExperience\\n2017-Present:\\nMachine\\nLearning\\nand\\nData\\nScience\\nConsultant\\n●\\nDeveloped\\npredictive\\nmodels\\nfrom\\nscratch,\\nincluding\\ndeployment.\\n●\\nConducted\\nexploratory\\ndata\\nanalysis\\nand\\nadvanced\\nfeature\\ngeneration.\\n●\\nIntegrated\\ndata\\nfrom\\nvarious\\nsources\\ninto\\nunified\\nformats.\\n●\\nDeveloped\\npolicy\\ngenerative\\nmodels\\nusing\\nreinforcement\\nlearning.\\n2017-Present:\\nFounder\\nand\\nHead\\nof\\nResearch,\\nFinzor\\nLtd.\\n●\\nDeveloped\\nportfolio\\nmanagement\\nand\\ninvestment\\nanalysis\\ntools.\\n●\\nLed\\na\\nteam\\nto\\ndeliver\\nsoftware\\nproducts\\nfrom\\ndesign\\nto\\nproduction.\\n2016-2017:\\nPrincipal\\nMachine\\nLearning,\\nPalo\\nAlto\\nNetworks\\n●\\nApplied\\nmachine\\nlearning\\nto\\nreverse\\nengineering\\nand\\nmalware\\nanalysis.\\n●\\nCreated\\nadaptive\\nmodels\\nfor\\nupdating\\nanti-malware\\nfilters\\nand\\nclassifiers.\\n2015-2016:\\nSenior\\nData\\nScientist,\\nSparkBeyond\\n●\\nWorked\\non\\nbig\\ndata\\npredictive\\nanalytics\\nand\\nmachine\\nlearning.\\n●\\nApplied\\nautomatic\\nfeature\\ngeneration\\nmethods\\nto\\ntime\\nseries\\nanalysis\\nand\\nreinforcement\\nlearning.\\n2011-2015:\\nSenior\\nQuantitative\\nResearcher,\\nWorldQuant●\\nDeveloped\\nautomated\\ncomputational\\nmethods\\nfor\\nquant-driven\\nstrategies.\\n●\\nApplied\\npredictive\\nanalytics\\nand\\nstatistical\\nmethods\\nacross\\nvarious\\nassets.\\n2010-2011:\\nSenior\\nSoftware\\nEngineer,\\nBroadcom\\n●\\nDesigned\\nnetwork\\nand\\npacket\\nprocessing\\nmethodologies.\\n●\\nImplemented\\nadvanced\\nautomated\\ntesting\\nmethods.\\n2008-2009:\\nFounder,\\nGenous\\nVision\\n●\\nDeveloped\\nalgorithms\\nfor\\nrecognizing\\nanatomies\\nin\\nultrasound\\nimages.\\nEducation\\n2009:\\nPh.D.\\nin\\nMathematics,\\nTechnion,\\nHaifa\\n●\\nTopic:\\nDiscrete\\nGeometry\\n●\\nSupervisor:\\nDr.\\nRom\\nPinchasi\\n2004:\\nM.Sc.\\nin\\nMathematics,\\nTechnion,\\nHaifa\\n●\\nTopic:\\nGame\\nTheory\\n●\\nThesis:\\nTime\\nSharing\\nunder\\nDichotomous\\nPreferences\\n●\\nGrade:\\n95\\n●\\nSupervisor:\\nProf.\\nRon\\nHolzman\\n2002:\\nB.Sc.\\nin\\nMathematics\\nand\\nComputer\\nScience,\\nTechnion,\\nHaifa\\n●\\nCum\\nLaude\\nSkills\\n●\\nProgramming\\nLanguages:\\nPython,\\nR,\\nC++,\\nJava\\n●\\nMachine\\nLearning\\nFrameworks:\\nTensorFlow,\\nPyTorch,\\nScikit-learn\\n●\\nData\\nAnalysis\\nTools:\\nPandas,\\nNumPy,\\nSQL\\n●\\nOther\\nTechnologies:\\nDocker,\\nKubernetes,\\nAWS,\\nGit,\\nLinux\\nProjects\\nTreeModelVis●\\nVisualization\\ntool\\nfor\\ntree-based\\nmodels,\\naiding\\nin\\nunderstanding\\ndecision\\npaths\\nand\\nfeature\\nimportance.\\n●\\nTechnologies\\nUsed:\\nPython,\\nD3.js\\n●\\nGitHub\\nRepository\\nPublications\\n●\\nPoints\\nwith\\nLarge\\nQuadrant\\nDepth.\\nJoCG\\n2(1):\\n128-143\\n(2011)\\n●\\nPoints\\nwith\\nlarge\\nquadrant\\ndepth.\\nSymposium\\non\\nComputational\\nGeometry\\n2010:\\n358-364\\n●\\nOn\\na\\nproblem\\nabout\\nquadrant\\ndepth.\\nComput.\\nGeom.\\n43(6-7):\\n587-592\\n(2010)\\n●\\nPoints\\nwith\\nlarge\\nalphadepth.\\nJ.\\nComb.\\nTheory,\\nSer.\\nA\\n116(3):\\n747-755\\n(2009)\\nContact\\nInformation\\n●\\nEmail:\\nitaybd@gmail.com\\n●\\nLinkedIn:\\nItay\\nBen-Dan\\nLinkedIn\\nProfile\\nThis\\nCV\\nis\\nconcise\\nand\\ntailored,\\nhighlighting\\nkey\\nskills\\nand\\nexperience\\nin\\na\\nclean,\\norganized\\nformat.'"
            ],
            "application/vnd.google.colaboratory.intrinsic+json": {
              "type": "string"
            }
          },
          "metadata": {},
          "execution_count": 56
        }
      ]
    },
    {
      "cell_type": "code",
      "source": [
        "generate_cover_letter(model,cv_text, job_description).text"
      ],
      "metadata": {
        "colab": {
          "base_uri": "https://localhost:8080/",
          "height": 88
        },
        "id": "xO8AqhoydojT",
        "outputId": "76e3c918-8c48-40e9-cae8-ca3b6c670698"
      },
      "execution_count": 16,
      "outputs": [
        {
          "output_type": "stream",
          "name": "stdout",
          "text": [
            "HERE generate_cover_letter\n",
            "after generate_cover_letter\n"
          ]
        },
        {
          "output_type": "execute_result",
          "data": {
            "text/plain": [
              "'Dear Hiring Manager,\\n\\nI am writing to express my interest in the AI Developer position at your company. My extensive experience in developing and deploying AI and machine learning solutions, particularly in the finance and accounting domains, aligns well with your requirements. I have a proven track record of success in projects involving data engineering, model development, and integration of AI solutions into existing workflows. I am confident that my skills and experience would be a valuable asset to your team. \\n\\nBest regards,\\n\\nItay Ben-Dan \\n'"
            ],
            "application/vnd.google.colaboratory.intrinsic+json": {
              "type": "string"
            }
          },
          "metadata": {},
          "execution_count": 16
        }
      ]
    },
    {
      "cell_type": "code",
      "source": [
        "def extract_key_phrases(model, cover_letter_text, job_description_text, num_phrases=4):\n",
        "    \"\"\"\n",
        "    Extracts key phrases from a cover letter based on their relevance to a job description using Gemini.\n",
        "\n",
        "    Args:\n",
        "        model: The Gemini language model instance.\n",
        "        cover_letter_text: The text of the cover letter.\n",
        "        job_description_text: The text of the job description.\n",
        "        num_phrases: The number of phrases to extract (default is 4).\n",
        "\n",
        "    Returns:\n",
        "        A list of the most important phrases.\n",
        "    \"\"\"\n",
        "\n",
        "    prompt = f\"\"\"Given the following cover letter and job description, identify the {num_phrases} most important words or two-word expressions in the cover letter that are most relevant to the job description.\n",
        "    These words or Two words expression should show professional skills of the candidate they should reflecy the candidate as a doer, if it is an action like developing/programming it should be accompanied with the subject of the action. such as :\n",
        "    developing AI models.\n",
        "\n",
        "    Cover Letter:\n",
        "    {cover_letter_text}\n",
        "\n",
        "    Job Description:\n",
        "    {job_description_text}\n",
        "    \"\"\"\n",
        "    print(\"HERE key phrases\")\n",
        "    response = model.generate_content(prompt)\n",
        "\n",
        "    # Extract key phrases from response\n",
        "    important_phrases = response.text.split('\\n')  # Assuming each phrase is on a new line\n",
        "    print(len(important_phrases))\n",
        "    return important_phrases"
      ],
      "metadata": {
        "id": "hCqxY9clh-rH"
      },
      "execution_count": 17,
      "outputs": []
    },
    {
      "cell_type": "code",
      "source": [
        "time.sleep(3)\n",
        "job_description = job_description #load_and_extract_text(\"job_description.pdf\")\n",
        "cv_text = load_and_extract_text(\"CoverLetter/Data/CV_GPT_rev.pdf\")\n",
        "cover_letter_text = generate_cover_letter(model,cv_text, job_description).text\n",
        "\"\"\"\n",
        "for k in cover_letter_text.split(\".\"):\n",
        "  print(k)\n",
        "time.sleep(3)\n",
        "key_phrases = extract_key_phrases(model, cover_letter_text, job_description, num_phrases=3)\n",
        "for k in key_phrases:\n",
        "  print(\"#\"*30)\n",
        "  print(k)\n",
        "\"\"\""
      ],
      "metadata": {
        "colab": {
          "base_uri": "https://localhost:8080/",
          "height": 71
        },
        "id": "CC26_KnJNl7k",
        "outputId": "808d8592-f214-4672-ff96-999a68eaee47"
      },
      "execution_count": 20,
      "outputs": [
        {
          "output_type": "stream",
          "name": "stdout",
          "text": [
            "HERE generate_cover_letter\n",
            "after generate_cover_letter\n"
          ]
        },
        {
          "output_type": "execute_result",
          "data": {
            "text/plain": [
              "'\\nfor k in cover_letter_text.split(\".\"):\\n  print(k)\\ntime.sleep(3)\\nkey_phrases = extract_key_phrases(model, cover_letter_text, job_description, num_phrases=3)\\nfor k in key_phrases:\\n  print(\"#\"*30)\\n  print(k)\\n'"
            ],
            "application/vnd.google.colaboratory.intrinsic+json": {
              "type": "string"
            }
          },
          "metadata": {},
          "execution_count": 20
        }
      ]
    },
    {
      "cell_type": "code",
      "source": [
        "def extract_strings(key_phrases):\n",
        "  R= []\n",
        "  for k in key_phrases:\n",
        "    A = (re.findall('\\*\\*.*?\\*\\*',k))\n",
        "    if len(A)>0:\n",
        "      R += re.findall('[A-Za-z\\ 0-9]+',A[0])\n",
        "  return R"
      ],
      "metadata": {
        "id": "ZPDpn1jp0eS1"
      },
      "execution_count": 18,
      "outputs": []
    },
    {
      "cell_type": "code",
      "source": [
        "extract_strings(extract_key_phrases(model, cover_letter_text, job_description, num_phrases=3))"
      ],
      "metadata": {
        "colab": {
          "base_uri": "https://localhost:8080/",
          "height": 69
        },
        "id": "5IeUwuSB4tJx",
        "outputId": "d428d029-be43-4f58-c64b-aa819b1fad62"
      },
      "execution_count": 21,
      "outputs": [
        {
          "output_type": "stream",
          "name": "stdout",
          "text": [
            "HERE key phrases\n",
            "6\n"
          ]
        },
        {
          "output_type": "execute_result",
          "data": {
            "text/plain": [
              "['Developing AI models', 'Integrating diverse data', 'NLP techniques']"
            ]
          },
          "metadata": {},
          "execution_count": 21
        }
      ]
    },
    {
      "cell_type": "code",
      "source": [
        "from docx import Document\n",
        "from docx.shared import Pt\n",
        "from docx.oxml.ns import qn\n",
        "from docx.oxml import OxmlElement\n",
        "\n",
        "def bold_strings_in_text(text, bold_strings, output_doc):\n",
        "    # Create a new Document\n",
        "    doc = Document()\n",
        "\n",
        "    # Add the text to the document, with specified strings in bold\n",
        "    para = doc.add_paragraph()\n",
        "    parts = split_text(text, bold_strings)\n",
        "\n",
        "    for part in parts:\n",
        "        if part.lower() in [s.lower() for s in bold_strings]:\n",
        "            run = para.add_run(part)\n",
        "            run.bold = True\n",
        "        else:\n",
        "            para.add_run(part)\n",
        "\n",
        "    # Save the document\n",
        "    doc.save(output_doc)\n",
        "\n",
        "def split_text(text, bold_strings):\n",
        "    import re\n",
        "    pattern = '|'.join(re.escape(s) for s in bold_strings)\n",
        "    parts = re.split(f'({pattern})', text)\n",
        "    print(parts)\n",
        "    return parts\n",
        "\n",
        "# Example usage\n",
        "text = \"This is a sample text. We want some words like sample and words to be bold.\"\n",
        "bold_strings = [\"sample\", \"words\"]\n",
        "bold_strings_in_text(text, bold_strings,\"output.docx\")\n",
        "\n"
      ],
      "metadata": {
        "colab": {
          "base_uri": "https://localhost:8080/"
        },
        "id": "NpV3EAEf5AQG",
        "outputId": "6aecfb85-3046-46b2-c61d-38cac3a6e1d2"
      },
      "execution_count": 22,
      "outputs": [
        {
          "output_type": "stream",
          "name": "stdout",
          "text": [
            "['This is a ', 'sample', ' text. We want some ', 'words', ' like ', 'sample', ' and ', 'words', ' to be bold.']\n"
          ]
        }
      ]
    },
    {
      "cell_type": "code",
      "source": [
        "cl_text = generate_cover_letter(model,cv_text, job_description).text\n",
        "strings = extract_strings(extract_key_phrases(model, cl_text, job_description, num_phrases=3))\n",
        "bold_strings_in_text(cl_text, strings, \"test2.docx\")"
      ],
      "metadata": {
        "colab": {
          "base_uri": "https://localhost:8080/",
          "height": 124
        },
        "id": "Tqeq5Cgn5otS",
        "outputId": "387144ea-ce64-4e58-8e17-7bc3ed7915c9"
      },
      "execution_count": 23,
      "outputs": [
        {
          "output_type": "stream",
          "name": "stdout",
          "text": [
            "HERE generate_cover_letter\n",
            "after generate_cover_letter\n",
            "HERE key phrases\n",
            "6\n",
            "['Dear Hiring Manager,\\n\\nI am writing to express my strong interest in the AI Developer position at your company. My extensive experience in developing and deploying AI solutions, particularly ', 'in finance and data analytics', \", aligns well with your requirements. My expertise in Python, machine learning frameworks, and NLP techniques, combined with my experience in building and integrating AI systems into financial workflows, make me a suitable candidate.  I am particularly interested in the opportunity to leverage my skills in invoice reconciliation and data unification, and I am eager to contribute to your team's success. \\n\\nBest Regards,\\n\\nItay Ben-Dan\\n\"]\n"
          ]
        }
      ]
    },
    {
      "cell_type": "code",
      "source": [
        "print(strings)"
      ],
      "metadata": {
        "colab": {
          "base_uri": "https://localhost:8080/"
        },
        "id": "oCzpElqwdp_n",
        "outputId": "d7b6a48d-e786-4571-c923-84dd7bc64be6"
      },
      "execution_count": 24,
      "outputs": [
        {
          "output_type": "stream",
          "name": "stdout",
          "text": [
            "['Developing AI solutions ', 'in finance and data analytics', 'Building and integrating AI systems into financial workflows', 'Leveraging skills in invoice reconciliation and data unification']\n"
          ]
        }
      ]
    },
    {
      "cell_type": "code",
      "source": [
        "cl_text"
      ],
      "metadata": {
        "colab": {
          "base_uri": "https://localhost:8080/",
          "height": 53
        },
        "id": "37GpRjmhHvFW",
        "outputId": "de334685-59c2-4a7a-f144-fdce95603077"
      },
      "execution_count": 65,
      "outputs": [
        {
          "output_type": "execute_result",
          "data": {
            "text/plain": [
              "\"Dear Hiring Manager,\\n\\nMy experience as a Machine Learning Engineer with extensive expertise in developing and deploying AI solutions, particularly in finance, aligns well with the requirements for this role. I have successfully developed predictive models, integrated diverse data into unified formats, and applied NLP techniques for data extraction. I am confident in my ability to contribute significantly to your team's efforts to automate invoice reconciliation and optimize financial processes. \\n\\nBest Regards, \\nItay Ben-Dan \\n\""
            ],
            "application/vnd.google.colaboratory.intrinsic+json": {
              "type": "string"
            }
          },
          "metadata": {},
          "execution_count": 65
        }
      ]
    },
    {
      "cell_type": "code",
      "source": [
        "!ls"
      ],
      "metadata": {
        "colab": {
          "base_uri": "https://localhost:8080/"
        },
        "id": "TxWAcOH0dcDX",
        "outputId": "df1c758d-0de3-48d7-a4a3-0a8ffd72c9fa"
      },
      "execution_count": 66,
      "outputs": [
        {
          "output_type": "stream",
          "name": "stdout",
          "text": [
            "CoverLetter  output.docx  output_professional.pdf  sample_data\ttest2.docx\n"
          ]
        }
      ]
    },
    {
      "cell_type": "code",
      "source": [
        "!pip install python-docx reportlab pypandoc"
      ],
      "metadata": {
        "colab": {
          "base_uri": "https://localhost:8080/"
        },
        "id": "ZfIQHI25AyE2",
        "outputId": "1f36c73f-a226-4796-f9e8-8d6b0357dfba"
      },
      "execution_count": 25,
      "outputs": [
        {
          "output_type": "stream",
          "name": "stdout",
          "text": [
            "Requirement already satisfied: python-docx in /usr/local/lib/python3.10/dist-packages (1.1.2)\n",
            "Collecting reportlab\n",
            "  Downloading reportlab-4.2.2-py3-none-any.whl.metadata (1.4 kB)\n",
            "Collecting pypandoc\n",
            "  Downloading pypandoc-1.13-py3-none-any.whl.metadata (16 kB)\n",
            "Requirement already satisfied: lxml>=3.1.0 in /usr/local/lib/python3.10/dist-packages (from python-docx) (4.9.4)\n",
            "Requirement already satisfied: typing-extensions>=4.9.0 in /usr/local/lib/python3.10/dist-packages (from python-docx) (4.12.2)\n",
            "Requirement already satisfied: pillow>=9.0.0 in /usr/local/lib/python3.10/dist-packages (from reportlab) (9.4.0)\n",
            "Requirement already satisfied: chardet in /usr/local/lib/python3.10/dist-packages (from reportlab) (5.2.0)\n",
            "Downloading reportlab-4.2.2-py3-none-any.whl (1.9 MB)\n",
            "\u001b[2K   \u001b[90m━━━━━━━━━━━━━━━━━━━━━━━━━━━━━━━━━━━━━━━━\u001b[0m \u001b[32m1.9/1.9 MB\u001b[0m \u001b[31m16.4 MB/s\u001b[0m eta \u001b[36m0:00:00\u001b[0m\n",
            "\u001b[?25hDownloading pypandoc-1.13-py3-none-any.whl (21 kB)\n",
            "Installing collected packages: reportlab, pypandoc\n",
            "Successfully installed pypandoc-1.13 reportlab-4.2.2\n"
          ]
        }
      ]
    },
    {
      "cell_type": "code",
      "source": [
        "from docx import Document\n",
        "import re\n",
        "import pypandoc\n",
        "from reportlab.lib.pagesizes import letter\n",
        "from reportlab.pdfgen import canvas"
      ],
      "metadata": {
        "id": "asVLIGH_CVwd"
      },
      "execution_count": 26,
      "outputs": []
    },
    {
      "cell_type": "code",
      "source": [
        "!pip install docx2pdf"
      ],
      "metadata": {
        "colab": {
          "base_uri": "https://localhost:8080/"
        },
        "id": "rCfE-HPko4M3",
        "outputId": "cdde574a-4861-49ce-b198-06935ec4a854"
      },
      "execution_count": 27,
      "outputs": [
        {
          "output_type": "stream",
          "name": "stdout",
          "text": [
            "Collecting docx2pdf\n",
            "  Downloading docx2pdf-0.1.8-py3-none-any.whl.metadata (3.3 kB)\n",
            "Requirement already satisfied: tqdm>=4.41.0 in /usr/local/lib/python3.10/dist-packages (from docx2pdf) (4.66.5)\n",
            "Downloading docx2pdf-0.1.8-py3-none-any.whl (6.7 kB)\n",
            "Installing collected packages: docx2pdf\n",
            "Successfully installed docx2pdf-0.1.8\n"
          ]
        }
      ]
    },
    {
      "cell_type": "code",
      "source": [
        "from docx import Document\n",
        "import re\n",
        "from reportlab.lib.pagesizes import letter\n",
        "from reportlab.pdfgen import canvas\n",
        "from io import BytesIO\n"
      ],
      "metadata": {
        "id": "5WKdksutokW3"
      },
      "execution_count": 28,
      "outputs": []
    },
    {
      "cell_type": "code",
      "source": [
        "def convert_docx_to_pdf(input_docx, output_pdf, title, name):\n",
        "    # Convert docx to PDF using BytesIO to avoid creating temporary files\n",
        "    pdf_buffer = BytesIO()\n",
        "    pdf = canvas.Canvas(pdf_buffer, pagesize=letter)\n",
        "    width, height = letter\n",
        "\n",
        "    # Add title and name\n",
        "    pdf.setFont(\"Helvetica-Bold\", 16)\n",
        "    pdf.drawString(72, height - 72, title)\n",
        "    pdf.setFont(\"Helvetica\", 12)\n",
        "    pdf.drawString(72, height - 92, name)\n",
        "\n",
        "    # Read the docx file and add content to the PDF\n",
        "    doc = Document(input_docx)\n",
        "    text_object = pdf.beginText(72, height - 112)\n",
        "    text_object.setFont(\"Helvetica\", 10)\n",
        "\n",
        "    for para in doc.paragraphs:\n",
        "        for run in para.runs:\n",
        "            if run.bold:\n",
        "                text_object.setFont(\"Helvetica-Bold\", 10)\n",
        "            else:\n",
        "                text_object.setFont(\"Helvetica\", 10)\n",
        "            text_object.textLine(run.text)\n",
        "\n",
        "    pdf.drawText(text_object)\n",
        "    pdf.save()"
      ],
      "metadata": {
        "id": "rQjyQehNCYX3"
      },
      "execution_count": 29,
      "outputs": []
    },
    {
      "cell_type": "code",
      "source": [
        "name = \"Itay Ben-Dan\"\n",
        "title = \"AI Developer Application\"\n",
        "cl_pdf_name = \"output.docx\"\n",
        "output_doc_name = \"cl_output.pdf\"\n",
        "convert_docx_to_pdf(cl_pdf_name, output_doc_name, title, name)"
      ],
      "metadata": {
        "id": "k1bGwb0pCpsM"
      },
      "execution_count": 30,
      "outputs": []
    },
    {
      "cell_type": "code",
      "source": [
        "from reportlab.lib.pagesizes import letter\n",
        "from reportlab.pdfgen import canvas\n",
        "from reportlab.lib.styles import getSampleStyleSheet, ParagraphStyle\n",
        "from reportlab.platypus import SimpleDocTemplate, Paragraph, Spacer\n",
        "from reportlab.lib.units import inch\n",
        "import re\n",
        "\n",
        "def create_pdf_with_bold_strings(output_pdf, title, name, text, bold_strings):\n",
        "    # Create the PDF document\n",
        "    pdf = SimpleDocTemplate(output_pdf, pagesize=letter)\n",
        "    styles = getSampleStyleSheet()\n",
        "    story = []\n",
        "\n",
        "    # Define custom styles for title and body text\n",
        "    title_style = ParagraphStyle(name='Title', fontSize=16, leading=20, spaceAfter=20, alignment=1)\n",
        "    name_style = ParagraphStyle(name='Name', fontSize=12, leading=14, spaceAfter=14, alignment=1)\n",
        "    body_style = styles['BodyText']\n",
        "    bold_style = ParagraphStyle(name='Bold', parent=styles['BodyText'], fontName='Helvetica-Bold')\n",
        "\n",
        "    # Add title\n",
        "    story.append(Paragraph(title, title_style))\n",
        "\n",
        "    # Add name\n",
        "    story.append(Paragraph(name, name_style))\n",
        "    story.append(Spacer(1, 12))\n",
        "\n",
        "    # Process and add the main text with bold strings\n",
        "    parts = split_text(text, bold_strings)\n",
        "    for part in parts:\n",
        "        if any(re.fullmatch(re.escape(b), part, re.IGNORECASE) for b in bold_strings):\n",
        "            story.append(Paragraph(part, bold_style))\n",
        "        else:\n",
        "            story.append(Paragraph(part, body_style))\n",
        "\n",
        "    # Build the PDF\n",
        "    pdf.build(story)\n",
        "\n",
        "def split_text(text, bold_strings):\n",
        "    pattern = '|'.join(re.escape(s) for s in bold_strings)\n",
        "    parts = re.split(f'({pattern})', text, flags=re.IGNORECASE)\n",
        "    return parts\n",
        "\n",
        "# Example usage\n",
        "cv_text = \"John Doe\"\n",
        "text = \"\"\"Dear Hiring Manager,\n",
        "\n",
        "I am writing to express my strong interest in the AI Developer position at your company. My extensive experience in developing and deploying AI solutions, particularly in finance and data analytics, aligns well with your requirements. My accomplishments include building predictive models from scratch, integrating data from diverse sources into unified formats, and creating adaptive models for updating anti-malware filters. I am confident that my skills and experience would be a valuable asset to your team.\n",
        "\"\"\"\n",
        "bold_strings = [\"developing and deploying AI solutions\", \"integrating data from diverse sources\", \"creating adaptive models\"]\n",
        "output_pdf = \"output_professional.pdf\"\n",
        "title = \"AI Developer Application\"\n",
        "\n",
        "create_pdf_with_bold_strings(output_pdf, title, cv_text, text, bold_strings)\n"
      ],
      "metadata": {
        "id": "V5Nww8qVsII_"
      },
      "execution_count": 31,
      "outputs": []
    },
    {
      "cell_type": "code",
      "source": [
        "\"\"\"\n",
        "!git clone https://github.com/openai/openai-quickstart-node.git\n",
        "!pip install openai\n",
        "!pip install tiktoken\n",
        "!pip install python-dotenv\n",
        "import os\n",
        "os.chdir(\"openai-quickstart-node\")\n",
        "\"\"\""
      ],
      "metadata": {
        "colab": {
          "base_uri": "https://localhost:8080/",
          "height": 36
        },
        "id": "J7_M39b1Nhmh",
        "outputId": "af2ef535-23c8-4d5f-8538-2b95e035a725"
      },
      "execution_count": 74,
      "outputs": [
        {
          "output_type": "execute_result",
          "data": {
            "text/plain": [
              "'\\n!git clone https://github.com/openai/openai-quickstart-node.git\\n!pip install openai\\n!pip install tiktoken\\n!pip install python-dotenv\\nimport os\\nos.chdir(\"openai-quickstart-node\")\\n'"
            ],
            "application/vnd.google.colaboratory.intrinsic+json": {
              "type": "string"
            }
          },
          "metadata": {},
          "execution_count": 74
        }
      ]
    },
    {
      "cell_type": "code",
      "source": [
        "!pip install openai==0.28"
      ],
      "metadata": {
        "colab": {
          "base_uri": "https://localhost:8080/"
        },
        "id": "nUboZeAQMVUc",
        "outputId": "53fff613-6c20-4ad7-de2b-df46ddf7a533"
      },
      "execution_count": 32,
      "outputs": [
        {
          "output_type": "stream",
          "name": "stdout",
          "text": [
            "Collecting openai==0.28\n",
            "  Downloading openai-0.28.0-py3-none-any.whl.metadata (13 kB)\n",
            "Requirement already satisfied: requests>=2.20 in /usr/local/lib/python3.10/dist-packages (from openai==0.28) (2.32.3)\n",
            "Requirement already satisfied: tqdm in /usr/local/lib/python3.10/dist-packages (from openai==0.28) (4.66.5)\n",
            "Requirement already satisfied: aiohttp in /usr/local/lib/python3.10/dist-packages (from openai==0.28) (3.10.2)\n",
            "Requirement already satisfied: charset-normalizer<4,>=2 in /usr/local/lib/python3.10/dist-packages (from requests>=2.20->openai==0.28) (3.3.2)\n",
            "Requirement already satisfied: idna<4,>=2.5 in /usr/local/lib/python3.10/dist-packages (from requests>=2.20->openai==0.28) (3.7)\n",
            "Requirement already satisfied: urllib3<3,>=1.21.1 in /usr/local/lib/python3.10/dist-packages (from requests>=2.20->openai==0.28) (2.0.7)\n",
            "Requirement already satisfied: certifi>=2017.4.17 in /usr/local/lib/python3.10/dist-packages (from requests>=2.20->openai==0.28) (2024.7.4)\n",
            "Requirement already satisfied: aiohappyeyeballs>=2.3.0 in /usr/local/lib/python3.10/dist-packages (from aiohttp->openai==0.28) (2.3.5)\n",
            "Requirement already satisfied: aiosignal>=1.1.2 in /usr/local/lib/python3.10/dist-packages (from aiohttp->openai==0.28) (1.3.1)\n",
            "Requirement already satisfied: attrs>=17.3.0 in /usr/local/lib/python3.10/dist-packages (from aiohttp->openai==0.28) (24.2.0)\n",
            "Requirement already satisfied: frozenlist>=1.1.1 in /usr/local/lib/python3.10/dist-packages (from aiohttp->openai==0.28) (1.4.1)\n",
            "Requirement already satisfied: multidict<7.0,>=4.5 in /usr/local/lib/python3.10/dist-packages (from aiohttp->openai==0.28) (6.0.5)\n",
            "Requirement already satisfied: yarl<2.0,>=1.0 in /usr/local/lib/python3.10/dist-packages (from aiohttp->openai==0.28) (1.9.4)\n",
            "Requirement already satisfied: async-timeout<5.0,>=4.0 in /usr/local/lib/python3.10/dist-packages (from aiohttp->openai==0.28) (4.0.3)\n",
            "Downloading openai-0.28.0-py3-none-any.whl (76 kB)\n",
            "\u001b[?25l   \u001b[90m━━━━━━━━━━━━━━━━━━━━━━━━━━━━━━━━━━━━━━━━\u001b[0m \u001b[32m0.0/76.5 kB\u001b[0m \u001b[31m?\u001b[0m eta \u001b[36m-:--:--\u001b[0m\r\u001b[2K   \u001b[91m━━━━━━━━━━━━━━━━━━━━━━━━━━━━━━━━━━━━━\u001b[0m\u001b[90m╺\u001b[0m\u001b[90m━━\u001b[0m \u001b[32m71.7/76.5 kB\u001b[0m \u001b[31m2.7 MB/s\u001b[0m eta \u001b[36m0:00:01\u001b[0m\r\u001b[2K   \u001b[90m━━━━━━━━━━━━━━━━━━━━━━━━━━━━━━━━━━━━━━━━\u001b[0m \u001b[32m76.5/76.5 kB\u001b[0m \u001b[31m1.8 MB/s\u001b[0m eta \u001b[36m0:00:00\u001b[0m\n",
            "\u001b[?25hInstalling collected packages: openai\n",
            "Successfully installed openai-0.28.0\n"
          ]
        }
      ]
    },
    {
      "cell_type": "code",
      "source": [
        "import os\n",
        "import openai\n",
        "import sys\n",
        "from google.colab import userdata\n",
        "\n",
        "OPENAI_API_KEY=userdata.get('OPENAI_API_KEY2')\n",
        "\n",
        "openai.api_key  = OPENAI_API_KEY"
      ],
      "metadata": {
        "id": "rFaLFWH-5a4y"
      },
      "execution_count": 33,
      "outputs": []
    },
    {
      "cell_type": "code",
      "source": [
        "\n",
        "#prompt = f\"\"\"Based on the provided job description and CV, write a concise, compelling and personalized cover letter that highlights relevant skills and experiences.\n",
        "\n",
        "#    Job Description:\\n{job_description_text}\\n\\nCV:\\n{cv_text}\\n\\n\n",
        "\n",
        "#    Tailor the letter to the specific job requirements and showcase the candidate's match for the position. Be sure to mention specific accomplishments and quantify results whenever possible. Keep the tone professional and precise based on the cv.\n",
        "#    As concise as possible no more than 4 sentences. Avoid using adjectives unless neccessary , as less as possible , do not use emotive adjectives in any case, use only factual information based on the cv_text , finalize with best regards, Name where the name of the applicant is taken from the CV\"\"\"\n"
      ],
      "metadata": {
        "id": "siwXieTaJhUf"
      },
      "execution_count": 77,
      "outputs": []
    },
    {
      "cell_type": "code",
      "source": [
        "import openai\n",
        "\n",
        "def generate_improved_text_critique(prompt):\n",
        "    response = openai.ChatCompletion.create(\n",
        "        model=\"gpt-4o\",\n",
        "        messages=[\n",
        "            {\"role\": \"system\", \"content\": \"You are a highly experienced career coach and recruiter. Your job is to critically evaluate cover letters based on job descriptions, resumes (CVs), and the expected professional standards for the role. You provide detailed feedback on various aspects of the cover letter.\"},\n",
        "            {\"role\": \"user\", \"content\": prompt}\n",
        "        ]\n",
        "\n",
        "    )\n",
        "    return response['choices'][0]['message']['content'].strip()\n",
        "\n",
        "# Function to create the prompt\n",
        "def create_critique_prompt(cover_letter_pdf, cv_text, job_description):\n",
        "    prompt = f\"\"\"\n",
        "    I need you to critique a cover letter that was submitted for an AI Developer role. The cover letter is provided as a PDF file, and I'll summarize its content below. The candidate's resume (CV) and the job description are also provided. Please evaluate the cover letter based on the following criteria:\n",
        "\n",
        "    1. **Relevance to the Job**: Does the cover letter effectively address the specific responsibilities and requirements of the job as described in the job description?\n",
        "    2. **Form and Structure**: Is the cover letter well-organized and professionally formatted? Does it follow standard cover letter conventions?\n",
        "    3. **Reliability**: Does the cover letter convey a sense of reliability and trustworthiness? Is it free from errors and inconsistencies?\n",
        "    4. **Professional Matching**: Does the cover letter demonstrate that the candidate's skills, experience, and background match the job's requirements?\n",
        "    5. **Overall Impression**: How compelling is the cover letter in making the case that the candidate is a strong fit for the role?\n",
        "\n",
        "    After critiquing the cover letter on these criteria, please provide an overall grade on a scale of 1-10, where 10 is the best.\n",
        "\n",
        "    Here are the details:\n",
        "\n",
        "    **Cover Letter Summary**:\n",
        "    (Provide a summary of the content of the cover letter extracted from the PDF.)\n",
        "\n",
        "    **Resume (CV) Text**:\n",
        "    {cv_text}\n",
        "\n",
        "    **Job Description**:\n",
        "    {job_description}\n",
        "\n",
        "    Please provide a detailed critique with specific points for improvement and an overall grade in the following format #Overall Grade : NUMBER#  where number is on the scale of 1-10. it is essential to keep this format in tact,\n",
        "    I repeat keep this format in tact.\n",
        "    \"\"\"\n",
        "    return generate_improved_text_critique(prompt)"
      ],
      "metadata": {
        "id": "ehj8i6iXlwPx"
      },
      "execution_count": 34,
      "outputs": []
    },
    {
      "cell_type": "code",
      "source": [
        "import openai\n",
        "import re\n",
        "\n",
        "def generate_improved_text_critique(prompt):\n",
        "    response = openai.ChatCompletion.create(\n",
        "        model=\"gpt-4\",\n",
        "        messages=[\n",
        "            {\"role\": \"system\", \"content\": \"You are a highly experienced career coach and recruiter. Your job is to critically evaluate cover letters based on job descriptions, resumes (CVs), and the expected professional standards for the role. You provide detailed feedback on various aspects of the cover letter.\"},\n",
        "            {\"role\": \"user\", \"content\": prompt}\n",
        "        ]\n",
        "    )\n",
        "    content = response['choices'][0]['message']['content'].strip()\n",
        "\n",
        "    # Extract the overall grade using regex to ensure consistency\n",
        "    match = re.search(r\"#Overall Grade\\s*:\\s*(\\d{1,2})#\", content)\n",
        "    if match:\n",
        "        grade = match.group(1)\n",
        "    else:\n",
        "        grade = \"N/A\"  # Default in case the grade is missing or incorrectly formatted\n",
        "\n",
        "    return content, grade\n",
        "\n",
        "# Function to create the prompt\n",
        "def create_critique_prompt(cover_letter_summary, cv_text, job_description):\n",
        "    prompt = f\"\"\"\n",
        "    I need you to critique a cover letter that was submitted for an AI Developer role. The cover letter is provided as a PDF file, and I'll summarize its content below. The candidate's resume (CV) and the job description are also provided. Please evaluate the cover letter based on the following criteria:\n",
        "\n",
        "    1. **Relevance to the Job**: Does the cover letter effectively address the specific responsibilities and requirements of the job as described in the job description?\n",
        "    2. **Form and Structure**: Is the cover letter well-organized and professionally formatted? Does it follow standard cover letter conventions?\n",
        "    3. **Reliability**: Does the cover letter convey a sense of reliability and trustworthiness? Is it free from errors and inconsistencies?\n",
        "    4. **Professional Matching**: Does the cover letter demonstrate that the candidate's skills, experience, and background match the job's requirements?\n",
        "    5. **Overall Impression**: How compelling is the cover letter in making the case that the candidate is a strong fit for the role?\n",
        "\n",
        "    After critiquing the cover letter on these criteria, please provide an overall grade on a scale of 1-10, where 10 is the best.\n",
        "\n",
        "    Here are the details:\n",
        "\n",
        "    **Cover Letter Summary**:\n",
        "    {cover_letter_summary}\n",
        "\n",
        "    **Resume (CV) Text**:\n",
        "    {cv_text}\n",
        "\n",
        "    **Job Description**:\n",
        "    {job_description}\n",
        "\n",
        "    Please provide a detailed critique with specific points for improvement and an overall grade in the following format:\n",
        "\n",
        "    **#Overall Grade : NUMBER#**\n",
        "\n",
        "    It is essential to keep this format intact. Please ensure that the grade is clearly provided using this exact format at the end of your response.\n",
        "    \"\"\"\n",
        "    return generate_improved_text_critique(prompt)\n",
        "\n"
      ],
      "metadata": {
        "id": "AWbBwVKeOmic"
      },
      "execution_count": 35,
      "outputs": []
    },
    {
      "cell_type": "code",
      "source": [
        "import openai\n",
        "import re\n",
        "\n",
        "class GradeExtractionError(Exception):\n",
        "    \"\"\"Custom exception for errors in extracting the grade.\"\"\"\n",
        "    pass\n",
        "\n",
        "def generate_improved_text_critique(prompt):\n",
        "    response = openai.ChatCompletion.create(\n",
        "        model=\"gpt-4\",\n",
        "        messages=[\n",
        "            {\"role\": \"system\", \"content\": \"You are a highly experienced career coach and recruiter. Your job is to critically evaluate cover letters based on job descriptions, resumes (CVs), and the expected professional standards for the role. You provide detailed feedback on various aspects of the cover letter.\"},\n",
        "            {\"role\": \"user\", \"content\": prompt}\n",
        "        ]\n",
        "    )\n",
        "    content = response['choices'][0]['message']['content'].strip()\n",
        "\n",
        "    # Attempt to extract the grade using regex\n",
        "    match = re.search(r\"Overall Grade.*?(\\d+(\\.\\d+)?)\", content, re.IGNORECASE)\n",
        "    if match:\n",
        "        grade = match.group(1)\n",
        "    else:\n",
        "        # If grade is not found, raise an exception\n",
        "        raise GradeExtractionError(\"Failed to extract overall grade from the critique. Please review the critique content.\")\n",
        "\n",
        "    return content, grade\n",
        "\n",
        "# Function to create the prompt\n",
        "def create_critique_prompt(cover_letter_summary, cv_text, job_description):\n",
        "    prompt = f\"\"\"\n",
        "    I need you to critique a cover letter that was submitted for an AI Developer role. The cover letter is provided as a PDF file, and I'll summarize its content below. The candidate's resume (CV) and the job description are also provided. Please evaluate the cover letter based on the following criteria:\n",
        "\n",
        "    1. **Relevance to the Job**: Does the cover letter effectively address the specific responsibilities and requirements of the job as described in the job description?\n",
        "    2. **Form and Structure**: Is the cover letter well-organized and professionally formatted? Does it follow standard cover letter conventions?\n",
        "    3. **Reliability**: Does the cover letter convey a sense of reliability and trustworthiness? Is it free from errors and inconsistencies?\n",
        "    4. **Professional Matching**: Does the cover letter demonstrate that the candidate's skills, experience, and background match the job's requirements?\n",
        "    5. **Overall Impression**: How compelling is the cover letter in making the case that the candidate is a strong fit for the role?\n",
        "\n",
        "    After critiquing the cover letter on these criteria, please provide an overall grade on a scale of 1-10, where 10 is the best.\n",
        "\n",
        "    Here are the details:\n",
        "\n",
        "    **Cover Letter Summary**:\n",
        "    {cover_letter_summary}\n",
        "\n",
        "    **Resume (CV) Text**:\n",
        "    {cv_text}\n",
        "\n",
        "    **Job Description**:\n",
        "    {job_description}\n",
        "\n",
        "    Please provide a detailed critique with specific points for improvement and an overall grade in the following format:\n",
        "\n",
        "    **#Overall Grade : NUMBER#**\n",
        "\n",
        "    It is essential to keep this format intact. Please ensure that the grade is clearly provided using this exact format at the end of your response.\n",
        "    \"\"\"\n",
        "    return generate_improved_text_critique(prompt)\n"
      ],
      "metadata": {
        "id": "JqEMF9zQ7xHz"
      },
      "execution_count": 57,
      "outputs": []
    },
    {
      "cell_type": "code",
      "source": [
        "import openai\n",
        "from reportlab.lib.pagesizes import letter\n",
        "from reportlab.platypus import SimpleDocTemplate, Paragraph, Spacer\n",
        "from reportlab.lib.styles import getSampleStyleSheet, ParagraphStyle\n",
        "\n",
        "# Set your OpenAI API key\n",
        "\n",
        "openai.api_key = OPENAI_API_KEY\n",
        "\n",
        "# Function to generate improved text using OpenAI API\n",
        "def generate_improved_text(prompt):\n",
        "    response = openai.ChatCompletion.create(\n",
        "        model=\"gpt-4o\",\n",
        "        messages=[\n",
        "            {\"role\": \"system\", \"content\": \"You are a helpful assistant.\"},\n",
        "            {\"role\": \"user\", \"content\": prompt}\n",
        "        ]\n",
        "    )\n",
        "    return response['choices'][0]['message']['content'].strip()\n",
        "\n",
        "# Function to improve the cover letter\n",
        "def improve_cover_letter(CV_text, cover_letter,job_description_text, critique = \"\"):\n",
        "    if critique == \"\":\n",
        "      critique = create_critique_prompt(cover_letter, cv_text, job_description_text)\n",
        "    #prompt = f\"Given the following cover letter and critique, generate an improved version of the cover letter:\\n\\nCover Letter:\\n{cover_letter}\\n\\nCritique:\\n{critique}\\n\\nImproved Cover Letter:\"\n",
        "    prompt = f\"\"\"Based on the provided job description, original cover letter (the one that the critique refers to), and CV, write a concise, exact, factual and personalized cover letter that highlights relevant skills and experiences. the resulting letter should take into account the critique and improve accordingly\n",
        "\n",
        "\n",
        "   Job Description:\\n{job_description_text}\\n\\nCV:\\n{CV_text}\\n\\nCritique:\\n\\ncover_letter:\\n{cover_letter}\\n\\nCritique:\\n{critique}\\n\\n\n",
        "\n",
        "    Tailor the letter to the specific job requirements and showcase the candidate's match for the position. Be sure to mention specific accomplishments and quantify results whenever possible. Keep the tone professional and precise based on the cv.\n",
        "   As concise as possible no more than 4 sentences. Avoid using adjectives unless neccessary , as less as possible , do not use emotive adjectives in any case, use only factual information based on the cv_text , finalize with best regards, Name where the name of the applicant is taken from the CV\"\"\"\n",
        "\n",
        "    return generate_improved_text(prompt)\n",
        "\n",
        "# Function to improve the CV\n",
        "def improve_cv(cv_text, critique):\n",
        "    prompt = f\"Given the following CV and critique, generate an improved version of the CV:\\n\\nCV:\\n{cv_text}\\n\\nCritique:\\n{critique}\\n\\nImproved CV:\"\n",
        "    return generate_improved_text(prompt)\n",
        "\n",
        "# Function to create a PDF from text\n",
        "def create_pdf(output_pdf, title, name, text):\n",
        "    print(output_pdf)\n",
        "    pdf = SimpleDocTemplate(output_pdf, pagesize=letter)\n",
        "    styles = getSampleStyleSheet()\n",
        "    story = []\n",
        "\n",
        "    # Define custom styles for title and body text\n",
        "    title_style = ParagraphStyle(name='Title', fontSize=16, leading=20, spaceAfter=20, alignment=1)\n",
        "    name_style = ParagraphStyle(name='Name', fontSize=12, leading=14, spaceAfter=14, alignment=1)\n",
        "    body_style = styles['BodyText']\n",
        "    bold_style = ParagraphStyle(name='Bold', parent=styles['BodyText'], fontName='Helvetica-Bold')\n",
        "\n",
        "    # Add title\n",
        "    story.append(Paragraph(title, title_style))\n",
        "\n",
        "    # Add name\n",
        "    story.append(Paragraph(name, name_style))\n",
        "    story.append(Spacer(1, 12))\n",
        "\n",
        "    # Process and add the main text\n",
        "    paragraphs = text.split(\"\\n\\n\")\n",
        "    for para in paragraphs:\n",
        "        story.append(Paragraph(para.replace('\\n', '<br/>'), body_style))\n",
        "        story.append(Spacer(1, 12))\n",
        "\n",
        "    # Build the PDF\n",
        "    pdf.build(story)\n",
        "\n"
      ],
      "metadata": {
        "id": "fJTJ--QxtJRz"
      },
      "execution_count": 36,
      "outputs": []
    },
    {
      "cell_type": "code",
      "source": [
        "%%time\n",
        "#generate_cover_letter\n",
        "#extract_key_phrases\n",
        "#create_pdf_with_bold_strings(output_pdf, title, cv_text, text, bold_strings)\n",
        "#improve_cover_letter\n",
        "#improved_cover_letter\n",
        "#extract_key_phrases(model, cover_letter_text, job_description, num_phrases=3)\n",
        "\n",
        "cv_text = load_and_extract_text(\"CoverLetter/Data/CV_GPT_rev.pdf\")\n",
        "cover_letter_text = generate_cover_letter(model,cv_text, job_description).text\n",
        "bold_strings = extract_strings(extract_key_phrases(model, cover_letter_text, job_description, num_phrases=3))\n",
        "create_pdf_with_bold_strings(output_pdf, title, cv_text, text, bold_strings)\n",
        "improved_cover_letter = improve_cover_letter(cv_text,cover_letter_text,job_description)\n",
        "#improved_cv = improve_cv(original_cv, cv_critique)\n",
        "\n",
        "#job_description"
      ],
      "metadata": {
        "colab": {
          "base_uri": "https://localhost:8080/",
          "height": 121
        },
        "id": "Z5Gq7NGyUIUd",
        "outputId": "ef7c016d-be66-4270-8591-7251fc6cbabb"
      },
      "execution_count": 37,
      "outputs": [
        {
          "output_type": "stream",
          "name": "stdout",
          "text": [
            "HERE generate_cover_letter\n",
            "after generate_cover_letter\n",
            "HERE key phrases\n",
            "6\n",
            "CPU times: user 322 ms, sys: 18.1 ms, total: 340 ms\n",
            "Wall time: 18.8 s\n"
          ]
        }
      ]
    },
    {
      "cell_type": "code",
      "source": [
        "%%time\n",
        "critique,grade = create_critique_prompt( improved_cover_letter , cv_text, job_description)\n",
        "critique"
      ],
      "metadata": {
        "colab": {
          "base_uri": "https://localhost:8080/",
          "height": 123
        },
        "id": "zxZXXkHytlTA",
        "outputId": "120f0d50-71f1-431e-d441-d13f61432bbc"
      },
      "execution_count": 58,
      "outputs": [
        {
          "output_type": "stream",
          "name": "stdout",
          "text": [
            "CPU times: user 87.2 ms, sys: 10.5 ms, total: 97.7 ms\n",
            "Wall time: 14.3 s\n"
          ]
        },
        {
          "output_type": "execute_result",
          "data": {
            "text/plain": [
              "\"**Relevance to the Job**:\\nThe cover letter effectively addresses some key responsibilities and requirements of the job. The candidate's experience in AI, machine learning, data standardization, and NLP is clearly defined and directly relevant to the key requirements in the job description. Further, his work in unified financial data formats is a particularly good match for the job's focus on creating a unified data format across various financial systems.\\n\\n**Form and Structure**:\\nThe cover letter is concise and straightforward, which is generally favorable. However, it lacks the traditional structure of a cover letter, which generally includes an introductory statement, a body paragraph or two detailing relevant experience or skills, and a closing paragraph expressing interest in the role and eagerness for further discussion.\\n\\n**Reliability**:\\nThe cover letter is relatively free from errors. It does, however, lack some context and detail which would help in understanding the candidate's previous roles and responsibilities, which could be an issue of reliability in fully representing his experience.\\n\\n**Professional Matching**:\\nThe candidate's skills, experience, and background align well with the job's requirements. His experience in AI, machine learning, and NLP, as well as his leadership in a finance-related company and extensive academic background, make him a good fit for the described role.\\n\\n**Overall Impression**: \\nThe cover letter is effective in demonstrating the candidate's relevant skills and experience but could benefit from more detailed examples of how these have been applied in the past. The brevity of the letter may suggest a lack of enthusiasm for the role, which could impact how compelling it is to a hiring manager.\\n\\n**#Overall Grade : 7#** \\nThe short nature of this cover letter fails to expand on the candidate's experience, showing how their skills have been applied contextually, which is important for building a strong case for suitability. Improvement in this area would likely raise the grade. Additionally, the cover letter would benefit from a personal touch, expressing the candidate's interest in the role and how their skills would benefit the company specifically. Including a closing statement inviting further discussion about the role would also be an improvement.\""
            ],
            "application/vnd.google.colaboratory.intrinsic+json": {
              "type": "string"
            }
          },
          "metadata": {},
          "execution_count": 58
        }
      ]
    },
    {
      "cell_type": "code",
      "source": [
        "grade =float(grade)\n",
        "grade"
      ],
      "metadata": {
        "colab": {
          "base_uri": "https://localhost:8080/"
        },
        "id": "xBlbGNud5Hve",
        "outputId": "775b049f-ecc4-4b16-804f-924c2d1e6411"
      },
      "execution_count": 59,
      "outputs": [
        {
          "output_type": "execute_result",
          "data": {
            "text/plain": [
              "7.0"
            ]
          },
          "metadata": {},
          "execution_count": 59
        }
      ]
    },
    {
      "cell_type": "code",
      "source": [
        "%%time\n",
        "import re\n",
        "d_grades = {}\n",
        "\n",
        "for ii in range(10):\n",
        "\n",
        "  print(grade)\n",
        "  if grade < 9:\n",
        "    improved_cover_letter = improve_cover_letter(cv_text,cover_letter_text,job_description, critique)\n",
        "    critique,grade = create_critique_prompt( improved_cover_letter , cv_text, job_description)\n",
        "    grade = float(grade)\n",
        "    d_grades[(grade,ii)] = {\"cover_letter\": improved_cover_letter, \"critique\" : critique}\n",
        "  else:\n",
        "    break\n"
      ],
      "metadata": {
        "colab": {
          "base_uri": "https://localhost:8080/"
        },
        "id": "aTYYDLg9xPVt",
        "outputId": "08734247-235e-41ae-9d1d-3f1150d4aa8a"
      },
      "execution_count": 64,
      "outputs": [
        {
          "output_type": "stream",
          "name": "stdout",
          "text": [
            "5.0\n",
            "8.5\n",
            "7.5\n",
            "7.0\n",
            "6.0\n",
            "7.2\n",
            "6.5\n",
            "8.5\n",
            "6.0\n",
            "7.0\n",
            "CPU times: user 858 ms, sys: 136 ms, total: 994 ms\n",
            "Wall time: 2min 49s\n"
          ]
        }
      ]
    },
    {
      "cell_type": "code",
      "source": [
        "d_best = d_grades[max(d_grades.keys(), key = lambda x: x[0])]"
      ],
      "metadata": {
        "id": "i8iymtR2j51r"
      },
      "execution_count": 65,
      "outputs": []
    },
    {
      "cell_type": "code",
      "source": [
        "d_best[\"cover_letter\"]"
      ],
      "metadata": {
        "colab": {
          "base_uri": "https://localhost:8080/",
          "height": 71
        },
        "id": "c3z5UyHqmBHy",
        "outputId": "092a6d6b-8bbe-4605-d4b4-da2d2412c4ec"
      },
      "execution_count": 66,
      "outputs": [
        {
          "output_type": "execute_result",
          "data": {
            "text/plain": [
              "\"Dear Hiring Manager,\\n\\nI am writing to apply for the AI Developer position at your company, leveraging my Ph.D. in Mathematics and over 13 years of industry experience, including the development of predictive models, handling unified data integration, and applying NLP techniques for financial processes. My extensive work with financial systems and machine learning frameworks like TensorFlow, PyTorch, and scikit-learn, along with experience in ensuring data privacy and security, aligns well with the role's requirements. I have a proven track record of leading AI initiatives, as demonstrated by my work at Finzor Ltd. and Palo Alto Networks.\\n\\nBest regards,\\nItay Ben-Dan\""
            ],
            "application/vnd.google.colaboratory.intrinsic+json": {
              "type": "string"
            }
          },
          "metadata": {},
          "execution_count": 66
        }
      ]
    },
    {
      "cell_type": "code",
      "source": [
        "d_best[\"critique\"]"
      ],
      "metadata": {
        "colab": {
          "base_uri": "https://localhost:8080/",
          "height": 157
        },
        "id": "u2iOBMSMmIKB",
        "outputId": "a5a87baf-ef21-45dd-8a31-78bf5c555730"
      },
      "execution_count": 67,
      "outputs": [
        {
          "output_type": "execute_result",
          "data": {
            "text/plain": [
              "\"1. **Relevance to the Job**: The cover letter demonstrates a high degree of relevance to the AI Developer role. The candidate directly refers to his extensive experience in developing predictive models, handling unified data integration, and applying NLP techniques—all of which are mentioned in the job description—and aligns these competencies with the job requirements. His mention of data privacy and security also matches the job requirements.\\n   \\n2. **Form and Structure**: The cover letter adheres to professional standards in terms of form and structure. It is concise and directly addresses the position in question. However, some elaboration on the candidate's experience and skills would have been beneficial. For example, he could have provided some specifics about his projects and results achieved, which would give the hiring manager a clearer idea of his capabilities.\\n\\n3. **Reliability**: The cover letter displays a high degree of reliability. It is free of errors and mistakes, conveying a serious and professional tone. Although not required in a cover letter, Itay's years of experience and the reputable organizations he has worked with add to this perception of reliability.\\n\\n4. **Professional Matching**: Itay's cover letter clearly seems to match the role's professional requirements. His Ph.D. in Mathematics exceeds the position's educational requirements, and his experience with financial systems and machine learning frameworks is congruent with the job description. Additionally, his leadership experience could indicate potential for not just executing tasks but also directing and strategizing AI initiatives.\\n\\n5. **Overall Impression**: While the candidate's qualifications are impressive and certainly fit the job requirement, the cover letter would benefit from a touch of personal touch or narrative—an explanation as to why he is interested in this particular role or organization, what his career aspirations are, or how he perceives the potential impact of the role. This could make the cover letter more compelling.\\n\\n  **#Overall Grade : 8.5#**\""
            ],
            "application/vnd.google.colaboratory.intrinsic+json": {
              "type": "string"
            }
          },
          "metadata": {},
          "execution_count": 67
        }
      ]
    },
    {
      "cell_type": "code",
      "source": [
        "grade"
      ],
      "metadata": {
        "colab": {
          "base_uri": "https://localhost:8080/",
          "height": 36
        },
        "id": "hdyJTwl48m8i",
        "outputId": "714c6809-6a27-4f0b-ca65-961ec123339b"
      },
      "execution_count": 47,
      "outputs": [
        {
          "output_type": "execute_result",
          "data": {
            "text/plain": [
              "'N/A'"
            ],
            "application/vnd.google.colaboratory.intrinsic+json": {
              "type": "string"
            }
          },
          "metadata": {},
          "execution_count": 47
        }
      ]
    },
    {
      "cell_type": "code",
      "source": [
        "critique"
      ],
      "metadata": {
        "colab": {
          "base_uri": "https://localhost:8080/",
          "height": 262
        },
        "id": "0C5MObgj8q8M",
        "outputId": "ec1c6463-7f71-48db-f6fd-d4175bd2e173"
      },
      "execution_count": 56,
      "outputs": [
        {
          "output_type": "execute_result",
          "data": {
            "text/plain": [
              "\"### Cover Letter Critique for AI Developer Role\\n\\n#### 1. **Relevance to the Job**\\n\\n**Strengths**:\\n- The candidate highlights their extensive experience in AI, particularly in finance, which aligns well with the job description.\\n- Mentioning specific experience with Python, TensorFlow, and NLP techniques directly addresses key technical requirements of the role.\\n\\n**Areas for Improvement**:\\n- The cover letter can be enhanced by explicitly connecting the candidate’s past projects to the responsibilities listed in the job description (e.g., automating invoice reconciliation and standardizing financial data formats).\\n- More details on how the candidate has collaborated with finance and accounting teams would further demonstrate their suitability for integrating AI solutions into existing workflows.\\n\\n#### 2. **Form and Structure**\\n\\n**Strengths**:\\n- The letter is concise, which is often appreciated by hiring managers.\\n- The candidate clearly states their background and expertise upfront.\\n\\n**Areas for Improvement**:\\n- The letter could benefit from a more standard cover letter format, including:\\n\\n   1. An opening paragraph explaining their interest in the role and the company.\\n   2. A middle paragraph or two detailing specific experiences that align with the job description.\\n   3. A closing paragraph reiterating their interest and inviting further discussion.\\n\\n- Adding the candidate's contact information and a formal sign-off would enhance professionalism.\\n\\n#### 3. **Reliability**\\n\\n**Strengths**:\\n- The cover letter is free from grammatical errors and inconsistencies.\\n- The candidate presents a solid background and a high level of expertise in relevant areas.\\n\\n**Areas for Improvement**:\\n- Including specific examples with results (e.g., metrics or outcomes) would strengthen the perception of reliability.\\n- A more detailed and structured narrative can help build a stronger sense of trustworthiness.\\n\\n#### 4. **Professional Matching**\\n\\n**Strengths**:\\n- The candidate’s background in AI, machine learning, and finance is a strong match for the job requirements.\\n- Technical skills in Python, TensorFlow, and NLP, as well as experience in data standardization, directly align with the job responsibilities.\\n\\n**Areas for Improvement**:\\n- Mentioning specific projects or initiatives (e.g., the investment analysis tools at Finzor Ltd.) with direct relevance to the job’s requirements would better showcase professional matching.\\n- The cover letter could benefit from emphasizing soft skills such as problem-solving and teamwork, which are crucial for this role.\\n\\n#### 5. **Overall Impression**\\n\\n**Strengths**:\\n- The candidate comes across as highly experienced and technically proficient.\\n- They emphasize relevant skills and experience, making a strong initial case for their fit for the role.\\n\\n**Areas for Improvement**:\\n- The cover letter lacks personalization towards the company and the role. Mentioning the company by name and specific reasons for wanting to join would make a stronger impression.\\n- Providing more narrative around how their past achievements demonstrate their ability to succeed in the new role would enhance the overall compelling nature of the letter.\\n\\n### Specific Points for Improvement\\n1. **Opening and Personalization**:\\n   - Start with a personalized introduction that mentions the company name and expresses enthusiasm for the role and company.\\n   \\n2. **Detailed Middle Section**:\\n   - Use one or two paragraphs to detail specific projects and achievements that directly align with the job responsibilities. Mention quantifiable outcomes where possible.\\n   \\n3. **Closing Paragraph**:\\n   - Conclude with a strong closing paragraph that reiterates interest, provides contact information, and invites further discussion.\\n\\n### Overall Grade: **7**\""
            ],
            "application/vnd.google.colaboratory.intrinsic+json": {
              "type": "string"
            }
          },
          "metadata": {},
          "execution_count": 56
        }
      ]
    },
    {
      "cell_type": "code",
      "source": [
        "improved_cover_letter"
      ],
      "metadata": {
        "colab": {
          "base_uri": "https://localhost:8080/",
          "height": 71
        },
        "id": "3-TaxFWVkjQo",
        "outputId": "ad96424d-abfc-44da-c171-6f6289659663"
      },
      "execution_count": 84,
      "outputs": [
        {
          "output_type": "execute_result",
          "data": {
            "text/plain": [
              "'Dear Hiring Manager,\\n\\nI am writing to apply for the AI Developer position at your company. My experience includes developing and deploying AI and machine learning models for financial domains, as demonstrated by my work at Finzor Ltd. and Palo Alto Networks. I have successfully implemented NLP solutions to extract key information from unstructured data, unified diverse data formats, and ensured data privacy and security best practices in all projects. With strong programming skills in Python and experience with TensorFlow, PyTorch, and scikit-learn, I am confident in my ability to meet your needs for automating invoice reconciliation and standardizing financial data.\\n\\nBest regards,  \\nItay Ben-Dan'"
            ],
            "application/vnd.google.colaboratory.intrinsic+json": {
              "type": "string"
            }
          },
          "metadata": {},
          "execution_count": 84
        }
      ]
    },
    {
      "cell_type": "code",
      "source": [
        "float(re.findall(\"[0-9\\.]+\",re.findall(\"Grade[\\*].: [\\*0-9\\.]+\",critique)[-1] )[0])"
      ],
      "metadata": {
        "colab": {
          "base_uri": "https://localhost:8080/",
          "height": 263
        },
        "id": "1ItGZvIh71mx",
        "outputId": "08a3d892-43c6-4a3f-d283-801f40c5a218"
      },
      "execution_count": 85,
      "outputs": [
        {
          "output_type": "error",
          "ename": "TypeError",
          "evalue": "expected string or bytes-like object",
          "traceback": [
            "\u001b[0;31m---------------------------------------------------------------------------\u001b[0m",
            "\u001b[0;31mTypeError\u001b[0m                                 Traceback (most recent call last)",
            "\u001b[0;32m<ipython-input-85-ae1240e1871b>\u001b[0m in \u001b[0;36m<cell line: 1>\u001b[0;34m()\u001b[0m\n\u001b[0;32m----> 1\u001b[0;31m \u001b[0mfloat\u001b[0m\u001b[0;34m(\u001b[0m\u001b[0mre\u001b[0m\u001b[0;34m.\u001b[0m\u001b[0mfindall\u001b[0m\u001b[0;34m(\u001b[0m\u001b[0;34m\"[0-9\\.]+\"\u001b[0m\u001b[0;34m,\u001b[0m\u001b[0mre\u001b[0m\u001b[0;34m.\u001b[0m\u001b[0mfindall\u001b[0m\u001b[0;34m(\u001b[0m\u001b[0;34m\"Grade[\\*].: [\\*0-9\\.]+\"\u001b[0m\u001b[0;34m,\u001b[0m\u001b[0mcritique\u001b[0m\u001b[0;34m)\u001b[0m\u001b[0;34m[\u001b[0m\u001b[0;34m-\u001b[0m\u001b[0;36m1\u001b[0m\u001b[0;34m]\u001b[0m \u001b[0;34m)\u001b[0m\u001b[0;34m[\u001b[0m\u001b[0;36m0\u001b[0m\u001b[0;34m]\u001b[0m\u001b[0;34m)\u001b[0m\u001b[0;34m\u001b[0m\u001b[0;34m\u001b[0m\u001b[0m\n\u001b[0m",
            "\u001b[0;32m/usr/lib/python3.10/re.py\u001b[0m in \u001b[0;36mfindall\u001b[0;34m(pattern, string, flags)\u001b[0m\n\u001b[1;32m    238\u001b[0m \u001b[0;34m\u001b[0m\u001b[0m\n\u001b[1;32m    239\u001b[0m     Empty matches are included in the result.\"\"\"\n\u001b[0;32m--> 240\u001b[0;31m     \u001b[0;32mreturn\u001b[0m \u001b[0m_compile\u001b[0m\u001b[0;34m(\u001b[0m\u001b[0mpattern\u001b[0m\u001b[0;34m,\u001b[0m \u001b[0mflags\u001b[0m\u001b[0;34m)\u001b[0m\u001b[0;34m.\u001b[0m\u001b[0mfindall\u001b[0m\u001b[0;34m(\u001b[0m\u001b[0mstring\u001b[0m\u001b[0;34m)\u001b[0m\u001b[0;34m\u001b[0m\u001b[0;34m\u001b[0m\u001b[0m\n\u001b[0m\u001b[1;32m    241\u001b[0m \u001b[0;34m\u001b[0m\u001b[0m\n\u001b[1;32m    242\u001b[0m \u001b[0;32mdef\u001b[0m \u001b[0mfinditer\u001b[0m\u001b[0;34m(\u001b[0m\u001b[0mpattern\u001b[0m\u001b[0;34m,\u001b[0m \u001b[0mstring\u001b[0m\u001b[0;34m,\u001b[0m \u001b[0mflags\u001b[0m\u001b[0;34m=\u001b[0m\u001b[0;36m0\u001b[0m\u001b[0;34m)\u001b[0m\u001b[0;34m:\u001b[0m\u001b[0;34m\u001b[0m\u001b[0;34m\u001b[0m\u001b[0m\n",
            "\u001b[0;31mTypeError\u001b[0m: expected string or bytes-like object"
          ]
        }
      ]
    },
    {
      "cell_type": "code",
      "source": [
        "re.findall(\"Overall Grade ?: [\\*0-9\\.]+\",critique)"
      ],
      "metadata": {
        "id": "6nxdghNH9Z-W"
      },
      "execution_count": null,
      "outputs": []
    },
    {
      "cell_type": "code",
      "source": [
        "critique"
      ],
      "metadata": {
        "id": "PcqD6okh8TUj",
        "colab": {
          "base_uri": "https://localhost:8080/"
        },
        "outputId": "c2e109a9-ee6b-4109-9169-6f86bb9f5245"
      },
      "execution_count": 86,
      "outputs": [
        {
          "output_type": "execute_result",
          "data": {
            "text/plain": [
              "(\"**Relevance to the Job**: The cover letter does a good job of addressing the duties and requirements of the AI Developer role, particularly in relation to developing AI models, working with financial data, and implementing NLP solutions. The candidate also alludes to their experience with data privacy and security, a requirement in the job description. However, they fail to mention their business requirement handling abilities and their capacity to collaborate with non-technical teams, both of which were key components in the job description. So, there's room for improvement in this area.\\n\\n**Form and Structure**: The cover letter is brief and it adheres to a basic structure - starting with the applicant's declaration of intent, followed by a summary of relevant experience, then ending with a note of confidence in their suitability for the role. However, it lacks a personal touch or any notable details making the candidate stand out. The letter could benefit from a more engaging and narrative form, allowing the hiring manager to get a better sense of the candidate's personality and enthusiasm for the job.\\n\\n**Reliability**: The cover letter is free from discernable errors and inconsistencies. It definitely projects a sense of reliability and professionalism, supported by the candidate's strong experience in the field.\\n\\n**Professional Matching**: In terms of matching the job's requirements with candidate's skills, the cover letter does a good job. The candidate mentions their Python programming skill along with his experience in machine learning frameworks like TensorFlow, PyTorch, and scikit-learn. Their experience with financial data, unifying data formats, and implementing NLP solutions are all relevant to the role. However, more specificity about certain projects or notable achievements could lend even greater weight to their application.\\n\\n**Overall Impression**: The letter is professionally written and spells out the candidate's relevant experience. However, it lacks spark or details that would make the candidate stand out, and it doesn't address all the aspects mentioned in the job description. \\n\\n**#Overall Grade : 7#**\\n\\nHere are some potential improvements:\\n\\n- Highlight specific projects in which the candidate worked on AI Model implementation or NLP solutions in finance domain.\\n- Provide a concrete example of experience working with data privacy and security.\\n- Illustrate ability to work with finance and accounting teams, or any non-technical teams.\\n- Show some enthusiasm for the role - why is the candidate excited about this opportunity?\\n- Share how the candidate has continuously improved and optimized AI models based on new data and changing business needs.\\n- Make a personal, compelling close that leaves a lasting impression on the hiring manager.\",\n",
              " '7')"
            ]
          },
          "metadata": {},
          "execution_count": 86
        }
      ]
    },
    {
      "cell_type": "code",
      "source": [
        "grade = int(re.findall(\"[0-9]+\",re.findall(\"Grade: \\*\\*[0-9]+\\*\\*\",critique)[0] )[0])\n",
        "grade"
      ],
      "metadata": {
        "id": "8Z-3WvPvxxTk"
      },
      "execution_count": null,
      "outputs": []
    },
    {
      "cell_type": "code",
      "source": [
        "cover_letter_text"
      ],
      "metadata": {
        "id": "jn-QVW6JGmBz"
      },
      "execution_count": null,
      "outputs": []
    },
    {
      "cell_type": "code",
      "source": [
        "improved_cover_letter"
      ],
      "metadata": {
        "id": "C2ICt3nc7zs7"
      },
      "execution_count": null,
      "outputs": []
    },
    {
      "cell_type": "code",
      "source": [
        "job_description"
      ],
      "metadata": {
        "id": "nM6SwAu_cR_D"
      },
      "execution_count": null,
      "outputs": []
    },
    {
      "cell_type": "code",
      "source": [
        "\n",
        "name = improved_cover_letter.split(\"\\n\")[-1]\n",
        "target_pdf_file = \"cover_letter_improved2.pdf\"\n",
        "title = (\"Cover Letter\")\n",
        "create_pdf(target_pdf_file, title, name,improved_cover_letter )"
      ],
      "metadata": {
        "id": "ww8IsHlNWRuZ"
      },
      "execution_count": null,
      "outputs": []
    },
    {
      "cell_type": "code",
      "source": [
        "\n",
        "\n",
        "# Example usage\n",
        "\n",
        "critique_prompt = create_critique_prompt(cover_letter_text, original_cv, job_description)\n",
        "response = generate_improved_text(critique_prompt)\n",
        "\n",
        "print(response)\n"
      ],
      "metadata": {
        "id": "edrKUA7V_-Nu"
      },
      "execution_count": null,
      "outputs": []
    },
    {
      "cell_type": "code",
      "source": [
        "!ls"
      ],
      "metadata": {
        "id": "doFW0YfLfMyK"
      },
      "execution_count": null,
      "outputs": []
    },
    {
      "cell_type": "code",
      "source": [],
      "metadata": {
        "id": "jBi2ecMMWVHG"
      },
      "execution_count": null,
      "outputs": []
    }
  ]
}