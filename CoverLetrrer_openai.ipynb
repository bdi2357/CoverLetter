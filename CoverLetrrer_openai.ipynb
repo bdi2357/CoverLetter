{
  "nbformat": 4,
  "nbformat_minor": 0,
  "metadata": {
    "colab": {
      "provenance": [],
      "authorship_tag": "ABX9TyO9g6tUUHrUCLOK1rBaihyJ",
      "include_colab_link": true
    },
    "kernelspec": {
      "name": "python3",
      "display_name": "Python 3"
    },
    "language_info": {
      "name": "python"
    }
  },
  "cells": [
    {
      "cell_type": "markdown",
      "metadata": {
        "id": "view-in-github",
        "colab_type": "text"
      },
      "source": [
        "<a href=\"https://colab.research.google.com/github/bdi2357/CoverLetter/blob/main/CoverLetrrer_openai.ipynb\" target=\"_parent\"><img src=\"https://colab.research.google.com/assets/colab-badge.svg\" alt=\"Open In Colab\"/></a>"
      ]
    },
    {
      "cell_type": "code",
      "source": [
        "!pip install -q -U google-generativeai\n",
        "!pip install -q PyPDF2\n",
        "!pip install docx\n",
        "!pip install fpdf\n",
        "!pip install python-docx\n",
        "!pip install python-docx reportlab pypandoc\n",
        "!pip install docx2pdf\n",
        "!pip install openai"
      ],
      "metadata": {
        "id": "hTAXNfaoRqDr",
        "colab": {
          "base_uri": "https://localhost:8080/"
        },
        "outputId": "2b0e9aaa-5100-464c-b2fd-267fd8593fb2"
      },
      "execution_count": 1,
      "outputs": [
        {
          "output_type": "stream",
          "name": "stdout",
          "text": [
            "\u001b[?25l   \u001b[90m━━━━━━━━━━━━━━━━━━━━━━━━━━━━━━━━━━━━━━━━\u001b[0m \u001b[32m0.0/165.0 kB\u001b[0m \u001b[31m?\u001b[0m eta \u001b[36m-:--:--\u001b[0m\r\u001b[2K   \u001b[91m━━━━━━━━━━━━━━━━━━━━━━━━━━━━━━━━━━━━━━━\u001b[0m\u001b[91m╸\u001b[0m \u001b[32m163.8/165.0 kB\u001b[0m \u001b[31m4.7 MB/s\u001b[0m eta \u001b[36m0:00:01\u001b[0m\r\u001b[2K   \u001b[90m━━━━━━━━━━━━━━━━━━━━━━━━━━━━━━━━━━━━━━━━\u001b[0m \u001b[32m165.0/165.0 kB\u001b[0m \u001b[31m2.9 MB/s\u001b[0m eta \u001b[36m0:00:00\u001b[0m\n",
            "\u001b[2K   \u001b[90m━━━━━━━━━━━━━━━━━━━━━━━━━━━━━━━━━━━━━━━━\u001b[0m \u001b[32m725.4/725.4 kB\u001b[0m \u001b[31m11.7 MB/s\u001b[0m eta \u001b[36m0:00:00\u001b[0m\n",
            "\u001b[2K   \u001b[90m━━━━━━━━━━━━━━━━━━━━━━━━━━━━━━━━━━━━━━━━\u001b[0m \u001b[32m232.6/232.6 kB\u001b[0m \u001b[31m3.4 MB/s\u001b[0m eta \u001b[36m0:00:00\u001b[0m\n",
            "\u001b[?25hCollecting docx\n",
            "  Downloading docx-0.2.4.tar.gz (54 kB)\n",
            "\u001b[2K     \u001b[90m━━━━━━━━━━━━━━━━━━━━━━━━━━━━━━━━━━━━━━━━\u001b[0m \u001b[32m54.9/54.9 kB\u001b[0m \u001b[31m1.9 MB/s\u001b[0m eta \u001b[36m0:00:00\u001b[0m\n",
            "\u001b[?25h  Preparing metadata (setup.py) ... \u001b[?25l\u001b[?25hdone\n",
            "Requirement already satisfied: lxml in /usr/local/lib/python3.10/dist-packages (from docx) (4.9.4)\n",
            "Requirement already satisfied: Pillow>=2.0 in /usr/local/lib/python3.10/dist-packages (from docx) (10.4.0)\n",
            "Building wheels for collected packages: docx\n",
            "  Building wheel for docx (setup.py) ... \u001b[?25l\u001b[?25hdone\n",
            "  Created wheel for docx: filename=docx-0.2.4-py3-none-any.whl size=53892 sha256=5465fe5e89163dd1b9b0d3a8f2ea206c67572f2114032b901abe08df4de51d8b\n",
            "  Stored in directory: /root/.cache/pip/wheels/81/f5/1d/e09ba2c1907a43a4146d1189ae4733ca1a3bfe27ee39507767\n",
            "Successfully built docx\n",
            "Installing collected packages: docx\n",
            "Successfully installed docx-0.2.4\n",
            "Collecting fpdf\n",
            "  Downloading fpdf-1.7.2.tar.gz (39 kB)\n",
            "  Preparing metadata (setup.py) ... \u001b[?25l\u001b[?25hdone\n",
            "Building wheels for collected packages: fpdf\n",
            "  Building wheel for fpdf (setup.py) ... \u001b[?25l\u001b[?25hdone\n",
            "  Created wheel for fpdf: filename=fpdf-1.7.2-py2.py3-none-any.whl size=40704 sha256=cf139008f80366c7aa8843641ff0d643020343e9a7f21954b48513016a5a4450\n",
            "  Stored in directory: /root/.cache/pip/wheels/f9/95/ba/f418094659025eb9611f17cbcaf2334236bf39a0c3453ea455\n",
            "Successfully built fpdf\n",
            "Installing collected packages: fpdf\n",
            "Successfully installed fpdf-1.7.2\n",
            "Collecting python-docx\n",
            "  Downloading python_docx-1.1.2-py3-none-any.whl.metadata (2.0 kB)\n",
            "Requirement already satisfied: lxml>=3.1.0 in /usr/local/lib/python3.10/dist-packages (from python-docx) (4.9.4)\n",
            "Requirement already satisfied: typing-extensions>=4.9.0 in /usr/local/lib/python3.10/dist-packages (from python-docx) (4.12.2)\n",
            "Downloading python_docx-1.1.2-py3-none-any.whl (244 kB)\n",
            "\u001b[2K   \u001b[90m━━━━━━━━━━━━━━━━━━━━━━━━━━━━━━━━━━━━━━━━\u001b[0m \u001b[32m244.3/244.3 kB\u001b[0m \u001b[31m3.8 MB/s\u001b[0m eta \u001b[36m0:00:00\u001b[0m\n",
            "\u001b[?25hInstalling collected packages: python-docx\n",
            "Successfully installed python-docx-1.1.2\n",
            "Requirement already satisfied: python-docx in /usr/local/lib/python3.10/dist-packages (1.1.2)\n",
            "Collecting reportlab\n",
            "  Downloading reportlab-4.2.2-py3-none-any.whl.metadata (1.4 kB)\n",
            "Collecting pypandoc\n",
            "  Downloading pypandoc-1.13-py3-none-any.whl.metadata (16 kB)\n",
            "Requirement already satisfied: lxml>=3.1.0 in /usr/local/lib/python3.10/dist-packages (from python-docx) (4.9.4)\n",
            "Requirement already satisfied: typing-extensions>=4.9.0 in /usr/local/lib/python3.10/dist-packages (from python-docx) (4.12.2)\n",
            "Requirement already satisfied: pillow>=9.0.0 in /usr/local/lib/python3.10/dist-packages (from reportlab) (10.4.0)\n",
            "Requirement already satisfied: chardet in /usr/local/lib/python3.10/dist-packages (from reportlab) (5.2.0)\n",
            "Downloading reportlab-4.2.2-py3-none-any.whl (1.9 MB)\n",
            "\u001b[2K   \u001b[90m━━━━━━━━━━━━━━━━━━━━━━━━━━━━━━━━━━━━━━━━\u001b[0m \u001b[32m1.9/1.9 MB\u001b[0m \u001b[31m19.1 MB/s\u001b[0m eta \u001b[36m0:00:00\u001b[0m\n",
            "\u001b[?25hDownloading pypandoc-1.13-py3-none-any.whl (21 kB)\n",
            "Installing collected packages: reportlab, pypandoc\n",
            "Successfully installed pypandoc-1.13 reportlab-4.2.2\n",
            "Collecting docx2pdf\n",
            "  Downloading docx2pdf-0.1.8-py3-none-any.whl.metadata (3.3 kB)\n",
            "Requirement already satisfied: tqdm>=4.41.0 in /usr/local/lib/python3.10/dist-packages (from docx2pdf) (4.66.5)\n",
            "Downloading docx2pdf-0.1.8-py3-none-any.whl (6.7 kB)\n",
            "Installing collected packages: docx2pdf\n",
            "Successfully installed docx2pdf-0.1.8\n",
            "Collecting openai\n",
            "  Downloading openai-1.47.0-py3-none-any.whl.metadata (24 kB)\n",
            "Requirement already satisfied: anyio<5,>=3.5.0 in /usr/local/lib/python3.10/dist-packages (from openai) (3.7.1)\n",
            "Requirement already satisfied: distro<2,>=1.7.0 in /usr/lib/python3/dist-packages (from openai) (1.7.0)\n",
            "Collecting httpx<1,>=0.23.0 (from openai)\n",
            "  Downloading httpx-0.27.2-py3-none-any.whl.metadata (7.1 kB)\n",
            "Collecting jiter<1,>=0.4.0 (from openai)\n",
            "  Downloading jiter-0.5.0-cp310-cp310-manylinux_2_17_x86_64.manylinux2014_x86_64.whl.metadata (3.6 kB)\n",
            "Requirement already satisfied: pydantic<3,>=1.9.0 in /usr/local/lib/python3.10/dist-packages (from openai) (2.9.2)\n",
            "Requirement already satisfied: sniffio in /usr/local/lib/python3.10/dist-packages (from openai) (1.3.1)\n",
            "Requirement already satisfied: tqdm>4 in /usr/local/lib/python3.10/dist-packages (from openai) (4.66.5)\n",
            "Requirement already satisfied: typing-extensions<5,>=4.11 in /usr/local/lib/python3.10/dist-packages (from openai) (4.12.2)\n",
            "Requirement already satisfied: idna>=2.8 in /usr/local/lib/python3.10/dist-packages (from anyio<5,>=3.5.0->openai) (3.10)\n",
            "Requirement already satisfied: exceptiongroup in /usr/local/lib/python3.10/dist-packages (from anyio<5,>=3.5.0->openai) (1.2.2)\n",
            "Requirement already satisfied: certifi in /usr/local/lib/python3.10/dist-packages (from httpx<1,>=0.23.0->openai) (2024.8.30)\n",
            "Collecting httpcore==1.* (from httpx<1,>=0.23.0->openai)\n",
            "  Downloading httpcore-1.0.5-py3-none-any.whl.metadata (20 kB)\n",
            "Collecting h11<0.15,>=0.13 (from httpcore==1.*->httpx<1,>=0.23.0->openai)\n",
            "  Downloading h11-0.14.0-py3-none-any.whl.metadata (8.2 kB)\n",
            "Requirement already satisfied: annotated-types>=0.6.0 in /usr/local/lib/python3.10/dist-packages (from pydantic<3,>=1.9.0->openai) (0.7.0)\n",
            "Requirement already satisfied: pydantic-core==2.23.4 in /usr/local/lib/python3.10/dist-packages (from pydantic<3,>=1.9.0->openai) (2.23.4)\n",
            "Downloading openai-1.47.0-py3-none-any.whl (375 kB)\n",
            "\u001b[2K   \u001b[90m━━━━━━━━━━━━━━━━━━━━━━━━━━━━━━━━━━━━━━━━\u001b[0m \u001b[32m375.6/375.6 kB\u001b[0m \u001b[31m8.3 MB/s\u001b[0m eta \u001b[36m0:00:00\u001b[0m\n",
            "\u001b[?25hDownloading httpx-0.27.2-py3-none-any.whl (76 kB)\n",
            "\u001b[2K   \u001b[90m━━━━━━━━━━━━━━━━━━━━━━━━━━━━━━━━━━━━━━━━\u001b[0m \u001b[32m76.4/76.4 kB\u001b[0m \u001b[31m5.1 MB/s\u001b[0m eta \u001b[36m0:00:00\u001b[0m\n",
            "\u001b[?25hDownloading httpcore-1.0.5-py3-none-any.whl (77 kB)\n",
            "\u001b[2K   \u001b[90m━━━━━━━━━━━━━━━━━━━━━━━━━━━━━━━━━━━━━━━━\u001b[0m \u001b[32m77.9/77.9 kB\u001b[0m \u001b[31m5.3 MB/s\u001b[0m eta \u001b[36m0:00:00\u001b[0m\n",
            "\u001b[?25hDownloading jiter-0.5.0-cp310-cp310-manylinux_2_17_x86_64.manylinux2014_x86_64.whl (318 kB)\n",
            "\u001b[2K   \u001b[90m━━━━━━━━━━━━━━━━━━━━━━━━━━━━━━━━━━━━━━━━\u001b[0m \u001b[32m318.9/318.9 kB\u001b[0m \u001b[31m19.8 MB/s\u001b[0m eta \u001b[36m0:00:00\u001b[0m\n",
            "\u001b[?25hDownloading h11-0.14.0-py3-none-any.whl (58 kB)\n",
            "\u001b[2K   \u001b[90m━━━━━━━━━━━━━━━━━━━━━━━━━━━━━━━━━━━━━━━━\u001b[0m \u001b[32m58.3/58.3 kB\u001b[0m \u001b[31m3.8 MB/s\u001b[0m eta \u001b[36m0:00:00\u001b[0m\n",
            "\u001b[?25hInstalling collected packages: jiter, h11, httpcore, httpx, openai\n",
            "Successfully installed h11-0.14.0 httpcore-1.0.5 httpx-0.27.2 jiter-0.5.0 openai-1.47.0\n"
          ]
        }
      ]
    },
    {
      "cell_type": "code",
      "source": [
        "!git clone https://github.com/bdi2357/CoverLetter"
      ],
      "metadata": {
        "colab": {
          "base_uri": "https://localhost:8080/"
        },
        "id": "V0bLtjxrR_Ya",
        "outputId": "1848b44a-8a97-4072-ad90-a2323a4e0a99"
      },
      "execution_count": 2,
      "outputs": [
        {
          "output_type": "stream",
          "name": "stdout",
          "text": [
            "Cloning into 'CoverLetter'...\n",
            "remote: Enumerating objects: 42, done.\u001b[K\n",
            "remote: Counting objects: 100% (42/42), done.\u001b[K\n",
            "remote: Compressing objects: 100% (40/40), done.\u001b[K\n",
            "remote: Total 42 (delta 21), reused 0 (delta 0), pack-reused 0 (from 0)\u001b[K\n",
            "Receiving objects: 100% (42/42), 123.28 KiB | 263.00 KiB/s, done.\n",
            "Resolving deltas: 100% (21/21), done.\n"
          ]
        }
      ]
    },
    {
      "cell_type": "code",
      "source": [
        "import pathlib\n",
        "import textwrap\n",
        "\n",
        "import google.generativeai as genai\n",
        "\n",
        "from IPython.display import display\n",
        "from IPython.display import Markdown\n",
        "\n",
        "\n",
        "def to_markdown(text):\n",
        "  text = text.replace('•', '  *')\n",
        "  return Markdown(textwrap.indent(text, '> ', predicate=lambda _: True))"
      ],
      "metadata": {
        "id": "At05GNhPPQ-s"
      },
      "execution_count": 3,
      "outputs": []
    },
    {
      "cell_type": "code",
      "source": [
        "#from genai import GenerativeModel\n",
        "from docx import Document\n",
        "from docx.shared import Pt\n",
        "import re\n",
        "import time"
      ],
      "metadata": {
        "id": "a1sqyTAmRfRw"
      },
      "execution_count": 4,
      "outputs": []
    },
    {
      "cell_type": "code",
      "source": [
        "# Used to securely store your API key\n",
        "from google.colab import userdata"
      ],
      "metadata": {
        "id": "eB61SnIWVKVm"
      },
      "execution_count": 5,
      "outputs": []
    },
    {
      "cell_type": "code",
      "source": [
        "import pathlib\n",
        "import textwrap\n",
        "\n",
        "import google.generativeai as genai\n",
        "\n",
        "from IPython.display import display\n",
        "from IPython.display import Markdown\n",
        "\n",
        "\n",
        "def to_markdown(text):\n",
        "  text = text.replace('•', '  *')\n",
        "  return Markdown(textwrap.indent(text, '> ', predicate=lambda _: True))"
      ],
      "metadata": {
        "id": "-hpD7lN6K1O2"
      },
      "execution_count": 8,
      "outputs": []
    },
    {
      "cell_type": "code",
      "source": [
        "# Or use `os.getenv('GOOGLE_API_KEY')` to fetch an environment variable.\n",
        "GOOGLE_API_KEY=userdata.get('GOOGLE_API_KEY')\n",
        "\n",
        "genai.configure(api_key=GOOGLE_API_KEY)"
      ],
      "metadata": {
        "id": "eyq9gB2IV8E7"
      },
      "execution_count": 6,
      "outputs": []
    },
    {
      "cell_type": "code",
      "source": [
        "model = genai.GenerativeModel('gemini-1.5-flash')"
      ],
      "metadata": {
        "id": "OdyzB6kgYN9b"
      },
      "execution_count": 7,
      "outputs": []
    },
    {
      "cell_type": "code",
      "source": [
        "from PyPDF2 import PdfReader\n",
        "\n",
        "def load_and_extract_text(file_path):\n",
        "    with open(file_path, 'rb') as file:\n",
        "        pdf_reader = PdfReader(file)\n",
        "        text = \"\"\n",
        "        for page in pdf_reader.pages:\n",
        "            text += page.extract_text()\n",
        "        return text"
      ],
      "metadata": {
        "id": "scs-j7SadNPa"
      },
      "execution_count": 9,
      "outputs": []
    },
    {
      "cell_type": "code",
      "execution_count": 10,
      "metadata": {
        "id": "yrZFX_ZGCAKu"
      },
      "outputs": [],
      "source": [
        "def generate_cover_letter(model,cv_text, job_description_text):\n",
        "\n",
        "    prompt = f\"\"\"Based on the provided job description and CV, write a concise, compelling and personalized cover letter that highlights relevant skills and experiences.\n",
        "\n",
        "    Job Description:\\n{job_description_text}\\n\\nCV:\\n{cv_text}\\n\\n\n",
        "\n",
        "    Tailor the letter to the specific job requirements and showcase the candidate's match for the position. Be sure to mention specific accomplishments and quantify results whenever possible. Keep the tone professional and precise based on the cv.\n",
        "    As concise as possible no more than 4 sentences. Avoid using adjectives unless neccessary , as less as possible , do not use emotive adjectives in any case, use only factual information based on the cv_text , finalize with best regards, Name where the name of the applicant is taken from the CV\"\"\"\n",
        "    print(\"HERE generate_cover_letter\")\n",
        "    response = model.generate_content(prompt)  # Remove the 'context' argument\n",
        "    print(\"after generate_cover_letter\")\n",
        "    return response"
      ]
    },
    {
      "cell_type": "code",
      "source": [
        "job_description = \"\"\" We're seeking an AI Developer to join our team. In this role, you'll leverage artificial intelligence and machine learning techniques to improve the invoice reconciliation process and create a unified data format across various financial systems.\n",
        "\n",
        "Responsibilities:\n",
        "- Develop and implement AI and machine learning models to automate invoice reconciliation\n",
        "- Create intelligent systems to unify diverse invoice data into a standardized format\n",
        "- Design and build natural language processing (NLP) solutions to extract key information from unstructured invoice data\n",
        "- Implement machine learning algorithms to identify patterns, anomalies, and potential errors in financial data\n",
        "- Collaborate with finance and accounting teams to understand business requirements and integrate AI solutions into existing workflows\n",
        "- Continuously improve and optimize AI models based on new data and changing business needs\n",
        "\n",
        "Requirements:\n",
        "- Masters or PhD in Computer Science, Artificial Intelligence, or related field\n",
        "- 3+ years of experience developing AI and machine learning solutions, preferably in finance or accounting domains\n",
        "- Strong programming skills in Python and experience with ML frameworks (e.g., TensorFlow, PyTorch, scikit-learn)\n",
        "- Experience with NLP techniques and text analysis\n",
        "- Familiarity with financial systems, ERP software, and accounting principles\n",
        "- Knowledge of data privacy and security best practices\n",
        "- Excellent problem-solving skills and ability to translate complex business requirements into technical solutions\n",
        "\n",
        "No agencies please.\n",
        "This individual must be available for 30h/week and during UK working hours.\n",
        "\n",
        "\"\"\""
      ],
      "metadata": {
        "id": "fh4UxsGzyvCh"
      },
      "execution_count": 11,
      "outputs": []
    },
    {
      "cell_type": "code",
      "source": [
        "cv_text = load_and_extract_text(\"CoverLetter/Data/CV_GPT_rev.pdf\")"
      ],
      "metadata": {
        "id": "w9qtW_RXdDwD"
      },
      "execution_count": 12,
      "outputs": []
    },
    {
      "cell_type": "code",
      "source": [
        "cv_text"
      ],
      "metadata": {
        "colab": {
          "base_uri": "https://localhost:8080/",
          "height": 105
        },
        "id": "dedzxL_GqtL8",
        "outputId": "a19f1e3f-e2a4-4025-c2e2-e7aab90f64ad"
      },
      "execution_count": 13,
      "outputs": [
        {
          "output_type": "execute_result",
          "data": {
            "text/plain": [
              "'Itay\\nBen-Dan\\nHaarava\\n20,\\nHerzliya\\nP.\\nO.\\nBox\\n5990,\\nHerzliya,\\nIsrael\\n46100\\nCellular:\\n+972544539284\\nEmail:\\nitaybd@gmail.com\\nProfessional\\nSummary\\nFull\\nStack\\nMachine\\nLearning\\nEngineer\\nwith\\nextensive\\nexperience\\nin\\ndata\\nengineering,\\nmodel\\ndevelopment,\\ndeployment,\\nand\\nmaintenance.\\nExpertise\\nin\\nsports,\\nfinance,\\nand\\nrobotics,\\nwith\\na\\nfocus\\non\\nadvanced\\ndata\\nanalytics\\nand\\nmachine\\nlearning,\\nincluding\\nLLMs\\nand\\nmulti-agent\\nsystems.\\nWork\\nExperience\\n2017-Present:\\nMachine\\nLearning\\nand\\nData\\nScience\\nConsultant\\n●\\nDeveloped\\npredictive\\nmodels\\nfrom\\nscratch,\\nincluding\\ndeployment.\\n●\\nConducted\\nexploratory\\ndata\\nanalysis\\nand\\nadvanced\\nfeature\\ngeneration.\\n●\\nIntegrated\\ndata\\nfrom\\nvarious\\nsources\\ninto\\nunified\\nformats.\\n●\\nDeveloped\\npolicy\\ngenerative\\nmodels\\nusing\\nreinforcement\\nlearning.\\n2017-Present:\\nFounder\\nand\\nHead\\nof\\nResearch,\\nFinzor\\nLtd.\\n●\\nDeveloped\\nportfolio\\nmanagement\\nand\\ninvestment\\nanalysis\\ntools.\\n●\\nLed\\na\\nteam\\nto\\ndeliver\\nsoftware\\nproducts\\nfrom\\ndesign\\nto\\nproduction.\\n2016-2017:\\nPrincipal\\nMachine\\nLearning,\\nPalo\\nAlto\\nNetworks\\n●\\nApplied\\nmachine\\nlearning\\nto\\nreverse\\nengineering\\nand\\nmalware\\nanalysis.\\n●\\nCreated\\nadaptive\\nmodels\\nfor\\nupdating\\nanti-malware\\nfilters\\nand\\nclassifiers.\\n2015-2016:\\nSenior\\nData\\nScientist,\\nSparkBeyond\\n●\\nWorked\\non\\nbig\\ndata\\npredictive\\nanalytics\\nand\\nmachine\\nlearning.\\n●\\nApplied\\nautomatic\\nfeature\\ngeneration\\nmethods\\nto\\ntime\\nseries\\nanalysis\\nand\\nreinforcement\\nlearning.\\n2011-2015:\\nSenior\\nQuantitative\\nResearcher,\\nWorldQuant●\\nDeveloped\\nautomated\\ncomputational\\nmethods\\nfor\\nquant-driven\\nstrategies.\\n●\\nApplied\\npredictive\\nanalytics\\nand\\nstatistical\\nmethods\\nacross\\nvarious\\nassets.\\n2010-2011:\\nSenior\\nSoftware\\nEngineer,\\nBroadcom\\n●\\nDesigned\\nnetwork\\nand\\npacket\\nprocessing\\nmethodologies.\\n●\\nImplemented\\nadvanced\\nautomated\\ntesting\\nmethods.\\n2008-2009:\\nFounder,\\nGenous\\nVision\\n●\\nDeveloped\\nalgorithms\\nfor\\nrecognizing\\nanatomies\\nin\\nultrasound\\nimages.\\nEducation\\n2009:\\nPh.D.\\nin\\nMathematics,\\nTechnion,\\nHaifa\\n●\\nTopic:\\nDiscrete\\nGeometry\\n●\\nSupervisor:\\nDr.\\nRom\\nPinchasi\\n2004:\\nM.Sc.\\nin\\nMathematics,\\nTechnion,\\nHaifa\\n●\\nTopic:\\nGame\\nTheory\\n●\\nThesis:\\nTime\\nSharing\\nunder\\nDichotomous\\nPreferences\\n●\\nGrade:\\n95\\n●\\nSupervisor:\\nProf.\\nRon\\nHolzman\\n2002:\\nB.Sc.\\nin\\nMathematics\\nand\\nComputer\\nScience,\\nTechnion,\\nHaifa\\n●\\nCum\\nLaude\\nSkills\\n●\\nProgramming\\nLanguages:\\nPython,\\nR,\\nC++,\\nJava\\n●\\nMachine\\nLearning\\nFrameworks:\\nTensorFlow,\\nPyTorch,\\nScikit-learn\\n●\\nData\\nAnalysis\\nTools:\\nPandas,\\nNumPy,\\nSQL\\n●\\nOther\\nTechnologies:\\nDocker,\\nKubernetes,\\nAWS,\\nGit,\\nLinux\\nProjects\\nTreeModelVis●\\nVisualization\\ntool\\nfor\\ntree-based\\nmodels,\\naiding\\nin\\nunderstanding\\ndecision\\npaths\\nand\\nfeature\\nimportance.\\n●\\nTechnologies\\nUsed:\\nPython,\\nD3.js\\n●\\nGitHub\\nRepository\\nPublications\\n●\\nPoints\\nwith\\nLarge\\nQuadrant\\nDepth.\\nJoCG\\n2(1):\\n128-143\\n(2011)\\n●\\nPoints\\nwith\\nlarge\\nquadrant\\ndepth.\\nSymposium\\non\\nComputational\\nGeometry\\n2010:\\n358-364\\n●\\nOn\\na\\nproblem\\nabout\\nquadrant\\ndepth.\\nComput.\\nGeom.\\n43(6-7):\\n587-592\\n(2010)\\n●\\nPoints\\nwith\\nlarge\\nalphadepth.\\nJ.\\nComb.\\nTheory,\\nSer.\\nA\\n116(3):\\n747-755\\n(2009)\\nContact\\nInformation\\n●\\nEmail:\\nitaybd@gmail.com\\n●\\nLinkedIn:\\nItay\\nBen-Dan\\nLinkedIn\\nProfile\\nThis\\nCV\\nis\\nconcise\\nand\\ntailored,\\nhighlighting\\nkey\\nskills\\nand\\nexperience\\nin\\na\\nclean,\\norganized\\nformat.'"
            ],
            "application/vnd.google.colaboratory.intrinsic+json": {
              "type": "string"
            }
          },
          "metadata": {},
          "execution_count": 13
        }
      ]
    },
    {
      "cell_type": "code",
      "source": [
        "generate_cover_letter(model,cv_text, job_description).text"
      ],
      "metadata": {
        "colab": {
          "base_uri": "https://localhost:8080/",
          "height": 105
        },
        "id": "xO8AqhoydojT",
        "outputId": "6240bdd3-ef26-4124-818f-250e064c8f10"
      },
      "execution_count": 14,
      "outputs": [
        {
          "output_type": "stream",
          "name": "stdout",
          "text": [
            "HERE generate_cover_letter\n",
            "after generate_cover_letter\n"
          ]
        },
        {
          "output_type": "execute_result",
          "data": {
            "text/plain": [
              "'Dear Hiring Manager,\\n\\nI am writing to express my interest in the AI Developer position at your company. My experience developing AI and machine learning solutions in finance, including portfolio management and investment analysis, aligns well with your requirements. My expertise in NLP, data engineering, and model development has enabled me to build predictive models and integrate data from diverse sources into unified formats. I am proficient in Python, TensorFlow, PyTorch, and other relevant technologies and am confident in my ability to make a significant contribution to your team.\\n\\nBest regards,\\n\\nItay Ben-Dan\\n'"
            ],
            "application/vnd.google.colaboratory.intrinsic+json": {
              "type": "string"
            }
          },
          "metadata": {},
          "execution_count": 14
        }
      ]
    },
    {
      "cell_type": "code",
      "source": [
        "time.sleep(3)\n",
        "job_description = job_description #load_and_extract_text(\"job_description.pdf\")\n",
        "cv_text = load_and_extract_text(\"CoverLetter/Data/CV_GPT_rev.pdf\")\n",
        "cover_letter_text = generate_cover_letter(model,cv_text, job_description).text\n"
      ],
      "metadata": {
        "colab": {
          "base_uri": "https://localhost:8080/",
          "height": 52
        },
        "id": "CC26_KnJNl7k",
        "outputId": "a75ae223-ad9a-4790-8fd6-65d3bfb47d41"
      },
      "execution_count": 15,
      "outputs": [
        {
          "output_type": "stream",
          "name": "stdout",
          "text": [
            "HERE generate_cover_letter\n",
            "after generate_cover_letter\n"
          ]
        }
      ]
    },
    {
      "cell_type": "code",
      "source": [
        "!ls"
      ],
      "metadata": {
        "colab": {
          "base_uri": "https://localhost:8080/"
        },
        "id": "TxWAcOH0dcDX",
        "outputId": "d424de57-fa2b-4d68-b6a5-acfff81169e1"
      },
      "execution_count": 16,
      "outputs": [
        {
          "output_type": "stream",
          "name": "stdout",
          "text": [
            "CoverLetter  sample_data\n"
          ]
        }
      ]
    },
    {
      "cell_type": "code",
      "source": [
        "import os\n",
        "import openai\n",
        "import sys\n",
        "from google.colab import userdata\n",
        "\n",
        "OPENAI_API_KEY=userdata.get('OPENAI_API_KEY2')\n",
        "\n",
        "openai.api_key  = OPENAI_API_KEY"
      ],
      "metadata": {
        "id": "rFaLFWH-5a4y"
      },
      "execution_count": 17,
      "outputs": []
    },
    {
      "cell_type": "code",
      "source": [
        "import openai\n",
        "import re\n",
        "\n",
        "class GradeExtractionError(Exception):\n",
        "    \"\"\"Custom exception for errors in extracting the grade.\"\"\"\n",
        "    pass\n",
        "\n",
        "def generate_improved_text_critique(prompt):\n",
        "    \"\"\"\n",
        "    response = openai.ChatCompletion.create(\n",
        "        model=\"gpt-4\",\n",
        "        messages=[\n",
        "            {\"role\": \"system\", \"content\": \"You are a highly experienced career coach and recruiter. Your job is to critically evaluate cover letters based on job descriptions, resumes (CVs), and the expected professional standards for the role. You provide detailed feedback on various aspects of the cover letter.\"},\n",
        "            {\"role\": \"user\", \"content\": prompt}\n",
        "        ]\n",
        "    )\n",
        "    content = response['choices'][0]['message']['content'].strip()\n",
        "    \"\"\"\n",
        "    content = get_llm_response(prompt)\n",
        "    # Attempt to extract the grade using regex\n",
        "    match = re.search(r\"Overall Grade.*?(\\d+(\\.\\d+)?)\", content, re.IGNORECASE)\n",
        "    if match:\n",
        "        grade = match.group(1)\n",
        "    else:\n",
        "        # If grade is not found, raise an exception\n",
        "        raise GradeExtractionError(\"Failed to extract overall grade from the critique. Please review the critique content.\")\n",
        "\n",
        "    return content, grade\n",
        "\n",
        "# Function to create the prompt\n",
        "def create_critique_prompt(cover_letter_summary, cv_text, job_description):\n",
        "    prompt = f\"\"\"\n",
        "    I need you to critique a cover letter that was submitted for an AI Developer role. The cover letter is provided as a PDF file, and I'll summarize its content below. The candidate's resume (CV) and the job description are also provided. Please evaluate the cover letter based on the following criteria:\n",
        "\n",
        "    1. **Relevance to the Job**: Does the cover letter effectively address the specific responsibilities and requirements of the job as described in the job description?\n",
        "    2. **Form and Structure**: Is the cover letter well-organized and professionally formatted? Does it follow standard cover letter conventions?\n",
        "    3. **Reliability**: Does the cover letter convey a sense of reliability and trustworthiness? Is it free from errors and inconsistencies?\n",
        "    4. **Professional Matching**: Does the cover letter demonstrate that the candidate's skills, experience, and background match the job's requirements?\n",
        "    5. **Overall Impression**: How compelling is the cover letter in making the case that the candidate is a strong fit for the role?\n",
        "\n",
        "    After critiquing the cover letter on these criteria, please provide an overall grade on a scale of 1-10, where 10 is the best.\n",
        "\n",
        "    Here are the details:\n",
        "\n",
        "    **Cover Letter Summary**:\n",
        "    {cover_letter_summary}\n",
        "\n",
        "    **Resume (CV) Text**:\n",
        "    {cv_text}\n",
        "\n",
        "    **Job Description**:\n",
        "    {job_description}\n",
        "\n",
        "    Please provide a detailed critique with specific points for improvement and an overall grade in the following format:\n",
        "\n",
        "    **#Overall Grade : NUMBER#**\n",
        "\n",
        "    It is essential to keep this format intact. Please ensure that the grade is clearly provided using this exact format at the end of your response.\n",
        "    \"\"\"\n",
        "    return generate_improved_text_critique(prompt)\n"
      ],
      "metadata": {
        "id": "JqEMF9zQ7xHz"
      },
      "execution_count": 23,
      "outputs": []
    },
    {
      "cell_type": "code",
      "source": [
        "import openai\n",
        "from reportlab.lib.pagesizes import letter\n",
        "from reportlab.platypus import SimpleDocTemplate, Paragraph, Spacer\n",
        "from reportlab.lib.styles import getSampleStyleSheet, ParagraphStyle\n",
        "from openai import OpenAI\n",
        "# Set your OpenAI API key\n",
        "\n",
        "openai.api_key = OPENAI_API_KEY\n",
        "\n",
        "# Function to generate improved text using OpenAI API\n",
        "def get_llm_response(prompt):\n",
        "    \"\"\"This function takes as input a prompt, which must be a string enclosed in quotation marks,\n",
        "    and passes it to OpenAI's GPT3.5 model. The function then saves the response of the model as\n",
        "    a string.\n",
        "    \"\"\"\n",
        "    client = OpenAI(api_key=openai.api_key)\n",
        "    try:\n",
        "        if not isinstance(prompt, str):\n",
        "            raise ValueError(\"Input must be a string enclosed in quotes.\")\n",
        "        completion = client.chat.completions.create(\n",
        "            model=\"gpt-4o\",\n",
        "            messages=[\n",
        "                {\n",
        "                    \"role\": \"system\",\n",
        "                    \"content\": \"You are a helpful but terse AI assistant who gets straight to the point.\",\n",
        "                },\n",
        "                {\"role\": \"user\", \"content\": prompt},\n",
        "            ],\n",
        "            temperature=0.0,\n",
        "        )\n",
        "        response = completion.choices[0].message.content\n",
        "        return response\n",
        "    except TypeError as e:\n",
        "        print(\"Error:\", str(e))\n",
        "\n",
        "\n",
        "def generate_improved_text(prompt):\n",
        "    \"\"\"\n",
        "    response = openai.ChatCompletion.create(\n",
        "        model=\"gpt-4o\",\n",
        "        messages=[\n",
        "            {\"role\": \"system\", \"content\": \"You are a helpful assistant.\"},\n",
        "            {\"role\": \"user\", \"content\": prompt}\n",
        "        ]\n",
        "    )\n",
        "    return response['choices'][0]['message']['content'].strip()\n",
        "    \"\"\"\n",
        "    return get_llm_response(prompt)\n",
        "\n",
        "# Function to improve the cover letter\n",
        "def improve_cover_letter_old(CV_text, cover_letter,job_description_text, critique = \"\"):\n",
        "    if critique == \"\":\n",
        "      critique = create_critique_prompt(cover_letter, cv_text, job_description_text)\n",
        "    #prompt = f\"Given the following cover letter and critique, generate an improved version of the cover letter:\\n\\nCover Letter:\\n{cover_letter}\\n\\nCritique:\\n{critique}\\n\\nImproved Cover Letter:\"\n",
        "    prompt = f\"\"\"Based on the provided job description, original cover letter (the one that the critique refers to), and CV, write a concise, exact, factual and personalized cover letter that highlights relevant skills and experiences. the resulting letter should take into account the critique and improve accordingly\n",
        "\n",
        "\n",
        "   Job Description:\\n{job_description_text}\\n\\nCV:\\n{CV_text}\\n\\nCritique:\\n\\ncover_letter:\\n{cover_letter}\\n\\nCritique:\\n{critique}\\n\\n\n",
        "\n",
        "    Tailor the letter to the specific job requirements and showcase the candidate's match for the position. Be sure to mention specific accomplishments and quantify results whenever possible. Keep the tone professional and precise based on the cv.\n",
        "   As concise as possible no more than 4 sentences. Avoid using adjectives unless neccessary , as less as possible , do not use emotive adjectives in any case, use only factual information based on the cv_text , finalize with best regards, Name where the name of the applicant is taken from the CV\"\"\"\n",
        "\n",
        "    return generate_improved_text(prompt)\n",
        "\n",
        "# Function to improve the cover letter\n",
        "def improve_cover_letter(CV_text, cover_letter, job_description_text, critique=\"\", overall_grade=0):\n",
        "    if critique == \"\":\n",
        "        critique = create_critique_prompt(cover_letter, CV_text, job_description_text)\n",
        "\n",
        "    # If the overall grade is 8 or higher, emphasize strong points from the critique\n",
        "    if overall_grade >= 8:\n",
        "        prompt = f\"\"\"Based on the provided job description, original cover letter, CV, and a high critique score ({overall_grade}/10), write a concise, exact, factual, and personalized cover letter that emphasizes the strong aspects of the original while incorporating feedback to polish weaker areas.\n",
        "\n",
        "        Job Description:\\n{job_description_text}\\n\\nCV:\\n{CV_text}\\n\\nCover Letter:\\n{cover_letter}\\n\\nCritique:\\n{critique}\\n\\n\n",
        "\n",
        "        Tailor the letter to the specific job requirements and highlight the candidate's strong match for the position. Showcase relevant accomplishments with quantified results and professional tone. Keep it precise and concise, no more than 4 sentences. Avoid emotive adjectives and focus on factual content based on the CV. Finalize with 'Best regards,' and the candidate's name from the CV.\"\"\"\n",
        "    else:\n",
        "        # For grades below 8, focus more on addressing weaknesses in the critique\n",
        "        prompt = f\"\"\"Based on the provided job description, original cover letter, CV, and critique, write a concise, factual, and personalized cover letter that addresses the weaknesses and feedback highlighted in the critique while maintaining the strengths.\n",
        "\n",
        "        Job Description:\\n{job_description_text}\\n\\nCV:\\n{CV_text}\\n\\nCover Letter:\\n{cover_letter}\\n\\nCritique:\\n{critique}\\n\\n\n",
        "\n",
        "        Tailor the letter to the specific job requirements, highlight relevant skills and experiences, and mention specific accomplishments. Keep the tone professional and concise, no more than 4 sentences. Avoid emotive adjectives, focus on factual improvements, and finalize with 'Best regards,' followed by the applicant's name from the CV.\"\"\"\n",
        "\n",
        "    return generate_improved_text(prompt)\n",
        "\n",
        "\n",
        "# Function to improve the CV\n",
        "def improve_cv(cv_text, critique):\n",
        "    prompt = f\"Given the following CV and critique, generate an improved version of the CV:\\n\\nCV:\\n{cv_text}\\n\\nCritique:\\n{critique}\\n\\nImproved CV:\"\n",
        "    return generate_improved_text(prompt)\n",
        "\n",
        "# Function to create a PDF from text\n",
        "def create_pdf(output_pdf, title, name, text):\n",
        "    print(output_pdf)\n",
        "    pdf = SimpleDocTemplate(output_pdf, pagesize=letter)\n",
        "    styles = getSampleStyleSheet()\n",
        "    story = []\n",
        "\n",
        "    # Define custom styles for title and body text\n",
        "    title_style = ParagraphStyle(name='Title', fontSize=16, leading=20, spaceAfter=20, alignment=1)\n",
        "    name_style = ParagraphStyle(name='Name', fontSize=12, leading=14, spaceAfter=14, alignment=1)\n",
        "    body_style = styles['BodyText']\n",
        "    bold_style = ParagraphStyle(name='Bold', parent=styles['BodyText'], fontName='Helvetica-Bold')\n",
        "\n",
        "    # Add title\n",
        "    story.append(Paragraph(title, title_style))\n",
        "\n",
        "    # Add name\n",
        "    story.append(Paragraph(name, name_style))\n",
        "    story.append(Spacer(1, 12))\n",
        "\n",
        "    # Process and add the main text\n",
        "    paragraphs = text.split(\"\\n\\n\")\n",
        "    for para in paragraphs:\n",
        "        story.append(Paragraph(para.replace('\\n', '<br/>'), body_style))\n",
        "        story.append(Spacer(1, 12))\n",
        "\n",
        "    # Build the PDF\n",
        "    pdf.build(story)\n",
        "\n"
      ],
      "metadata": {
        "id": "fJTJ--QxtJRz"
      },
      "execution_count": 21,
      "outputs": []
    },
    {
      "cell_type": "code",
      "source": [
        "%%time\n",
        "\n",
        "cv_text = load_and_extract_text(\"CoverLetter/Data/CV_GPT_rev.pdf\")\n",
        "cover_letter_text = generate_cover_letter(model,cv_text, job_description).text\n",
        "\n",
        "improved_cover_letter = improve_cover_letter(cv_text,cover_letter_text,job_description)\n",
        "#improved_cv = improve_cv(original_cv, cv_critique)\n",
        "\n",
        "#job_description"
      ],
      "metadata": {
        "colab": {
          "base_uri": "https://localhost:8080/",
          "height": 86
        },
        "id": "Z5Gq7NGyUIUd",
        "outputId": "bb0fe8cb-afb6-4326-cca7-c110e1b9321e"
      },
      "execution_count": 24,
      "outputs": [
        {
          "output_type": "stream",
          "name": "stdout",
          "text": [
            "HERE generate_cover_letter\n",
            "after generate_cover_letter\n",
            "CPU times: user 476 ms, sys: 13.3 ms, total: 490 ms\n",
            "Wall time: 8.84 s\n"
          ]
        }
      ]
    },
    {
      "cell_type": "code",
      "source": [
        "%%time\n",
        "critique,grade = create_critique_prompt( improved_cover_letter , cv_text, job_description)\n",
        "critique"
      ],
      "metadata": {
        "colab": {
          "base_uri": "https://localhost:8080/",
          "height": 140
        },
        "id": "zxZXXkHytlTA",
        "outputId": "f5860487-638e-4b74-af7a-71d86d13ec1c"
      },
      "execution_count": 25,
      "outputs": [
        {
          "output_type": "stream",
          "name": "stdout",
          "text": [
            "CPU times: user 97.1 ms, sys: 5.54 ms, total: 103 ms\n",
            "Wall time: 3.86 s\n"
          ]
        },
        {
          "output_type": "execute_result",
          "data": {
            "text/plain": [
              "\"**Relevance to the Job**:\\n- The cover letter effectively addresses the specific responsibilities and requirements of the job. It mentions automating invoice reconciliation processes, unifying diverse financial data formats, and implementing NLP solutions, which align well with the job description.\\n- The candidate's experience in Python, TensorFlow, and financial systems is directly relevant to the job requirements.\\n\\n**Form and Structure**:\\n- The cover letter is concise and to the point, which is good, but it could benefit from a bit more detail to make it more compelling.\\n- It follows standard cover letter conventions but could be improved by adding a more personalized introduction and a closing statement that reiterates the candidate's enthusiasm for the role.\\n\\n**Reliability**:\\n- The cover letter is free from errors and inconsistencies, which conveys reliability and trustworthiness.\\n- The professional tone and clear structure further enhance the sense of reliability.\\n\\n**Professional Matching**:\\n- The candidate's skills, experience, and background match the job's requirements well. The cover letter highlights relevant experience in AI, machine learning, and financial systems.\\n- However, it could be improved by providing specific examples or achievements that demonstrate the candidate's impact in previous roles.\\n\\n**Overall Impression**:\\n- The cover letter is compelling but could be stronger with more specific examples and a more personalized touch.\\n- It effectively makes the case that the candidate is a strong fit for the role, but adding a bit more detail and enthusiasm could make it even more persuasive.\\n\\n**#Overall Grade: 8#**\""
            ],
            "application/vnd.google.colaboratory.intrinsic+json": {
              "type": "string"
            }
          },
          "metadata": {},
          "execution_count": 25
        }
      ]
    },
    {
      "cell_type": "code",
      "source": [
        "grade =float(grade)\n",
        "grade"
      ],
      "metadata": {
        "colab": {
          "base_uri": "https://localhost:8080/"
        },
        "id": "xBlbGNud5Hve",
        "outputId": "0ced02c4-5229-4d26-ccca-62aaab5b15b0"
      },
      "execution_count": 26,
      "outputs": [
        {
          "output_type": "execute_result",
          "data": {
            "text/plain": [
              "8.0"
            ]
          },
          "metadata": {},
          "execution_count": 26
        }
      ]
    },
    {
      "cell_type": "code",
      "source": [
        "%%time\n",
        "import re\n",
        "d_grades = {}\n",
        "\n",
        "for ii in range(8):\n",
        "\n",
        "  print(grade)\n",
        "  if grade < 9:\n",
        "    improved_cover_letter = improve_cover_letter(cv_text,cover_letter_text,job_description, critique)\n",
        "    critique,grade = create_critique_prompt( improved_cover_letter , cv_text, job_description)\n",
        "    grade = float(grade)\n",
        "    d_grades[(grade,ii)] = {\"cover_letter\": improved_cover_letter, \"critique\" : critique}\n",
        "  else:\n",
        "    break\n"
      ],
      "metadata": {
        "colab": {
          "base_uri": "https://localhost:8080/"
        },
        "id": "aTYYDLg9xPVt",
        "outputId": "045f92c8-9e9d-4fac-c2c1-9a596853b84d"
      },
      "execution_count": 33,
      "outputs": [
        {
          "output_type": "stream",
          "name": "stdout",
          "text": [
            "8.0\n",
            "7.0\n",
            "8.0\n",
            "8.0\n",
            "8.0\n",
            "6.0\n",
            "8.0\n",
            "6.0\n",
            "CPU times: user 1.55 s, sys: 49.9 ms, total: 1.6 s\n",
            "Wall time: 54.9 s\n"
          ]
        }
      ]
    },
    {
      "cell_type": "code",
      "source": [
        "d_best = d_grades[max(d_grades.keys(), key = lambda x: x[0])]"
      ],
      "metadata": {
        "id": "i8iymtR2j51r"
      },
      "execution_count": 28,
      "outputs": []
    },
    {
      "cell_type": "code",
      "source": [
        "d_best[\"cover_letter\"]"
      ],
      "metadata": {
        "colab": {
          "base_uri": "https://localhost:8080/",
          "height": 71
        },
        "id": "c3z5UyHqmBHy",
        "outputId": "6c7376f9-ae2c-472d-dd13-e38469476b7a"
      },
      "execution_count": 29,
      "outputs": [
        {
          "output_type": "execute_result",
          "data": {
            "text/plain": [
              "'Dear Hiring Manager,\\n\\nI am writing to express my interest in the AI Developer position at your company. With a Ph.D. in Mathematics and over 3 years of experience in developing AI and machine learning solutions, I have successfully automated invoice reconciliation processes, unified diverse financial data formats, and implemented NLP solutions. At Finzor Ltd., I led a team to deliver portfolio management tools, demonstrating my ability to translate complex business requirements into technical solutions. I am confident that my skills in Python, TensorFlow, and financial systems align well with your needs.\\n\\nBest regards,\\n\\nItay Ben-Dan'"
            ],
            "application/vnd.google.colaboratory.intrinsic+json": {
              "type": "string"
            }
          },
          "metadata": {},
          "execution_count": 29
        }
      ]
    },
    {
      "cell_type": "code",
      "source": [
        "d_grades.keys()"
      ],
      "metadata": {
        "colab": {
          "base_uri": "https://localhost:8080/"
        },
        "id": "N3z9jiRTvqsU",
        "outputId": "75dbe047-904d-4a03-942b-9e4674e2fad8"
      },
      "execution_count": 30,
      "outputs": [
        {
          "output_type": "execute_result",
          "data": {
            "text/plain": [
              "dict_keys([(8.0, 0), (8.0, 1), (8.0, 2), (8.0, 3)])"
            ]
          },
          "metadata": {},
          "execution_count": 30
        }
      ]
    },
    {
      "cell_type": "code",
      "source": [
        "d_grades[(8.0, 3)][\"cover_letter\"]"
      ],
      "metadata": {
        "colab": {
          "base_uri": "https://localhost:8080/",
          "height": 71
        },
        "id": "ySl8TT4_vzUi",
        "outputId": "ec7d5144-4b52-4ef4-a12d-fb39bf7abf7c"
      },
      "execution_count": 31,
      "outputs": [
        {
          "output_type": "execute_result",
          "data": {
            "text/plain": [
              "'Dear Hiring Manager,\\n\\nI am writing to apply for the AI Developer position. With a Ph.D. in Mathematics and over 3 years of experience in developing AI and machine learning solutions, I have successfully automated invoice reconciliation processes and unified diverse data formats. My expertise in NLP and financial systems, along with strong programming skills in Python and experience with TensorFlow and PyTorch, aligns well with your requirements. I am eager to contribute to your team by improving invoice reconciliation processes and integrating AI solutions into existing workflows.\\n\\nBest regards,\\nItay Ben-Dan'"
            ],
            "application/vnd.google.colaboratory.intrinsic+json": {
              "type": "string"
            }
          },
          "metadata": {},
          "execution_count": 31
        }
      ]
    },
    {
      "cell_type": "code",
      "source": [
        "d_best[\"critique\"]"
      ],
      "metadata": {
        "colab": {
          "base_uri": "https://localhost:8080/",
          "height": 105
        },
        "id": "u2iOBMSMmIKB",
        "outputId": "71f73b46-ee7d-4b50-e1ba-c67ed803c1ac"
      },
      "execution_count": 34,
      "outputs": [
        {
          "output_type": "execute_result",
          "data": {
            "text/plain": [
              "\"**Relevance to the Job**:\\n- The cover letter effectively addresses the specific responsibilities and requirements of the job. It mentions automating invoice reconciliation processes, unifying diverse financial data formats, and implementing NLP solutions, which align well with the job description.\\n- The candidate's experience in leading a team and translating complex business requirements into technical solutions is relevant to the collaborative and integrative aspects of the role.\\n\\n**Form and Structure**:\\n- The cover letter is concise and to the point, which is good, but it could benefit from a bit more detail to make it more compelling.\\n- It follows standard cover letter conventions but could be improved by adding a brief introduction and a closing statement that reiterates the candidate's enthusiasm and fit for the role.\\n\\n**Reliability**:\\n- The cover letter is free from errors and inconsistencies, which conveys reliability and professionalism.\\n- The tone is confident and professional, which helps in building trust.\\n\\n**Professional Matching**:\\n- The candidate's skills, experience, and background match the job's requirements well. The mention of Python, TensorFlow, and financial systems directly aligns with the job description.\\n- The candidate's Ph.D. in Mathematics and over 3 years of experience in AI and machine learning solutions are strong qualifications for the role.\\n\\n**Overall Impression**:\\n- The cover letter is compelling but could be more engaging with a bit more detail about the candidate's achievements and how they specifically relate to the job.\\n- It effectively makes the case that the candidate is a strong fit for the role, but a more personalized touch could enhance its impact.\\n\\n**#Overall Grade: 8#**\\n\\nSpecific Points for Improvement:\\n1. **Introduction**: Add a brief introduction that mentions how the candidate found out about the job and why they are excited about the opportunity.\\n2. **Detail**: Include a few more specific examples or metrics to highlight the candidate's achievements and impact in previous roles.\\n3. **Closing**: Add a closing statement that reiterates the candidate's enthusiasm for the role and invites the hiring manager to discuss further.\\n\\nOverall, the cover letter is strong but could be improved with a bit more detail and personalization.\""
            ],
            "application/vnd.google.colaboratory.intrinsic+json": {
              "type": "string"
            }
          },
          "metadata": {},
          "execution_count": 34
        }
      ]
    },
    {
      "cell_type": "code",
      "source": [
        "d_best.keys()"
      ],
      "metadata": {
        "id": "t26A2wXfodje",
        "outputId": "4cba1de8-e7ea-4086-e545-b2573ff005d4",
        "colab": {
          "base_uri": "https://localhost:8080/"
        }
      },
      "execution_count": 35,
      "outputs": [
        {
          "output_type": "execute_result",
          "data": {
            "text/plain": [
              "dict_keys(['cover_letter', 'critique'])"
            ]
          },
          "metadata": {},
          "execution_count": 35
        }
      ]
    },
    {
      "cell_type": "code",
      "source": [
        "grade"
      ],
      "metadata": {
        "colab": {
          "base_uri": "https://localhost:8080/"
        },
        "id": "hdyJTwl48m8i",
        "outputId": "b0eabbf8-06d4-459d-82db-1c516e34f21d"
      },
      "execution_count": 36,
      "outputs": [
        {
          "output_type": "execute_result",
          "data": {
            "text/plain": [
              "8.0"
            ]
          },
          "metadata": {},
          "execution_count": 36
        }
      ]
    },
    {
      "cell_type": "code",
      "source": [
        "critique"
      ],
      "metadata": {
        "colab": {
          "base_uri": "https://localhost:8080/",
          "height": 88
        },
        "id": "0C5MObgj8q8M",
        "outputId": "c95af3e0-86fd-47f7-9927-cdb6cd01aa98"
      },
      "execution_count": null,
      "outputs": [
        {
          "output_type": "execute_result",
          "data": {
            "text/plain": [
              "\"**1. Relevance to the Job**: The cover letter mentions relevant experience, such as developing AI and machine learning models, implementing NLP solutions, and working on financial systems. It demonstrates knowledge of invoice reconciliation and unifying diverse data, which aligns with the job's responsibilities. However, it lacks specific examples of collaborating with finance and accounting teams and adapting models to changing business needs, which are also important parts of the role. The cover letter could be improved by addressing all aspects of the job description in more detail.\\n\\n**2. Form and Structure**: The form and structure of the cover letter are standard but perhaps a bit too concise. The opening and closing are appropriate, but the content is somewhat sparse. There are only two sentences discussing relevant experience. Typically, a cover letter can be a full page and delve more into specific achievements, lessons learned, and specific interest in the role or company.\\n\\n**3. Reliability**: The cover letter is free from errors and suggests a level of trustworthiness and reliability by explicitly mentioning data privacy and security. However, it fails to offer any specifics, such as certifications, projects, or instances where data privacy and security were prioritized.\\n\\n**4. Professional Matching**: The cover letter shows a good match between the candidate's skills and the job's requirements, with relevant experiences with AI and machine learning development and proficiency in Python and TensorFlow. However, the letter could benefit from a more explicit connection between job requirements and candidate background. \\n\\n**5. Overall Impression**: Despite being a concise summary of essential points, the cover letter lacks the narrative and detail that could better connect the candidate's skills and experiences with the specific job requirements. For instance, it could provide examples of how they used ML frameworks or NLP techniques to solve specific problems, or relate their experiences with financial systems to the role's responsibilities.\\n\\n**#Overall Grade: 6#**\""
            ],
            "application/vnd.google.colaboratory.intrinsic+json": {
              "type": "string"
            }
          },
          "metadata": {},
          "execution_count": 51
        }
      ]
    },
    {
      "cell_type": "code",
      "source": [
        "improved_cover_letter"
      ],
      "metadata": {
        "colab": {
          "base_uri": "https://localhost:8080/",
          "height": 71
        },
        "id": "3-TaxFWVkjQo",
        "outputId": "d9511919-d794-4b2d-bd69-537661c5e156"
      },
      "execution_count": null,
      "outputs": [
        {
          "output_type": "execute_result",
          "data": {
            "text/plain": [
              "'Dear Hiring Manager,\\n\\nI am writing to express my interest in the AI Developer position at your company. My extensive experience includes developing AI and machine learning models to automate invoice reconciliation and unify diverse data, particularly through my work as Head of Research at Finzor Ltd. I have successfully implemented NLP solutions to extract key information from unstructured financial data and developed machine learning algorithms for anomaly detection, demonstrating my proficiency in Python, TensorFlow, and financial systems. Additionally, I prioritize data privacy and security in all my projects.\\n\\nBest regards,  \\nItay Ben-Dan'"
            ],
            "application/vnd.google.colaboratory.intrinsic+json": {
              "type": "string"
            }
          },
          "metadata": {},
          "execution_count": 52
        }
      ]
    }
  ]
}