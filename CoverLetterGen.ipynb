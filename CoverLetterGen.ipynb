{
  "nbformat": 4,
  "nbformat_minor": 0,
  "metadata": {
    "colab": {
      "provenance": [],
      "authorship_tag": "ABX9TyPeon1KQ0r876IW40tEhbLf",
      "include_colab_link": true
    },
    "kernelspec": {
      "name": "python3",
      "display_name": "Python 3"
    },
    "language_info": {
      "name": "python"
    }
  },
  "cells": [
    {
      "cell_type": "markdown",
      "metadata": {
        "id": "view-in-github",
        "colab_type": "text"
      },
      "source": [
        "<a href=\"https://colab.research.google.com/github/bdi2357/CoverLetter/blob/main/CoverLetterGen.ipynb\" target=\"_parent\"><img src=\"https://colab.research.google.com/assets/colab-badge.svg\" alt=\"Open In Colab\"/></a>"
      ]
    },
    {
      "cell_type": "code",
      "execution_count": null,
      "metadata": {
        "id": "mOEvG7YiAsKL"
      },
      "outputs": [],
      "source": [
        "!pip install -q -U google-generativeai"
      ]
    },
    {
      "cell_type": "code",
      "source": [
        "!git clone https://github.com/bdi2357/CoverLetter"
      ],
      "metadata": {
        "colab": {
          "base_uri": "https://localhost:8080/"
        },
        "id": "dbnZFLJW6Rf8",
        "outputId": "01ad9530-3d10-4ab9-fae3-44333c353fea"
      },
      "execution_count": null,
      "outputs": [
        {
          "output_type": "stream",
          "name": "stdout",
          "text": [
            "Cloning into 'CoverLetter'...\n",
            "remote: Enumerating objects: 18, done.\u001b[K\n",
            "remote: Counting objects: 100% (18/18), done.\u001b[K\n",
            "remote: Compressing objects: 100% (16/16), done.\u001b[K\n",
            "remote: Total 18 (delta 5), reused 0 (delta 0), pack-reused 0\u001b[K\n",
            "Receiving objects: 100% (18/18), 76.20 KiB | 2.93 MiB/s, done.\n",
            "Resolving deltas: 100% (5/5), done.\n"
          ]
        }
      ]
    },
    {
      "cell_type": "code",
      "source": [
        "!ls CoverLetter/Data/"
      ],
      "metadata": {
        "colab": {
          "base_uri": "https://localhost:8080/"
        },
        "id": "c-mZsPirAzLf",
        "outputId": "2f2fdc62-b947-46e5-e52d-31771facd72c"
      },
      "execution_count": null,
      "outputs": [
        {
          "output_type": "stream",
          "name": "stdout",
          "text": [
            "CV_GPT_rev.pdf\tREADME.md\n"
          ]
        }
      ]
    },
    {
      "cell_type": "code",
      "source": [
        "import pathlib\n",
        "import textwrap\n",
        "\n",
        "import google.generativeai as genai\n",
        "\n",
        "from IPython.display import display\n",
        "from IPython.display import Markdown\n",
        "\n",
        "\n",
        "def to_markdown(text):\n",
        "  text = text.replace('•', '  *')\n",
        "  return Markdown(textwrap.indent(text, '> ', predicate=lambda _: True))"
      ],
      "metadata": {
        "id": "At05GNhPPQ-s"
      },
      "execution_count": null,
      "outputs": []
    },
    {
      "cell_type": "code",
      "source": [
        "# Used to securely store your API key\n",
        "from google.colab import userdata"
      ],
      "metadata": {
        "id": "MB7X0KA-RwVQ"
      },
      "execution_count": null,
      "outputs": []
    },
    {
      "cell_type": "code",
      "source": [
        "# Or use `os.getenv('GOOGLE_API_KEY')` to fetch an environment variable.\n",
        "GOOGLE_API_KEY=userdata.get('GOOGLE_API_KEY')\n",
        "\n",
        "genai.configure(api_key=GOOGLE_API_KEY)"
      ],
      "metadata": {
        "id": "uJYQjQi8Rp2v"
      },
      "execution_count": null,
      "outputs": []
    },
    {
      "cell_type": "code",
      "source": [
        "!pip install -q PyPDF2"
      ],
      "metadata": {
        "colab": {
          "base_uri": "https://localhost:8080/"
        },
        "id": "oOmvmTUHW3ov",
        "outputId": "76c0c23f-4bcc-41e6-e0ce-242be8e8de47"
      },
      "execution_count": null,
      "outputs": [
        {
          "output_type": "stream",
          "name": "stdout",
          "text": [
            "\u001b[?25l   \u001b[90m━━━━━━━━━━━━━━━━━━━━━━━━━━━━━━━━━━━━━━━━\u001b[0m \u001b[32m0.0/232.6 kB\u001b[0m \u001b[31m?\u001b[0m eta \u001b[36m-:--:--\u001b[0m\r\u001b[2K   \u001b[91m━━━━━━━━━━━━━━━━━━━━━━━━━━━━\u001b[0m\u001b[90m╺\u001b[0m\u001b[90m━━━━━━━━━━━\u001b[0m \u001b[32m163.8/232.6 kB\u001b[0m \u001b[31m5.0 MB/s\u001b[0m eta \u001b[36m0:00:01\u001b[0m\r\u001b[2K   \u001b[90m━━━━━━━━━━━━━━━━━━━━━━━━━━━━━━━━━━━━━━━━\u001b[0m \u001b[32m232.6/232.6 kB\u001b[0m \u001b[31m3.9 MB/s\u001b[0m eta \u001b[36m0:00:00\u001b[0m\n",
            "\u001b[?25h"
          ]
        }
      ]
    },
    {
      "cell_type": "code",
      "source": [
        "!pip install docx\n",
        "!pip install fpdf"
      ],
      "metadata": {
        "colab": {
          "base_uri": "https://localhost:8080/"
        },
        "id": "7yjjgrglZVuW",
        "outputId": "3b732f3f-7a4e-4ac2-e4e0-a7847e8b1d04"
      },
      "execution_count": null,
      "outputs": [
        {
          "output_type": "stream",
          "name": "stdout",
          "text": [
            "Collecting docx\n",
            "  Downloading docx-0.2.4.tar.gz (54 kB)\n",
            "\u001b[?25l     \u001b[90m━━━━━━━━━━━━━━━━━━━━━━━━━━━━━━━━━━━━━━━━\u001b[0m \u001b[32m0.0/54.9 kB\u001b[0m \u001b[31m?\u001b[0m eta \u001b[36m-:--:--\u001b[0m\r\u001b[2K     \u001b[90m━━━━━━━━━━━━━━━━━━━━━━━━━━━━━━━━━━━━━━━━\u001b[0m \u001b[32m54.9/54.9 kB\u001b[0m \u001b[31m3.3 MB/s\u001b[0m eta \u001b[36m0:00:00\u001b[0m\n",
            "\u001b[?25h  Preparing metadata (setup.py) ... \u001b[?25l\u001b[?25hdone\n",
            "Requirement already satisfied: lxml in /usr/local/lib/python3.10/dist-packages (from docx) (4.9.4)\n",
            "Requirement already satisfied: Pillow>=2.0 in /usr/local/lib/python3.10/dist-packages (from docx) (9.4.0)\n",
            "Building wheels for collected packages: docx\n",
            "  Building wheel for docx (setup.py) ... \u001b[?25l\u001b[?25hdone\n",
            "  Created wheel for docx: filename=docx-0.2.4-py3-none-any.whl size=53894 sha256=b2edbe8251d4ca964d6af0ff5a225edcec721a885f5cece8d97496deda147537\n",
            "  Stored in directory: /root/.cache/pip/wheels/81/f5/1d/e09ba2c1907a43a4146d1189ae4733ca1a3bfe27ee39507767\n",
            "Successfully built docx\n",
            "Installing collected packages: docx\n",
            "Successfully installed docx-0.2.4\n",
            "Collecting fpdf\n",
            "  Downloading fpdf-1.7.2.tar.gz (39 kB)\n",
            "  Preparing metadata (setup.py) ... \u001b[?25l\u001b[?25hdone\n",
            "Building wheels for collected packages: fpdf\n",
            "  Building wheel for fpdf (setup.py) ... \u001b[?25l\u001b[?25hdone\n",
            "  Created wheel for fpdf: filename=fpdf-1.7.2-py2.py3-none-any.whl size=40704 sha256=21f716042b8935e6eec1c7f945aee027630a86ca9cd4d1c75311b6c9b8d1ae51\n",
            "  Stored in directory: /root/.cache/pip/wheels/f9/95/ba/f418094659025eb9611f17cbcaf2334236bf39a0c3453ea455\n",
            "Successfully built fpdf\n",
            "Installing collected packages: fpdf\n",
            "Successfully installed fpdf-1.7.2\n"
          ]
        }
      ]
    },
    {
      "cell_type": "code",
      "source": [
        "from PyPDF2 import PdfReader\n",
        "\n",
        "def load_and_extract_text(file_path):\n",
        "    with open(file_path, 'rb') as file:\n",
        "        pdf_reader = PdfReader(file)\n",
        "        text = \"\"\n",
        "        for page in pdf_reader.pages:\n",
        "            text += page.extract_text()\n",
        "        return text\n"
      ],
      "metadata": {
        "id": "s0Q2Q9wxZf-V"
      },
      "execution_count": null,
      "outputs": []
    },
    {
      "cell_type": "code",
      "source": [
        "load_and_extract_text(\"CoverLetter/Data/CV_GPT_rev.pdf\")"
      ],
      "metadata": {
        "colab": {
          "base_uri": "https://localhost:8080/",
          "height": 88
        },
        "id": "oHdjHsX1ZvQD",
        "outputId": "f972824b-3c87-4dc8-99dc-3b142fed8321"
      },
      "execution_count": null,
      "outputs": [
        {
          "output_type": "execute_result",
          "data": {
            "text/plain": [
              "'Itay\\nBen-Dan\\nHaarava\\n20,\\nHerzliya\\nP.\\nO.\\nBox\\n5990,\\nHerzliya,\\nIsrael\\n46100\\nCellular:\\n+972544539284\\nEmail:\\nitaybd@gmail.com\\nProfessional\\nSummary\\nFull\\nStack\\nMachine\\nLearning\\nEngineer\\nwith\\nextensive\\nexperience\\nin\\ndata\\nengineering,\\nmodel\\ndevelopment,\\ndeployment,\\nand\\nmaintenance.\\nExpertise\\nin\\nsports,\\nfinance,\\nand\\nrobotics,\\nwith\\na\\nfocus\\non\\nadvanced\\ndata\\nanalytics\\nand\\nmachine\\nlearning,\\nincluding\\nLLMs\\nand\\nmulti-agent\\nsystems.\\nWork\\nExperience\\n2017-Present:\\nMachine\\nLearning\\nand\\nData\\nScience\\nConsultant\\n●\\nDeveloped\\npredictive\\nmodels\\nfrom\\nscratch,\\nincluding\\ndeployment.\\n●\\nConducted\\nexploratory\\ndata\\nanalysis\\nand\\nadvanced\\nfeature\\ngeneration.\\n●\\nIntegrated\\ndata\\nfrom\\nvarious\\nsources\\ninto\\nunified\\nformats.\\n●\\nDeveloped\\npolicy\\ngenerative\\nmodels\\nusing\\nreinforcement\\nlearning.\\n2017-Present:\\nFounder\\nand\\nHead\\nof\\nResearch,\\nFinzor\\nLtd.\\n●\\nDeveloped\\nportfolio\\nmanagement\\nand\\ninvestment\\nanalysis\\ntools.\\n●\\nLed\\na\\nteam\\nto\\ndeliver\\nsoftware\\nproducts\\nfrom\\ndesign\\nto\\nproduction.\\n2016-2017:\\nPrincipal\\nMachine\\nLearning,\\nPalo\\nAlto\\nNetworks\\n●\\nApplied\\nmachine\\nlearning\\nto\\nreverse\\nengineering\\nand\\nmalware\\nanalysis.\\n●\\nCreated\\nadaptive\\nmodels\\nfor\\nupdating\\nanti-malware\\nfilters\\nand\\nclassifiers.\\n2015-2016:\\nSenior\\nData\\nScientist,\\nSparkBeyond\\n●\\nWorked\\non\\nbig\\ndata\\npredictive\\nanalytics\\nand\\nmachine\\nlearning.\\n●\\nApplied\\nautomatic\\nfeature\\ngeneration\\nmethods\\nto\\ntime\\nseries\\nanalysis\\nand\\nreinforcement\\nlearning.\\n2011-2015:\\nSenior\\nQuantitative\\nResearcher,\\nWorldQuant●\\nDeveloped\\nautomated\\ncomputational\\nmethods\\nfor\\nquant-driven\\nstrategies.\\n●\\nApplied\\npredictive\\nanalytics\\nand\\nstatistical\\nmethods\\nacross\\nvarious\\nassets.\\n2010-2011:\\nSenior\\nSoftware\\nEngineer,\\nBroadcom\\n●\\nDesigned\\nnetwork\\nand\\npacket\\nprocessing\\nmethodologies.\\n●\\nImplemented\\nadvanced\\nautomated\\ntesting\\nmethods.\\n2008-2009:\\nFounder,\\nGenous\\nVision\\n●\\nDeveloped\\nalgorithms\\nfor\\nrecognizing\\nanatomies\\nin\\nultrasound\\nimages.\\nEducation\\n2009:\\nPh.D.\\nin\\nMathematics,\\nTechnion,\\nHaifa\\n●\\nTopic:\\nDiscrete\\nGeometry\\n●\\nSupervisor:\\nDr.\\nRom\\nPinchasi\\n2004:\\nM.Sc.\\nin\\nMathematics,\\nTechnion,\\nHaifa\\n●\\nTopic:\\nGame\\nTheory\\n●\\nThesis:\\nTime\\nSharing\\nunder\\nDichotomous\\nPreferences\\n●\\nGrade:\\n95\\n●\\nSupervisor:\\nProf.\\nRon\\nHolzman\\n2002:\\nB.Sc.\\nin\\nMathematics\\nand\\nComputer\\nScience,\\nTechnion,\\nHaifa\\n●\\nCum\\nLaude\\nSkills\\n●\\nProgramming\\nLanguages:\\nPython,\\nR,\\nC++,\\nJava\\n●\\nMachine\\nLearning\\nFrameworks:\\nTensorFlow,\\nPyTorch,\\nScikit-learn\\n●\\nData\\nAnalysis\\nTools:\\nPandas,\\nNumPy,\\nSQL\\n●\\nOther\\nTechnologies:\\nDocker,\\nKubernetes,\\nAWS,\\nGit,\\nLinux\\nProjects\\nTreeModelVis●\\nVisualization\\ntool\\nfor\\ntree-based\\nmodels,\\naiding\\nin\\nunderstanding\\ndecision\\npaths\\nand\\nfeature\\nimportance.\\n●\\nTechnologies\\nUsed:\\nPython,\\nD3.js\\n●\\nGitHub\\nRepository\\nPublications\\n●\\nPoints\\nwith\\nLarge\\nQuadrant\\nDepth.\\nJoCG\\n2(1):\\n128-143\\n(2011)\\n●\\nPoints\\nwith\\nlarge\\nquadrant\\ndepth.\\nSymposium\\non\\nComputational\\nGeometry\\n2010:\\n358-364\\n●\\nOn\\na\\nproblem\\nabout\\nquadrant\\ndepth.\\nComput.\\nGeom.\\n43(6-7):\\n587-592\\n(2010)\\n●\\nPoints\\nwith\\nlarge\\nalphadepth.\\nJ.\\nComb.\\nTheory,\\nSer.\\nA\\n116(3):\\n747-755\\n(2009)\\nContact\\nInformation\\n●\\nEmail:\\nitaybd@gmail.com\\n●\\nLinkedIn:\\nItay\\nBen-Dan\\nLinkedIn\\nProfile\\nThis\\nCV\\nis\\nconcise\\nand\\ntailored,\\nhighlighting\\nkey\\nskills\\nand\\nexperience\\nin\\na\\nclean,\\norganized\\nformat.'"
            ],
            "application/vnd.google.colaboratory.intrinsic+json": {
              "type": "string"
            }
          },
          "metadata": {},
          "execution_count": 10
        }
      ]
    },
    {
      "cell_type": "code",
      "source": [
        "import pathlib\n",
        "import textwrap\n",
        "\n",
        "import google.generativeai as genai\n",
        "\n",
        "from IPython.display import display\n",
        "from IPython.display import Markdown\n",
        "\n",
        "\n",
        "def to_markdown(text):\n",
        "  text = text.replace('•', '  *')\n",
        "  return Markdown(textwrap.indent(text, '> ', predicate=lambda _: True))"
      ],
      "metadata": {
        "id": "N_bcFVj0_2By"
      },
      "execution_count": null,
      "outputs": []
    },
    {
      "cell_type": "code",
      "source": [
        "model = genai.GenerativeModel('gemini-1.5-flash')"
      ],
      "metadata": {
        "id": "Z-qmIfuMBJ1o"
      },
      "execution_count": null,
      "outputs": []
    },
    {
      "cell_type": "code",
      "source": [
        "\n",
        "\n",
        "#from your_embedding_library import generate_embeddings, find_similar_chunks\n",
        "\n",
        "\n",
        "# Example usage:\n",
        "def generate_cover_letter(model,prompt, job_description_text, cv_text, additional_prompt=\"\"):\n",
        "\n",
        "    prompt = f\"\"\"Based on the provided job description and CV, write a compelling and personalized cover letter that highlights relevant skills and experiences.\n",
        "\n",
        "    Job Description:\\n{job_description_text}\\n\\nCV:\\n{cv_text}\\n\\n{prompt}\"\"\"\n",
        "\n",
        "    response = model.generate_content(prompt)  # Remove the 'context' argument\n",
        "    return response\n"
      ],
      "metadata": {
        "id": "jr5tcC7Myxgu"
      },
      "execution_count": null,
      "outputs": []
    },
    {
      "cell_type": "code",
      "source": [
        "job_description = \"\"\" We're seeking an AI Developer to join our team. In this role, you'll leverage artificial intelligence and machine learning techniques to improve the invoice reconciliation process and create a unified data format across various financial systems.\n",
        "\n",
        "Responsibilities:\n",
        "- Develop and implement AI and machine learning models to automate invoice reconciliation\n",
        "- Create intelligent systems to unify diverse invoice data into a standardized format\n",
        "- Design and build natural language processing (NLP) solutions to extract key information from unstructured invoice data\n",
        "- Implement machine learning algorithms to identify patterns, anomalies, and potential errors in financial data\n",
        "- Collaborate with finance and accounting teams to understand business requirements and integrate AI solutions into existing workflows\n",
        "- Continuously improve and optimize AI models based on new data and changing business needs\n",
        "\n",
        "Requirements:\n",
        "- Masters or PhD in Computer Science, Artificial Intelligence, or related field\n",
        "- 3+ years of experience developing AI and machine learning solutions, preferably in finance or accounting domains\n",
        "- Strong programming skills in Python and experience with ML frameworks (e.g., TensorFlow, PyTorch, scikit-learn)\n",
        "- Experience with NLP techniques and text analysis\n",
        "- Familiarity with financial systems, ERP software, and accounting principles\n",
        "- Knowledge of data privacy and security best practices\n",
        "- Excellent problem-solving skills and ability to translate complex business requirements into technical solutions\n",
        "\n",
        "No agencies please.\n",
        "This individual must be available for 30h/week and during UK working hours.\n",
        "\n",
        "\"\"\""
      ],
      "metadata": {
        "id": "ObT0i4G33Cie"
      },
      "execution_count": null,
      "outputs": []
    },
    {
      "cell_type": "code",
      "source": [
        "prompt =  \"\"\"\n",
        "Based on the provided job description and CV, create a compelling and personalized cover letter that:\n",
        "[... (the rest of the original prompt remains the same) ...]\n",
        "\n",
        "Within the body paragraphs, emphasize the following key points using bold formatting (**):\n",
        "\n",
        "* **Years of experience:** If mentioned in the CV, clearly state your total years of experience in the relevant field.\n",
        "* **Technical skills:** Highlight the most relevant programming languages, tools, and frameworks used in your previous roles.\n",
        "* **Specific accomplishments:** Bold the names of projects or initiatives where you made a significant impact, and quantify the results whenever possible, ensuring the sentence remains grammatically correct.\n",
        "* **Keywords from the job description that demonstrate your skills:** Identify and emphasize any specific phrases from your CV that directly match the requirements outlined in the job description.\n",
        "* **Company name:** Bold the company name to show your attention to detail and interest in the position.\n",
        "\n",
        "Avoid excessive highlighting. Bold only the most essential words or phrases to maintain readability and impact. Each sentence should have no more than 2 bolded phrases and ideally 1.\n",
        "\"\"\""
      ],
      "metadata": {
        "id": "_WQBZLP7X9XD"
      },
      "execution_count": null,
      "outputs": []
    },
    {
      "cell_type": "code",
      "source": [
        "Prompt2 = \"\"\"\n",
        "Based on the generated cover letter above, identify the MOST RELEVANT word or phrase in EACH SENTENCE that reflects the applicant's key skills, achievements, or qualifications that align with the job description. Enclose each identified word or phrase with double asterisks (**) for bold emphasis.\n",
        "\"\"\""
      ],
      "metadata": {
        "id": "DaKTbiyYjxnN"
      },
      "execution_count": null,
      "outputs": []
    },
    {
      "cell_type": "code",
      "source": [
        "job_description = job_description #load_and_extract_text(\"job_description.pdf\")\n",
        "cv_text = load_and_extract_text(\"CoverLetter/Data/CV_GPT_rev.pdf\")\n",
        "cover_letter = generate_cover_letter(model,prompt,job_description, cv_text)\n",
        "#print(cover_letter)"
      ],
      "metadata": {
        "id": "s6351suRy2Zk"
      },
      "execution_count": null,
      "outputs": []
    },
    {
      "cell_type": "code",
      "source": [
        "cover_letter.text"
      ],
      "metadata": {
        "colab": {
          "base_uri": "https://localhost:8080/",
          "height": 88
        },
        "id": "Tgse2rBkRtL1",
        "outputId": "26d25580-7190-4945-85ad-c0b2c269c0ec"
      },
      "execution_count": null,
      "outputs": [
        {
          "output_type": "execute_result",
          "data": {
            "text/plain": [
              "\"Dear Hiring Manager,\\n\\nI am writing to express my keen interest in the AI Developer position at your company. With over **7 years of experience** in developing and deploying AI and machine learning solutions across various domains, including finance and robotics, I am confident I possess the skills and expertise to excel in this role.\\n\\nMy experience in **developing predictive models from scratch**, including deployment, combined with my proficiency in **Python, TensorFlow, PyTorch, and scikit-learn**, aligns perfectly with your requirements. In my previous role as a Machine Learning and Data Science Consultant, I successfully **integrated data from diverse sources into unified formats** and implemented **intelligent systems to automate complex tasks**. Furthermore, my **extensive experience in NLP techniques and text analysis**, gained during my tenure at **Palo Alto Networks**, has equipped me with the skills to extract key information from unstructured invoice data.\\n\\nI am particularly excited about the opportunity to leverage my expertise in **machine learning algorithms to identify patterns, anomalies, and potential errors in financial data** and contribute to **improving the invoice reconciliation process**. In my role as Founder and Head of Research at **Finzor Ltd.**, I spearheaded the development of portfolio management and investment analysis tools, demonstrating my understanding of financial systems and accounting principles.\\n\\nI am confident that my strong technical skills, combined with my passion for AI and deep understanding of financial data, make me a strong candidate for this position. I am available for 30 hours/week and during UK working hours, and eager to discuss how my skills and experience can contribute to your team's success. \\n\\nThank you for your time and consideration.\\n\\nSincerely,\\n\\nItay Ben-Dan \\n\""
            ],
            "application/vnd.google.colaboratory.intrinsic+json": {
              "type": "string"
            }
          },
          "metadata": {},
          "execution_count": 18
        }
      ]
    },
    {
      "cell_type": "code",
      "source": [
        "import re\n",
        "def parse_output(model_response):\n",
        "    paragraphs = model_response.split(\"\\n\\n\")  # Split by empty lines to identify paragraphs\n",
        "    formatted_paragraphs = []\n",
        "\n",
        "    for paragraph in paragraphs:\n",
        "        lines = paragraph.splitlines()\n",
        "        formatted_lines = []\n",
        "\n",
        "        for line in lines:\n",
        "            # Check for bold text using a modified regex\n",
        "            bold_match = re.search(r\"\\*\\*(.*?)\\*\\*\", line)  # Find bold text within **\n",
        "            if bold_match:\n",
        "                text = bold_match.group(1)\n",
        "                formatted_lines.append((\"bold\", text))\n",
        "            else:\n",
        "                formatted_lines.append((\"normal\", line))  # Treat everything else as normal\n",
        "\n",
        "        formatted_paragraphs.append(formatted_lines)\n",
        "\n",
        "    return formatted_paragraphs"
      ],
      "metadata": {
        "id": "W_oiZ9lVtHj_"
      },
      "execution_count": null,
      "outputs": []
    },
    {
      "cell_type": "code",
      "source": [
        "!pip install python-docx"
      ],
      "metadata": {
        "colab": {
          "base_uri": "https://localhost:8080/"
        },
        "id": "Ap0XVKLUyjL2",
        "outputId": "4f3c7fc7-e152-49db-9476-dd179a4c82e8"
      },
      "execution_count": null,
      "outputs": [
        {
          "output_type": "stream",
          "name": "stdout",
          "text": [
            "Collecting python-docx\n",
            "  Downloading python_docx-1.1.2-py3-none-any.whl.metadata (2.0 kB)\n",
            "Requirement already satisfied: lxml>=3.1.0 in /usr/local/lib/python3.10/dist-packages (from python-docx) (4.9.4)\n",
            "Requirement already satisfied: typing-extensions>=4.9.0 in /usr/local/lib/python3.10/dist-packages (from python-docx) (4.12.2)\n",
            "Downloading python_docx-1.1.2-py3-none-any.whl (244 kB)\n",
            "\u001b[2K   \u001b[90m━━━━━━━━━━━━━━━━━━━━━━━━━━━━━━━━━━━━━━━━\u001b[0m \u001b[32m244.3/244.3 kB\u001b[0m \u001b[31m3.7 MB/s\u001b[0m eta \u001b[36m0:00:00\u001b[0m\n",
            "\u001b[?25hInstalling collected packages: python-docx\n",
            "Successfully installed python-docx-1.1.2\n"
          ]
        }
      ]
    },
    {
      "cell_type": "code",
      "source": [
        "from docx import Document\n",
        "\n",
        "def save_to_docx(text, filename=\"cover_letter.docx\"):\n",
        "    doc = Document()\n",
        "    doc.add_paragraph(text)\n",
        "    doc.save(filename)\n",
        "    return\n"
      ],
      "metadata": {
        "id": "YkENxfAxygln"
      },
      "execution_count": null,
      "outputs": []
    },
    {
      "cell_type": "code",
      "source": [
        "def generate_cover_letter_x(model,prompt1, job_description_text, cv_text):\n",
        "  print(\"HERE1\")\n",
        "  response = generate_cover_letter(model,prompt1, job_description_text, cv_text)\n",
        "  print(\"HERE2\")\n",
        "  print(response.text)\n",
        "  sentences = response.text.split(\". \") # Split into sentences\n",
        "  formatted_sentences = []\n",
        "\n",
        "  for sentence in sentences:\n",
        "      prompt2 = f\"\"\"Based on the following sentence from a cover letter, identify the MOST RELEVANT word or phrase that reflects the applicant's key skills, achievements, or qualifications. Enclose the identified word or phrase with double asterisks (**) for bold emphasis.\n",
        "\n",
        "        Sentence: {sentence}\"\"\"\n",
        "      response2 = model.generate_content(prompt2)\n",
        "      formatted_sentences.append(response2.text.strip())  # Strip newline characters\n",
        "\n",
        "  formatted_cover_letter = \". \".join(formatted_sentences)\n",
        "  formatted_paragraphs = parse_output(response.text)\n",
        "\n",
        "  doc = Document()\n",
        "  print(formatted_paragraphs)\n",
        "  for paragraph in formatted_paragraphs:\n",
        "      p = doc.add_paragraph()\n",
        "      for style, text in paragraph:\n",
        "          run = p.add_run(text)\n",
        "          if style == \"bold\":\n",
        "              run.bold = True\n",
        "          elif style == \"italic\":\n",
        "              run.italic = True\n",
        "  # Save the .docx file\n",
        "  doc.save(\"cover_letter.docx\")\n",
        "  print(\"Cover letter generated and saved as cover_letter.docx\")\n",
        "\n",
        "\n"
      ],
      "metadata": {
        "id": "NAk9jmxWUM-6"
      },
      "execution_count": null,
      "outputs": []
    },
    {
      "cell_type": "code",
      "source": [
        "from fpdf import FPDF\n",
        "pdf = FPDF()\n",
        "pdf.add_page()\n",
        "pdf.set_font(\"Arial\", size=12)\n",
        "\n",
        "# Add cover letter text to PDF\n",
        "pdf.multi_cell(0, 10, txt=cover_letter.text)\n",
        "\n",
        "# Save PDF to file\n",
        "pdf.output(\"cover_letter.pdf\", \"F\")"
      ],
      "metadata": {
        "colab": {
          "base_uri": "https://localhost:8080/",
          "height": 36
        },
        "id": "-ADKC0kRRakh",
        "outputId": "12ff8a54-c601-422b-ec2c-f12f21198e9f"
      },
      "execution_count": null,
      "outputs": [
        {
          "output_type": "execute_result",
          "data": {
            "text/plain": [
              "''"
            ],
            "application/vnd.google.colaboratory.intrinsic+json": {
              "type": "string"
            }
          },
          "metadata": {},
          "execution_count": 23
        }
      ]
    },
    {
      "cell_type": "code",
      "source": [
        " generate_cover_letter_x(model,prompt, job_description, cv_text)"
      ],
      "metadata": {
        "colab": {
          "base_uri": "https://localhost:8080/",
          "height": 384
        },
        "id": "AMb3IhfODikf",
        "outputId": "58897897-fac8-4579-cfc0-2ec328597b00"
      },
      "execution_count": null,
      "outputs": [
        {
          "output_type": "stream",
          "name": "stdout",
          "text": [
            "HERE1\n",
            "HERE2\n",
            "Dear Hiring Manager,\n",
            "\n",
            "I am writing to express my strong interest in the **AI Developer** position at your company. With over **10 years of experience** in machine learning and data science, I have a proven track record of developing and deploying cutting-edge AI solutions in various industries, including finance. My expertise in **data engineering, model development, deployment, and maintenance** makes me confident in my ability to excel in this role and contribute significantly to your team.\n",
            "\n",
            "Throughout my career, I have consistently demonstrated my ability to develop and implement AI solutions that drive tangible business value. At **Finzor Ltd**, I led the development of **portfolio management and investment analysis tools** using machine learning techniques, enabling investors to make more informed decisions. Similarly, at **Palo Alto Networks**, I applied machine learning to **reverse engineering and malware analysis**, creating **adaptive models** for updating anti-malware filters and classifiers, significantly enhancing cybersecurity capabilities. \n",
            "\n",
            "I am particularly drawn to this role due to my extensive experience in **invoice reconciliation**, **data unification**, and **NLP**. In previous projects, I have successfully integrated data from various sources into unified formats, developed **predictive models** for various business applications, and implemented **natural language processing techniques** to extract key information from unstructured data. I am also proficient in the required programming languages and tools, including **Python, TensorFlow, PyTorch, scikit-learn, Pandas, NumPy, and SQL**. My knowledge of financial systems, **ERP software**, and accounting principles will allow me to seamlessly collaborate with your finance and accounting teams.\n",
            "\n",
            "I am confident that my technical skills, combined with my passion for AI and my strong understanding of financial processes, make me an ideal candidate for this position. I am eager to leverage my expertise to improve your invoice reconciliation process, create a unified data format across your financial systems, and contribute to the success of your organization. I am available for **30 hours per week** and can work during **UK working hours**.\n",
            "\n",
            "Thank you for your time and consideration. I look forward to discussing how my skills and experience can benefit your team.\n",
            "\n",
            "Sincerely,\n",
            "\n",
            "Itay Ben-Dan \n",
            "\n",
            "[[('normal', 'Dear Hiring Manager,')], [('bold', 'AI Developer')], [('bold', 'Finzor Ltd')], [('bold', 'invoice reconciliation')], [('bold', '30 hours per week')], [('normal', 'Thank you for your time and consideration. I look forward to discussing how my skills and experience can benefit your team.')], [('normal', 'Sincerely,')], [('normal', 'Itay Ben-Dan ')]]\n",
            "Cover letter generated and saved as cover_letter.docx\n"
          ]
        }
      ]
    },
    {
      "cell_type": "code",
      "source": [
        "#from genai import GenerativeModel\n",
        "#from docx import Document\n",
        "from docx.shared import Pt\n",
        "import re\n",
        "#from your_pdf_library import load_and_extract_text\n",
        "\n",
        "\n",
        "def generate_cover_letter(model, job_description_text, cv_text):\n",
        "    # Prompt 1: Generate cover letter content\n",
        "    prompt1 = \"\"\"Based on the provided job description and CV, create a compelling and personalized cover letter that:\n",
        "    - Highlights the most relevant skills, experiences, and achievements, tailoring them to the specific job requirements.\n",
        "    - Quantifies accomplishments with concrete numbers and metrics wherever possible.\n",
        "    - Expresses genuine enthusiasm for the company's mission and values.\n",
        "    - Maintains a professional and engaging tone throughout.\n",
        "    - Uses bullet points to list key qualifications or specific accomplishments.\n",
        "    - Concludes with a professional closing and your signature.\n",
        "\n",
        "    DO NOT include formatting or highlighting instructions in this part.\"\"\"\n",
        "\n",
        "    response1 = model.generate_content(prompt1)\n",
        "\n",
        "    # Prompt 2: Identify highlights within each paragraph\n",
        "    paragraphs = response1.text.split(\"\\n\\n\")  # Split into paragraphs\n",
        "    formatted_paragraphs = []\n",
        "\n",
        "    for paragraph in paragraphs:\n",
        "        prompt2 = f\"\"\"Based on the following paragraph from a cover letter and the provided job description, identify the 1-2 MOST RELEVANT phrases that BEST demonstrate the applicant's key skills, achievements, or qualifications. Enclose each identified phrase with double asterisks (**) for bold emphasis.\n",
        "\n",
        "        Paragraph: {paragraph}\n",
        "\n",
        "        Job Description: {job_description_text}\"\"\"\n",
        "\n",
        "        response2 = model.generate_content(prompt2).text.strip()\n",
        "        formatted_paragraphs.append(response2)\n",
        "\n",
        "    # Create .docx document with formatting\n",
        "    doc = Document()\n",
        "\n",
        "    for paragraph in formatted_paragraphs:\n",
        "        p = doc.add_paragraph()\n",
        "        current_run = []\n",
        "\n",
        "        for word in paragraph.split():\n",
        "            if word.startswith(\"**\") and word.endswith(\"**\"):\n",
        "                run = p.add_run(word[2:-2])\n",
        "                run.bold = True\n",
        "            else:\n",
        "                current_run.append(word)\n",
        "\n",
        "        if current_run:\n",
        "            p.add_run(\" \".join(current_run))\n",
        "            p.add_run(\" \") # add space after each sentence\n",
        "\n",
        "\n",
        "    # Save .docx file\n",
        "    doc.save(\"cover_letter2.docx\")\n",
        "    print(\"Cover letter generated and saved as cover_letter.docx\")\n",
        "\n",
        "# Usage:\n",
        "job_description = job_description  # Load your job description text here\n",
        "cv_text = load_and_extract_text(\"CoverLetter/Data/CV_GPT_rev.pdf\")\n",
        "generate_cover_letter(model, job_description, cv_text)"
      ],
      "metadata": {
        "colab": {
          "base_uri": "https://localhost:8080/",
          "height": 34
        },
        "id": "nApDJ36la2JT",
        "outputId": "e569ef66-03e7-4bd0-b7b6-3c49ed64b2bb"
      },
      "execution_count": null,
      "outputs": [
        {
          "output_type": "stream",
          "name": "stdout",
          "text": [
            "Cover letter generated and saved as cover_letter.docx\n"
          ]
        }
      ]
    },
    {
      "cell_type": "code",
      "source": [
        "from docx import Document\n",
        "from docx.shared import Pt\n",
        "import re\n",
        "\n",
        "def generate_cover_letter(model, job_description_text, cv_text):\n",
        "    # Prompt 1: Generate cover letter content\n",
        "    prompt1 = \"\"\"Based on the provided job description and CV, create a compelling and personalized cover letter that:\n",
        "    - Highlights the most relevant skills, experiences, and achievements, tailoring them to the specific job requirements.\n",
        "    - Quantifies accomplishments with concrete numbers and metrics wherever possible.\n",
        "    - Expresses genuine enthusiasm for the company's mission and values.\n",
        "    - Maintains a professional and engaging tone throughout.\n",
        "    - Uses bullet points to list key qualifications or specific accomplishments.\n",
        "    - Concludes with a professional closing and your signature.\n",
        "\n",
        "    DO NOT include formatting or highlighting instructions in this part.\"\"\"\n",
        "\n",
        "    response1 = model.generate_content(prompt1)\n",
        "\n",
        "    # Prompt 2: Identify highlights within each paragraph\n",
        "    paragraphs = response1.text.split(\"\\n\\n\")  # Split into paragraphs\n",
        "    formatted_paragraphs = []\n",
        "\n",
        "    for paragraph in paragraphs:\n",
        "        prompt2 = f\"\"\"Based on the following paragraph from a cover letter and the provided job description, identify the 1-2 MOST RELEVANT phrases that BEST demonstrate the applicant's key skills, achievements, or qualifications. Enclose each identified phrase with double asterisks (**) for bold emphasis.\n",
        "\n",
        "        Paragraph: {paragraph}\n",
        "\n",
        "        Job Description: {job_description_text}\"\"\"\n",
        "\n",
        "        response2 = model.generate_content(prompt2).text.strip()\n",
        "        formatted_paragraphs.append(response2)\n",
        "\n",
        "    # Create .docx document with formatting\n",
        "    doc = Document()\n",
        "\n",
        "    for paragraph in formatted_paragraphs:\n",
        "        p = doc.add_paragraph()\n",
        "        current_run = []\n",
        "\n",
        "        for word in paragraph.split():\n",
        "            if word.startswith(\"**\") and word.endswith(\"**\"):\n",
        "                run = p.add_run(word[2:-2])\n",
        "                run.bold = True\n",
        "            else:\n",
        "                current_run.append(word)\n",
        "\n",
        "        if current_run:\n",
        "            p.add_run(\" \".join(current_run))\n",
        "            p.add_run(\" \")  # Add space after each sentence\n",
        "\n",
        "    # Save .docx file\n",
        "    doc.save(\"cover_letter3.docx\")\n",
        "    print(\"Cover letter generated and saved as cover_letter3.docx\")\n",
        "\n",
        "# Usage:\n",
        "job_description = job_description  # Load your job description text here\n",
        "cv_text = load_and_extract_text(\"CoverLetter/Data/CV_GPT_rev.pdf\")\n",
        "generate_cover_letter(model, job_description, cv_text)\n"
      ],
      "metadata": {
        "colab": {
          "base_uri": "https://localhost:8080/",
          "height": 34
        },
        "id": "jxm0TJSjhW3B",
        "outputId": "eb87081d-ef68-4ffe-c951-d37b5cbefc4d"
      },
      "execution_count": null,
      "outputs": [
        {
          "output_type": "stream",
          "name": "stdout",
          "text": [
            "Cover letter generated and saved as cover_letter3.docx\n"
          ]
        }
      ]
    },
    {
      "cell_type": "code",
      "source": [
        "#from genai import GenerativeModel\n",
        "from docx import Document\n",
        "from docx.shared import Pt\n",
        "import re\n",
        "#from your_pdf_library import load_and_extract_text\n",
        "\n",
        "def generate_cover_letter(model, job_description_text, cv_text):\n",
        "    # Prompt 1: Generate cover letter content (no highlighting)\n",
        "    prompt1 = f\"\"\"Based on the provided job description and CV, create a compelling and personalized cover letter that:\n",
        "    - Highlights the most relevant skills, experiences, and achievements, tailoring them to the specific job requirements.\n",
        "    - Quantifies accomplishments with concrete numbers and metrics wherever possible.\n",
        "    - Expresses genuine enthusiasm for the company's mission and values.\n",
        "    - Maintains a professional and engaging tone throughout.\n",
        "    - Uses bullet points to list key qualifications or specific accomplishments.\n",
        "    - Concludes with a professional closing and your signature.\n",
        "\n",
        "    Job Description:\n",
        "    {job_description_text}\n",
        "\n",
        "    DO NOT include formatting or highlighting instructions in this part.\"\"\"\n",
        "\n",
        "    response1 = model.generate_content(prompt1)\n",
        "\n",
        "    # Prompt 2: Identify highlights within each paragraph (max 3 words/phrases)\n",
        "    paragraphs = response1.text.split(\"\\n\\n\")  # Split into paragraphs\n",
        "    formatted_paragraphs = []\n",
        "\n",
        "    for paragraph in paragraphs:\n",
        "        prompt2 = f\"\"\"Identify the 1-2 MOST RELEVANT words or phrases in the following paragraph that BEST demonstrate the applicant's key skills, achievements, or qualifications that align with the job description. Enclose each identified word or phrase with double asterisks (**) for bold emphasis.\n",
        "\n",
        "        Paragraph: {paragraph}\n",
        "\n",
        "        Job Description: {job_description_text}\"\"\"\n",
        "\n",
        "        response2 = model.generate_content(prompt2).text.strip()\n",
        "        formatted_paragraphs.append(response2)\n",
        "\n",
        "    # Create .docx document with formatting\n",
        "    doc = Document()\n",
        "\n",
        "    for paragraph in formatted_paragraphs:\n",
        "        p = doc.add_paragraph()\n",
        "        current_run = []\n",
        "\n",
        "        for word in paragraph.split():\n",
        "            if word.startswith(\"**\") and word.endswith(\"**\"):\n",
        "                run = p.add_run(word[2:-2])\n",
        "                run.bold = True\n",
        "            else:\n",
        "                current_run.append(word)\n",
        "\n",
        "        if current_run:\n",
        "            p.add_run(\" \".join(current_run))\n",
        "            p.add_run(\" \")  # Add space after each sentence\n",
        "\n",
        "    # Save .docx file\n",
        "    doc.save(\"cover_letter.docx\")\n",
        "    print(\"Cover letter generated and saved as cover_letter.docx\")\n",
        "\n",
        "# Usage:\n",
        "job_description = job_description  # Load your job description text here\n",
        "cv_text = load_and_extract_text(\"CoverLetter/Data/CV_GPT_rev.pdf\")\n",
        "generate_cover_letter(model, job_description, cv_text)\n"
      ],
      "metadata": {
        "colab": {
          "base_uri": "https://localhost:8080/",
          "height": 34
        },
        "id": "BU0gu9Xsws_f",
        "outputId": "0c3913a8-bc93-48b3-d14d-92ce49f7e62e"
      },
      "execution_count": null,
      "outputs": [
        {
          "output_type": "stream",
          "name": "stdout",
          "text": [
            "Cover letter generated and saved as cover_letter.docx\n"
          ]
        }
      ]
    },
    {
      "cell_type": "code",
      "source": [
        "#from genai import GenerativeModel\n",
        "from docx import Document\n",
        "from docx.shared import Pt\n",
        "import re\n",
        "\n",
        "def generate_cover_letter(model, job_description_text, cv_text):\n",
        "    # Prompt 1: Generate cover letter content (no highlighting)\n",
        "    prompt1 = f\"\"\"Based on the provided job description and CV, create a compelling and personalized cover letter that:\n",
        "    - Highlights the most relevant skills, experiences, and achievements, tailoring them to the specific job requirements.\n",
        "    - Quantifies accomplishments with concrete numbers and metrics wherever possible.\n",
        "    - Expresses genuine enthusiasm for the company's mission and values.\n",
        "    - Maintains a professional and engaging tone throughout.\n",
        "    - Uses bullet points to list key qualifications or specific accomplishments.\n",
        "    - Concludes with a professional closing and your signature.\n",
        "\n",
        "    Job Description:\n",
        "    {job_description_text}\n",
        "\n",
        "    DO NOT include formatting or highlighting instructions in this part.\"\"\"\n",
        "\n",
        "    response1 = model.generate_content(prompt1)\n",
        "\n",
        "    # Prompt 2: Identify highlights within each paragraph (max 3 words/phrases)\n",
        "    paragraphs = response1.text.split(\"\\n\\n\")  # Split into paragraphs\n",
        "    formatted_paragraphs = []\n",
        "\n",
        "    for paragraph in paragraphs:\n",
        "        prompt2 = f\"\"\"Identify the 1-2 MOST RELEVANT words or phrases in the following paragraph that BEST demonstrate the applicant's key skills, achievements, or qualifications that align with the job description. Enclose each identified word or phrase with double asterisks (**) for bold emphasis.\n",
        "\n",
        "        Paragraph: {paragraph}\n",
        "\n",
        "        Job Description: {job_description_text}\"\"\"\n",
        "\n",
        "        response2 = model.generate_content(prompt2).text.strip()\n",
        "        formatted_paragraphs.append(response2)\n",
        "\n",
        "    # Create .docx document with formatting\n",
        "    doc = Document()\n",
        "\n",
        "    for paragraph in formatted_paragraphs:\n",
        "        p = doc.add_paragraph()\n",
        "        current_run = []\n",
        "\n",
        "        for word in paragraph.split():\n",
        "            if word.startswith(\"**\") and word.endswith(\"**\"):\n",
        "                run = p.add_run(word[2:-2])\n",
        "                run.bold = True\n",
        "            else:\n",
        "                current_run.append(word)\n",
        "\n",
        "        if current_run:\n",
        "            p.add_run(\" \".join(current_run))\n",
        "            p.add_run(\" \")  # Add space after each sentence\n",
        "\n",
        "    # Save .docx file\n",
        "    doc.save(\"cover_letter.docx\")\n",
        "    print(\"Cover letter generated and saved as cover_letter.docx\")\n",
        "\n",
        "# Usage:\n",
        "job_description = job_description  # Load your job description text here\n",
        "cv_text = load_and_extract_text(\"CoverLetter/Data/CV_GPT_rev.pdf\")\n",
        "generate_cover_letter(model, job_description, cv_text)\n"
      ],
      "metadata": {
        "colab": {
          "base_uri": "https://localhost:8080/",
          "height": 34
        },
        "id": "Zv0tLuOyVric",
        "outputId": "9bcf0484-6470-4545-92ce-222f023bdf5b"
      },
      "execution_count": 32,
      "outputs": [
        {
          "output_type": "stream",
          "name": "stdout",
          "text": [
            "Cover letter generated and saved as cover_letter.docx\n"
          ]
        }
      ]
    },
    {
      "cell_type": "code",
      "source": [
        "def generate_cover_letter(model,cv_text, job_description_text):\n",
        "\n",
        "    prompt = f\"\"\"Based on the provided job description and CV, write a compelling and personalized cover letter that highlights relevant skills and experiences.\n",
        "\n",
        "    Job Description:\\n{job_description_text}\\n\\nCV:\\n{cv_text}\\n\\n\n",
        "\n",
        "    Tailor the letter to the specific job requirements and showcase the candidate's enthusiasm for the position. Be sure to mention specific accomplishments and quantify results whenever possible. Keep the tone professional and engaging.\n",
        "    As concise as possible no more than 6 sentences. Avoid using adjectives unless neccessary \"\"\"\n",
        "\n",
        "    response = model.generate_content(prompt)  # Remove the 'context' argument\n",
        "    return response"
      ],
      "metadata": {
        "id": "-IdtA7FVpawp"
      },
      "execution_count": 38,
      "outputs": []
    },
    {
      "cell_type": "code",
      "source": [
        "!ls"
      ],
      "metadata": {
        "id": "C6mjUrIQnbPM",
        "colab": {
          "base_uri": "https://localhost:8080/"
        },
        "outputId": "0328c306-4260-4303-c71f-d315aa57e67b"
      },
      "execution_count": 30,
      "outputs": [
        {
          "output_type": "stream",
          "name": "stdout",
          "text": [
            "CoverLetter\t    cover_letter3.docx\tcover_letter.pdf\n",
            "cover_letter2.docx  cover_letter.docx\tsample_data\n"
          ]
        }
      ]
    },
    {
      "cell_type": "code",
      "source": [
        "generate_cover_letter(model,cv_text, job_description).text"
      ],
      "metadata": {
        "colab": {
          "base_uri": "https://localhost:8080/",
          "height": 88
        },
        "id": "g6uQVkOnakM8",
        "outputId": "01074ab4-2348-46b9-ca84-33763f446051"
      },
      "execution_count": 39,
      "outputs": [
        {
          "output_type": "execute_result",
          "data": {
            "text/plain": [
              "'Dear Hiring Manager,\\n\\nI am writing to express my strong interest in the AI Developer position at your company. My extensive experience in developing and deploying AI solutions, particularly in the finance and accounting domains, aligns perfectly with your requirements. I have a proven track record of creating innovative models for invoice reconciliation, data unification, and NLP-based information extraction. My proficiency in Python, ML frameworks, and NLP techniques, coupled with my deep understanding of financial systems and data privacy, makes me a strong candidate for this role.  I am particularly excited about the opportunity to contribute to your team and leverage my skills to optimize your invoice reconciliation process. I am available for 30 hours per week during UK working hours and am eager to learn more about this exciting opportunity.\\n\\nSincerely,\\n\\nItay Ben-Dan \\n'"
            ],
            "application/vnd.google.colaboratory.intrinsic+json": {
              "type": "string"
            }
          },
          "metadata": {},
          "execution_count": 39
        }
      ]
    },
    {
      "cell_type": "code",
      "source": [
        "def extract_key_phrases(model, cover_letter_text, job_description_text, num_phrases=4):\n",
        "    \"\"\"\n",
        "    Extracts key phrases from a cover letter based on their relevance to a job description using Gemini.\n",
        "\n",
        "    Args:\n",
        "        model: The Gemini language model instance.\n",
        "        cover_letter_text: The text of the cover letter.\n",
        "        job_description_text: The text of the job description.\n",
        "        num_phrases: The number of phrases to extract (default is 4).\n",
        "\n",
        "    Returns:\n",
        "        A list of the most important phrases.\n",
        "    \"\"\"\n",
        "\n",
        "    prompt = f\"\"\"Given the following cover letter and job description, identify the {num_phrases} most important words or two-word expressions in the cover letter that are most relevant to the job description.\n",
        "\n",
        "    Cover Letter:\n",
        "    {cover_letter_text}\n",
        "\n",
        "    Job Description:\n",
        "    {job_description_text}\n",
        "    \"\"\"\n",
        "\n",
        "    response = model.generate_content(prompt)\n",
        "\n",
        "    # Extract key phrases from response\n",
        "    important_phrases = response.text.split('\\n')  # Assuming each phrase is on a new line\n",
        "    return important_phrases\n",
        "\n",
        "# Example usage (assuming you have `model`, `cover_letter_text`, and `job_description_text`):\n",
        "\n"
      ],
      "metadata": {
        "id": "UAAWrcAwxvFR"
      },
      "execution_count": 43,
      "outputs": []
    },
    {
      "cell_type": "code",
      "source": [
        "cover_letter_text = generate_cover_letter(model,cv_text, job_description).text\n",
        "print(cover_letter_text)\n",
        "key_phrases = extract_key_phrases(model, cover_letter_text, job_description)\n",
        "for k in key_phrases:\n",
        "  print(k)"
      ],
      "metadata": {
        "colab": {
          "base_uri": "https://localhost:8080/",
          "height": 402
        },
        "id": "qryS4kOq5HmU",
        "outputId": "66589537-fd73-4ec2-aa38-44aeb2bf552e"
      },
      "execution_count": 46,
      "outputs": [
        {
          "output_type": "stream",
          "name": "stdout",
          "text": [
            "Dear Hiring Manager,\n",
            "\n",
            "I am writing to express my strong interest in the AI Developer position at your company. My experience developing and deploying machine learning models in finance, coupled with my expertise in NLP and data engineering, makes me a strong candidate for this role. I have successfully built and integrated AI solutions to automate complex processes, including invoice reconciliation and data unification. I am confident in my ability to contribute significantly to your team's efforts to improve invoice accuracy and efficiency. I am eager to learn more about this opportunity and discuss how my skills can benefit your organization. \n",
            "\n",
            "Sincerely,\n",
            "\n",
            "Itay Ben-Dan\n",
            "\n",
            "Here are the 4 most important words/phrases from the cover letter that align with the job description, along with explanations:\n",
            "\n",
            "1. **\"Invoice reconciliation\"**:  This phrase directly matches the job description's focus on improving the invoice reconciliation process using AI. \n",
            "2. **\"Machine learning models\"**: The job description emphasizes the development and implementation of ML models for automation and data unification. The cover letter highlights experience in this area.\n",
            "3. **\"NLP\"**:  The job description specifically mentions the need for NLP skills to extract information from unstructured invoice data. The cover letter references expertise in NLP.\n",
            "4. **\"Data unification\"**: This phrase, while not explicitly stated in the job description, strongly aligns with the objective of creating a unified data format across financial systems. \n",
            "\n",
            "**Why these are most important:**\n",
            "\n",
            "* **Direct relevance:** These terms directly address the key responsibilities and requirements outlined in the job description.\n",
            "* **Skill alignment:** They demonstrate the candidate's possession of specific skills and experience that are highly sought after for the position.\n",
            "* **Value proposition:** They highlight the candidate's ability to contribute directly to the company's goals, especially in areas like automation and data standardization. \n",
            "\n"
          ]
        }
      ]
    }
  ]
}