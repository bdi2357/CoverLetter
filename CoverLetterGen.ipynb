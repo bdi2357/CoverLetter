{
  "nbformat": 4,
  "nbformat_minor": 0,
  "metadata": {
    "colab": {
      "provenance": [],
      "authorship_tag": "ABX9TyPu9muUpcx1yZRk53ZwEaDC",
      "include_colab_link": true
    },
    "kernelspec": {
      "name": "python3",
      "display_name": "Python 3"
    },
    "language_info": {
      "name": "python"
    }
  },
  "cells": [
    {
      "cell_type": "markdown",
      "metadata": {
        "id": "view-in-github",
        "colab_type": "text"
      },
      "source": [
        "<a href=\"https://colab.research.google.com/github/bdi2357/CoverLetter/blob/main/CoverLetterGen.ipynb\" target=\"_parent\"><img src=\"https://colab.research.google.com/assets/colab-badge.svg\" alt=\"Open In Colab\"/></a>"
      ]
    },
    {
      "cell_type": "code",
      "execution_count": 1,
      "metadata": {
        "id": "mOEvG7YiAsKL"
      },
      "outputs": [],
      "source": [
        "!pip install -q -U google-generativeai"
      ]
    },
    {
      "cell_type": "code",
      "source": [
        "import pathlib\n",
        "import textwrap\n",
        "\n",
        "import google.generativeai as genai\n",
        "\n",
        "from IPython.display import display\n",
        "from IPython.display import Markdown\n",
        "\n",
        "\n",
        "def to_markdown(text):\n",
        "  text = text.replace('•', '  *')\n",
        "  return Markdown(textwrap.indent(text, '> ', predicate=lambda _: True))"
      ],
      "metadata": {
        "id": "At05GNhPPQ-s"
      },
      "execution_count": 2,
      "outputs": []
    },
    {
      "cell_type": "code",
      "source": [
        "# Used to securely store your API key\n",
        "from google.colab import userdata"
      ],
      "metadata": {
        "id": "MB7X0KA-RwVQ"
      },
      "execution_count": 3,
      "outputs": []
    },
    {
      "cell_type": "code",
      "source": [
        "# Or use `os.getenv('GOOGLE_API_KEY')` to fetch an environment variable.\n",
        "GOOGLE_API_KEY=userdata.get('GOOGLE_API_KEY')\n",
        "\n",
        "genai.configure(api_key=GOOGLE_API_KEY)"
      ],
      "metadata": {
        "id": "uJYQjQi8Rp2v"
      },
      "execution_count": 4,
      "outputs": []
    },
    {
      "cell_type": "code",
      "source": [
        "!pip install -q PyPDF2"
      ],
      "metadata": {
        "colab": {
          "base_uri": "https://localhost:8080/"
        },
        "id": "oOmvmTUHW3ov",
        "outputId": "792a16af-c9b3-43c4-e336-1faa7f854d71"
      },
      "execution_count": 5,
      "outputs": [
        {
          "output_type": "stream",
          "name": "stdout",
          "text": [
            "\u001b[?25l   \u001b[90m━━━━━━━━━━━━━━━━━━━━━━━━━━━━━━━━━━━━━━━━\u001b[0m \u001b[32m0.0/232.6 kB\u001b[0m \u001b[31m?\u001b[0m eta \u001b[36m-:--:--\u001b[0m\r\u001b[2K   \u001b[91m━━━━━━━━━━━━━━━━━━━\u001b[0m\u001b[90m╺\u001b[0m\u001b[90m━━━━━━━━━━━━━━━━━━━━\u001b[0m \u001b[32m112.6/232.6 kB\u001b[0m \u001b[31m3.2 MB/s\u001b[0m eta \u001b[36m0:00:01\u001b[0m\r\u001b[2K   \u001b[90m━━━━━━━━━━━━━━━━━━━━━━━━━━━━━━━━━━━━━━━━\u001b[0m \u001b[32m232.6/232.6 kB\u001b[0m \u001b[31m3.7 MB/s\u001b[0m eta \u001b[36m0:00:00\u001b[0m\n",
            "\u001b[?25h"
          ]
        }
      ]
    },
    {
      "cell_type": "code",
      "source": [
        "!pip install docx\n",
        "!pip install fpdf"
      ],
      "metadata": {
        "colab": {
          "base_uri": "https://localhost:8080/"
        },
        "id": "7yjjgrglZVuW",
        "outputId": "589aa4af-9465-4596-e574-321ab0681a99"
      },
      "execution_count": 6,
      "outputs": [
        {
          "output_type": "stream",
          "name": "stdout",
          "text": [
            "Collecting docx\n",
            "  Downloading docx-0.2.4.tar.gz (54 kB)\n",
            "\u001b[?25l     \u001b[90m━━━━━━━━━━━━━━━━━━━━━━━━━━━━━━━━━━━━━━━━\u001b[0m \u001b[32m0.0/54.9 kB\u001b[0m \u001b[31m?\u001b[0m eta \u001b[36m-:--:--\u001b[0m\r\u001b[2K     \u001b[90m━━━━━━━━━━━━━━━━━━━━━━━━━━━━━━━━━━━━━━━━\u001b[0m \u001b[32m54.9/54.9 kB\u001b[0m \u001b[31m3.6 MB/s\u001b[0m eta \u001b[36m0:00:00\u001b[0m\n",
            "\u001b[?25h  Preparing metadata (setup.py) ... \u001b[?25l\u001b[?25hdone\n",
            "Requirement already satisfied: lxml in /usr/local/lib/python3.10/dist-packages (from docx) (4.9.4)\n",
            "Requirement already satisfied: Pillow>=2.0 in /usr/local/lib/python3.10/dist-packages (from docx) (9.4.0)\n",
            "Building wheels for collected packages: docx\n",
            "  Building wheel for docx (setup.py) ... \u001b[?25l\u001b[?25hdone\n",
            "  Created wheel for docx: filename=docx-0.2.4-py3-none-any.whl size=53894 sha256=40e94d854fd0eafd024673d37f7013d1a86785b3a70710b8439465bceade7d3f\n",
            "  Stored in directory: /root/.cache/pip/wheels/81/f5/1d/e09ba2c1907a43a4146d1189ae4733ca1a3bfe27ee39507767\n",
            "Successfully built docx\n",
            "Installing collected packages: docx\n",
            "Successfully installed docx-0.2.4\n",
            "Collecting fpdf\n",
            "  Downloading fpdf-1.7.2.tar.gz (39 kB)\n",
            "  Preparing metadata (setup.py) ... \u001b[?25l\u001b[?25hdone\n",
            "Building wheels for collected packages: fpdf\n",
            "  Building wheel for fpdf (setup.py) ... \u001b[?25l\u001b[?25hdone\n",
            "  Created wheel for fpdf: filename=fpdf-1.7.2-py2.py3-none-any.whl size=40704 sha256=e5728bfa80e37d2e9a6053f1f2df64ec01efe3663d7a2ce4f5ac94b4a619557b\n",
            "  Stored in directory: /root/.cache/pip/wheels/f9/95/ba/f418094659025eb9611f17cbcaf2334236bf39a0c3453ea455\n",
            "Successfully built fpdf\n",
            "Installing collected packages: fpdf\n",
            "Successfully installed fpdf-1.7.2\n"
          ]
        }
      ]
    },
    {
      "cell_type": "code",
      "source": [
        "from PyPDF2 import PdfReader\n",
        "\n",
        "def load_and_extract_text(file_path):\n",
        "    with open(file_path, 'rb') as file:\n",
        "        pdf_reader = PdfReader(file)\n",
        "        text = \"\"\n",
        "        for page in pdf_reader.pages:\n",
        "            text += page.extract_text()\n",
        "        return text\n"
      ],
      "metadata": {
        "id": "s0Q2Q9wxZf-V"
      },
      "execution_count": 7,
      "outputs": []
    },
    {
      "cell_type": "code",
      "source": [
        "load_and_extract_text(\"CV_GPT_rev.pdf\")"
      ],
      "metadata": {
        "colab": {
          "base_uri": "https://localhost:8080/",
          "height": 88
        },
        "id": "oHdjHsX1ZvQD",
        "outputId": "d2b3bcdc-e767-40c9-84df-125fa804714b"
      },
      "execution_count": 8,
      "outputs": [
        {
          "output_type": "execute_result",
          "data": {
            "text/plain": [
              "'Itay\\nBen-Dan\\nHaarava\\n20,\\nHerzliya\\nP.\\nO.\\nBox\\n5990,\\nHerzliya,\\nIsrael\\n46100\\nCellular:\\n+972544539284\\nEmail:\\nitaybd@gmail.com\\nProfessional\\nSummary\\nFull\\nStack\\nMachine\\nLearning\\nEngineer\\nwith\\nextensive\\nexperience\\nin\\ndata\\nengineering,\\nmodel\\ndevelopment,\\ndeployment,\\nand\\nmaintenance.\\nExpertise\\nin\\nsports,\\nfinance,\\nand\\nrobotics,\\nwith\\na\\nfocus\\non\\nadvanced\\ndata\\nanalytics\\nand\\nmachine\\nlearning,\\nincluding\\nLLMs\\nand\\nmulti-agent\\nsystems.\\nWork\\nExperience\\n2017-Present:\\nMachine\\nLearning\\nand\\nData\\nScience\\nConsultant\\n●\\nDeveloped\\npredictive\\nmodels\\nfrom\\nscratch,\\nincluding\\ndeployment.\\n●\\nConducted\\nexploratory\\ndata\\nanalysis\\nand\\nadvanced\\nfeature\\ngeneration.\\n●\\nIntegrated\\ndata\\nfrom\\nvarious\\nsources\\ninto\\nunified\\nformats.\\n●\\nDeveloped\\npolicy\\ngenerative\\nmodels\\nusing\\nreinforcement\\nlearning.\\n2017-Present:\\nFounder\\nand\\nHead\\nof\\nResearch,\\nFinzor\\nLtd.\\n●\\nDeveloped\\nportfolio\\nmanagement\\nand\\ninvestment\\nanalysis\\ntools.\\n●\\nLed\\na\\nteam\\nto\\ndeliver\\nsoftware\\nproducts\\nfrom\\ndesign\\nto\\nproduction.\\n2016-2017:\\nPrincipal\\nMachine\\nLearning,\\nPalo\\nAlto\\nNetworks\\n●\\nApplied\\nmachine\\nlearning\\nto\\nreverse\\nengineering\\nand\\nmalware\\nanalysis.\\n●\\nCreated\\nadaptive\\nmodels\\nfor\\nupdating\\nanti-malware\\nfilters\\nand\\nclassifiers.\\n2015-2016:\\nSenior\\nData\\nScientist,\\nSparkBeyond\\n●\\nWorked\\non\\nbig\\ndata\\npredictive\\nanalytics\\nand\\nmachine\\nlearning.\\n●\\nApplied\\nautomatic\\nfeature\\ngeneration\\nmethods\\nto\\ntime\\nseries\\nanalysis\\nand\\nreinforcement\\nlearning.\\n2011-2015:\\nSenior\\nQuantitative\\nResearcher,\\nWorldQuant●\\nDeveloped\\nautomated\\ncomputational\\nmethods\\nfor\\nquant-driven\\nstrategies.\\n●\\nApplied\\npredictive\\nanalytics\\nand\\nstatistical\\nmethods\\nacross\\nvarious\\nassets.\\n2010-2011:\\nSenior\\nSoftware\\nEngineer,\\nBroadcom\\n●\\nDesigned\\nnetwork\\nand\\npacket\\nprocessing\\nmethodologies.\\n●\\nImplemented\\nadvanced\\nautomated\\ntesting\\nmethods.\\n2008-2009:\\nFounder,\\nGenous\\nVision\\n●\\nDeveloped\\nalgorithms\\nfor\\nrecognizing\\nanatomies\\nin\\nultrasound\\nimages.\\nEducation\\n2009:\\nPh.D.\\nin\\nMathematics,\\nTechnion,\\nHaifa\\n●\\nTopic:\\nDiscrete\\nGeometry\\n●\\nSupervisor:\\nDr.\\nRom\\nPinchasi\\n2004:\\nM.Sc.\\nin\\nMathematics,\\nTechnion,\\nHaifa\\n●\\nTopic:\\nGame\\nTheory\\n●\\nThesis:\\nTime\\nSharing\\nunder\\nDichotomous\\nPreferences\\n●\\nGrade:\\n95\\n●\\nSupervisor:\\nProf.\\nRon\\nHolzman\\n2002:\\nB.Sc.\\nin\\nMathematics\\nand\\nComputer\\nScience,\\nTechnion,\\nHaifa\\n●\\nCum\\nLaude\\nSkills\\n●\\nProgramming\\nLanguages:\\nPython,\\nR,\\nC++,\\nJava\\n●\\nMachine\\nLearning\\nFrameworks:\\nTensorFlow,\\nPyTorch,\\nScikit-learn\\n●\\nData\\nAnalysis\\nTools:\\nPandas,\\nNumPy,\\nSQL\\n●\\nOther\\nTechnologies:\\nDocker,\\nKubernetes,\\nAWS,\\nGit,\\nLinux\\nProjects\\nTreeModelVis●\\nVisualization\\ntool\\nfor\\ntree-based\\nmodels,\\naiding\\nin\\nunderstanding\\ndecision\\npaths\\nand\\nfeature\\nimportance.\\n●\\nTechnologies\\nUsed:\\nPython,\\nD3.js\\n●\\nGitHub\\nRepository\\nPublications\\n●\\nPoints\\nwith\\nLarge\\nQuadrant\\nDepth.\\nJoCG\\n2(1):\\n128-143\\n(2011)\\n●\\nPoints\\nwith\\nlarge\\nquadrant\\ndepth.\\nSymposium\\non\\nComputational\\nGeometry\\n2010:\\n358-364\\n●\\nOn\\na\\nproblem\\nabout\\nquadrant\\ndepth.\\nComput.\\nGeom.\\n43(6-7):\\n587-592\\n(2010)\\n●\\nPoints\\nwith\\nlarge\\nalphadepth.\\nJ.\\nComb.\\nTheory,\\nSer.\\nA\\n116(3):\\n747-755\\n(2009)\\nContact\\nInformation\\n●\\nEmail:\\nitaybd@gmail.com\\n●\\nLinkedIn:\\nItay\\nBen-Dan\\nLinkedIn\\nProfile\\nThis\\nCV\\nis\\nconcise\\nand\\ntailored,\\nhighlighting\\nkey\\nskills\\nand\\nexperience\\nin\\na\\nclean,\\norganized\\nformat.'"
            ],
            "application/vnd.google.colaboratory.intrinsic+json": {
              "type": "string"
            }
          },
          "metadata": {},
          "execution_count": 8
        }
      ]
    },
    {
      "cell_type": "code",
      "source": [
        "import pathlib\n",
        "import textwrap\n",
        "\n",
        "import google.generativeai as genai\n",
        "\n",
        "from IPython.display import display\n",
        "from IPython.display import Markdown\n",
        "\n",
        "\n",
        "def to_markdown(text):\n",
        "  text = text.replace('•', '  *')\n",
        "  return Markdown(textwrap.indent(text, '> ', predicate=lambda _: True))"
      ],
      "metadata": {
        "id": "N_bcFVj0_2By"
      },
      "execution_count": 9,
      "outputs": []
    },
    {
      "cell_type": "code",
      "source": [
        "model = genai.GenerativeModel('gemini-1.5-flash')"
      ],
      "metadata": {
        "id": "Z-qmIfuMBJ1o"
      },
      "execution_count": 15,
      "outputs": []
    },
    {
      "cell_type": "code",
      "source": [
        "\n",
        "\n",
        "#from your_embedding_library import generate_embeddings, find_similar_chunks\n",
        "\n",
        "\n",
        "# Example usage:\n",
        "def generate_cover_letter(model,prompt, job_description_text, cv_text, additional_prompt=\"\"):\n",
        "\n",
        "    prompt = f\"\"\"Based on the provided job description and CV, write a compelling and personalized cover letter that highlights relevant skills and experiences.\n",
        "\n",
        "    Job Description:\\n{job_description_text}\\n\\nCV:\\n{cv_text}\\n\\n{prompt}\"\"\"\n",
        "\n",
        "    response = model.generate_content(prompt)  # Remove the 'context' argument\n",
        "    return response\n"
      ],
      "metadata": {
        "id": "jr5tcC7Myxgu"
      },
      "execution_count": 24,
      "outputs": []
    },
    {
      "cell_type": "code",
      "source": [
        "job_description = \"\"\" We're seeking an AI Developer to join our team. In this role, you'll leverage artificial intelligence and machine learning techniques to improve the invoice reconciliation process and create a unified data format across various financial systems.\n",
        "\n",
        "Responsibilities:\n",
        "- Develop and implement AI and machine learning models to automate invoice reconciliation\n",
        "- Create intelligent systems to unify diverse invoice data into a standardized format\n",
        "- Design and build natural language processing (NLP) solutions to extract key information from unstructured invoice data\n",
        "- Implement machine learning algorithms to identify patterns, anomalies, and potential errors in financial data\n",
        "- Collaborate with finance and accounting teams to understand business requirements and integrate AI solutions into existing workflows\n",
        "- Continuously improve and optimize AI models based on new data and changing business needs\n",
        "\n",
        "Requirements:\n",
        "- Masters or PhD in Computer Science, Artificial Intelligence, or related field\n",
        "- 3+ years of experience developing AI and machine learning solutions, preferably in finance or accounting domains\n",
        "- Strong programming skills in Python and experience with ML frameworks (e.g., TensorFlow, PyTorch, scikit-learn)\n",
        "- Experience with NLP techniques and text analysis\n",
        "- Familiarity with financial systems, ERP software, and accounting principles\n",
        "- Knowledge of data privacy and security best practices\n",
        "- Excellent problem-solving skills and ability to translate complex business requirements into technical solutions\n",
        "\n",
        "No agencies please.\n",
        "This individual must be available for 30h/week and during UK working hours.\n",
        "\n",
        "\"\"\""
      ],
      "metadata": {
        "id": "ObT0i4G33Cie"
      },
      "execution_count": 17,
      "outputs": []
    },
    {
      "cell_type": "code",
      "source": [
        "prompt = \"\"\"Based on the provided job description and CV, generate a compelling and personalized cover letter that:\n",
        "\n",
        "- Highlights the most relevant skills and experiences for the specific job requirements.\n",
        "- Quantifies achievements and results whenever possible.\n",
        "- Expresses enthusiasm for the [Company Name]'s mission and values.\n",
        "- Maintains a professional and engaging tone.\n",
        "- Uses bullet points to showcase key accomplishments or lists of skills.\n",
        "\n",
        "Additionally, for each paragraph, indicate words or phrases to be highlighted and their corresponding formatting:\n",
        "\n",
        "* **bold:** For the most important keywords or phrases.\n",
        "* _italic:_ For secondary keywords or phrases that deserve emphasis.\n",
        "* normal: For the rest of the text.\n",
        "\n",
        "Example output:\n",
        "\n",
        "**Paragraph 1:**\n",
        "normal: I am writing to express my keen interest in the [Job Title] position at [Company Name].\n",
        "**bold:** With [X years] of experience in [Relevant Field], I have consistently delivered outstanding results in [Area of Expertise].\n",
        "\n",
        "**Paragraph 2:**\n",
        "_italic:_ My experience at [Previous Company] allowed me to develop strong skills in [Skill 1], [Skill 2], and [Skill 3].\n",
        "normal: I successfully led a team of [Number] to achieve [Accomplishment], resulting in [Quantifiable Result].\n",
        "\"\"\""
      ],
      "metadata": {
        "id": "5Cp4GXffq4Ji"
      },
      "execution_count": 25,
      "outputs": []
    },
    {
      "cell_type": "code",
      "source": [
        "job_description = job_description #load_and_extract_text(\"job_description.pdf\")\n",
        "cv_text = load_and_extract_text(\"CV_GPT_rev.pdf\")\n",
        "cover_letter = generate_cover_letter(model,prompt,job_description, cv_text)\n",
        "#print(cover_letter)"
      ],
      "metadata": {
        "id": "s6351suRy2Zk"
      },
      "execution_count": 26,
      "outputs": []
    },
    {
      "cell_type": "code",
      "source": [
        "cover_letter.text"
      ],
      "metadata": {
        "colab": {
          "base_uri": "https://localhost:8080/",
          "height": 88
        },
        "id": "Tgse2rBkRtL1",
        "outputId": "5b4389ef-104b-4bc8-b8d6-ce5bd777a6cc"
      },
      "execution_count": 27,
      "outputs": [
        {
          "output_type": "execute_result",
          "data": {
            "text/plain": [
              "\"Dear [Hiring Manager name],\\n\\nI am writing to express my enthusiastic interest in the **AI Developer** position at [Company Name]. With over **6 years** of experience as a **Full Stack Machine Learning Engineer**, I have consistently developed and deployed innovative **AI and machine learning solutions** across various industries, including **finance, sports, and robotics**.  My expertise in **advanced data analytics, machine learning, and natural language processing (NLP)**, coupled with a strong understanding of **financial systems and accounting principles**, makes me a perfect fit for this role. \\n\\nMy passion for **improving business processes through AI** has been evident throughout my career. During my time as a **Machine Learning and Data Science Consultant**, I successfully developed **predictive models from scratch**, including deployment, resulting in a **[quantifiable improvement] in [specific business metric]**. I have also gained invaluable experience in **integrating data from diverse sources into unified formats**, a skill that will be crucial in your efforts to create a standardized invoice data format.\\n\\nI am particularly excited about the opportunity to leverage my experience with **NLP and text analysis** to **extract key information from unstructured invoice data**. I have a proven track record of designing and implementing **NLP solutions** that streamline processes and improve efficiency. In my role as **Principal Machine Learning at Palo Alto Networks**, I successfully created **adaptive models for updating anti-malware filters and classifiers**, demonstrating my ability to develop robust and scalable AI solutions. \\n\\nI am confident that my technical expertise, combined with my strong analytical and problem-solving skills, will enable me to make a significant contribution to your team. I am eager to learn more about [Company Name]'s innovative approach to leveraging AI for financial optimization. \\n\\nThank you for your time and consideration. I look forward to hearing from you soon. \\n\\nSincerely,\\n\\nItay Ben-Dan\\n\""
            ],
            "application/vnd.google.colaboratory.intrinsic+json": {
              "type": "string"
            }
          },
          "metadata": {},
          "execution_count": 27
        }
      ]
    },
    {
      "cell_type": "code",
      "source": [
        "from fpdf import FPDF\n",
        "pdf = FPDF()\n",
        "pdf.add_page()\n",
        "pdf.set_font(\"Arial\", size=12)\n",
        "\n",
        "# Add cover letter text to PDF\n",
        "pdf.multi_cell(0, 10, txt=cover_letter.text)\n",
        "\n",
        "# Save PDF to file\n",
        "pdf.output(\"cover_letter.pdf\", \"F\")"
      ],
      "metadata": {
        "colab": {
          "base_uri": "https://localhost:8080/",
          "height": 36
        },
        "id": "-ADKC0kRRakh",
        "outputId": "77a9fa13-9f1e-4245-8bdc-17a8f7083cc7"
      },
      "execution_count": 28,
      "outputs": [
        {
          "output_type": "execute_result",
          "data": {
            "text/plain": [
              "''"
            ],
            "application/vnd.google.colaboratory.intrinsic+json": {
              "type": "string"
            }
          },
          "metadata": {},
          "execution_count": 28
        }
      ]
    }
  ]
}