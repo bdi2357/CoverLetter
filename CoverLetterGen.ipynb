{
  "nbformat": 4,
  "nbformat_minor": 0,
  "metadata": {
    "colab": {
      "provenance": [],
      "authorship_tag": "ABX9TyNFFlcmN9hESDBOmvEvJXP5",
      "include_colab_link": true
    },
    "kernelspec": {
      "name": "python3",
      "display_name": "Python 3"
    },
    "language_info": {
      "name": "python"
    }
  },
  "cells": [
    {
      "cell_type": "markdown",
      "metadata": {
        "id": "view-in-github",
        "colab_type": "text"
      },
      "source": [
        "<a href=\"https://colab.research.google.com/github/bdi2357/CoverLetter/blob/main/CoverLetterGen.ipynb\" target=\"_parent\"><img src=\"https://colab.research.google.com/assets/colab-badge.svg\" alt=\"Open In Colab\"/></a>"
      ]
    },
    {
      "cell_type": "code",
      "execution_count": 4,
      "metadata": {
        "id": "mOEvG7YiAsKL"
      },
      "outputs": [],
      "source": [
        "!pip install -q -U google-generativeai"
      ]
    },
    {
      "cell_type": "code",
      "source": [
        "!git clone https://github.com/bdi2357/CoverLetter"
      ],
      "metadata": {
        "colab": {
          "base_uri": "https://localhost:8080/"
        },
        "id": "dbnZFLJW6Rf8",
        "outputId": "6d4903fd-8af2-4df8-9ccf-ce6f4b043a94"
      },
      "execution_count": 5,
      "outputs": [
        {
          "output_type": "stream",
          "name": "stdout",
          "text": [
            "fatal: destination path 'CoverLetter' already exists and is not an empty directory.\n"
          ]
        }
      ]
    },
    {
      "cell_type": "code",
      "source": [
        "!ls CoverLetter/Data/"
      ],
      "metadata": {
        "colab": {
          "base_uri": "https://localhost:8080/"
        },
        "id": "c-mZsPirAzLf",
        "outputId": "b352e951-39bc-4c0b-dd8e-f106cae19836"
      },
      "execution_count": 6,
      "outputs": [
        {
          "output_type": "stream",
          "name": "stdout",
          "text": [
            "CV_GPT_rev.pdf\tREADME.md\n"
          ]
        }
      ]
    },
    {
      "cell_type": "code",
      "source": [
        "import pathlib\n",
        "import textwrap\n",
        "\n",
        "import google.generativeai as genai\n",
        "\n",
        "from IPython.display import display\n",
        "from IPython.display import Markdown\n",
        "\n",
        "\n",
        "def to_markdown(text):\n",
        "  text = text.replace('•', '  *')\n",
        "  return Markdown(textwrap.indent(text, '> ', predicate=lambda _: True))"
      ],
      "metadata": {
        "id": "At05GNhPPQ-s"
      },
      "execution_count": 7,
      "outputs": []
    },
    {
      "cell_type": "code",
      "source": [
        "# Used to securely store your API key\n",
        "from google.colab import userdata"
      ],
      "metadata": {
        "id": "MB7X0KA-RwVQ"
      },
      "execution_count": 8,
      "outputs": []
    },
    {
      "cell_type": "code",
      "source": [
        "# Or use `os.getenv('GOOGLE_API_KEY')` to fetch an environment variable.\n",
        "GOOGLE_API_KEY=userdata.get('GOOGLE_API_KEY')\n",
        "\n",
        "genai.configure(api_key=GOOGLE_API_KEY)"
      ],
      "metadata": {
        "id": "uJYQjQi8Rp2v"
      },
      "execution_count": 9,
      "outputs": []
    },
    {
      "cell_type": "code",
      "source": [
        "!pip install -q PyPDF2"
      ],
      "metadata": {
        "colab": {
          "base_uri": "https://localhost:8080/"
        },
        "id": "oOmvmTUHW3ov",
        "outputId": "2fa20895-5e8b-49bc-8a95-02888a810e32"
      },
      "execution_count": 10,
      "outputs": [
        {
          "output_type": "stream",
          "name": "stdout",
          "text": [
            "\u001b[?25l   \u001b[90m━━━━━━━━━━━━━━━━━━━━━━━━━━━━━━━━━━━━━━━━\u001b[0m \u001b[32m0.0/232.6 kB\u001b[0m \u001b[31m?\u001b[0m eta \u001b[36m-:--:--\u001b[0m\r\u001b[2K   \u001b[91m━━━━━━━━━━━━━━━━━━━━━━━━━━━━━━━━━━━━━━\u001b[0m\u001b[91m╸\u001b[0m\u001b[90m━\u001b[0m \u001b[32m225.3/232.6 kB\u001b[0m \u001b[31m10.1 MB/s\u001b[0m eta \u001b[36m0:00:01\u001b[0m\r\u001b[2K   \u001b[90m━━━━━━━━━━━━━━━━━━━━━━━━━━━━━━━━━━━━━━━━\u001b[0m \u001b[32m232.6/232.6 kB\u001b[0m \u001b[31m5.7 MB/s\u001b[0m eta \u001b[36m0:00:00\u001b[0m\n",
            "\u001b[?25h"
          ]
        }
      ]
    },
    {
      "cell_type": "code",
      "source": [
        "!pip install docx\n",
        "!pip install fpdf"
      ],
      "metadata": {
        "colab": {
          "base_uri": "https://localhost:8080/"
        },
        "id": "7yjjgrglZVuW",
        "outputId": "ca865f17-ac05-4099-d694-81eea7301852"
      },
      "execution_count": 11,
      "outputs": [
        {
          "output_type": "stream",
          "name": "stdout",
          "text": [
            "Collecting docx\n",
            "  Downloading docx-0.2.4.tar.gz (54 kB)\n",
            "\u001b[?25l     \u001b[90m━━━━━━━━━━━━━━━━━━━━━━━━━━━━━━━━━━━━━━━━\u001b[0m \u001b[32m0.0/54.9 kB\u001b[0m \u001b[31m?\u001b[0m eta \u001b[36m-:--:--\u001b[0m\r\u001b[2K     \u001b[90m━━━━━━━━━━━━━━━━━━━━━━━━━━━━━━━━━━━━━━━━\u001b[0m \u001b[32m54.9/54.9 kB\u001b[0m \u001b[31m4.0 MB/s\u001b[0m eta \u001b[36m0:00:00\u001b[0m\n",
            "\u001b[?25h  Preparing metadata (setup.py) ... \u001b[?25l\u001b[?25hdone\n",
            "Requirement already satisfied: lxml in /usr/local/lib/python3.10/dist-packages (from docx) (4.9.4)\n",
            "Requirement already satisfied: Pillow>=2.0 in /usr/local/lib/python3.10/dist-packages (from docx) (9.4.0)\n",
            "Building wheels for collected packages: docx\n",
            "  Building wheel for docx (setup.py) ... \u001b[?25l\u001b[?25hdone\n",
            "  Created wheel for docx: filename=docx-0.2.4-py3-none-any.whl size=53894 sha256=2b86b2c6ee8730e275508495c1b4443755caf9b7e35bf94031dcc9188c30cbd9\n",
            "  Stored in directory: /root/.cache/pip/wheels/81/f5/1d/e09ba2c1907a43a4146d1189ae4733ca1a3bfe27ee39507767\n",
            "Successfully built docx\n",
            "Installing collected packages: docx\n",
            "Successfully installed docx-0.2.4\n",
            "Collecting fpdf\n",
            "  Downloading fpdf-1.7.2.tar.gz (39 kB)\n",
            "  Preparing metadata (setup.py) ... \u001b[?25l\u001b[?25hdone\n",
            "Building wheels for collected packages: fpdf\n",
            "  Building wheel for fpdf (setup.py) ... \u001b[?25l\u001b[?25hdone\n",
            "  Created wheel for fpdf: filename=fpdf-1.7.2-py2.py3-none-any.whl size=40704 sha256=c6f4a93a29e1a498786f939e18310ae2a1ac5020bd5ece531f36a171bff75899\n",
            "  Stored in directory: /root/.cache/pip/wheels/f9/95/ba/f418094659025eb9611f17cbcaf2334236bf39a0c3453ea455\n",
            "Successfully built fpdf\n",
            "Installing collected packages: fpdf\n",
            "Successfully installed fpdf-1.7.2\n"
          ]
        }
      ]
    },
    {
      "cell_type": "code",
      "source": [
        "from PyPDF2 import PdfReader\n",
        "\n",
        "def load_and_extract_text(file_path):\n",
        "    with open(file_path, 'rb') as file:\n",
        "        pdf_reader = PdfReader(file)\n",
        "        text = \"\"\n",
        "        for page in pdf_reader.pages:\n",
        "            text += page.extract_text()\n",
        "        return text\n"
      ],
      "metadata": {
        "id": "s0Q2Q9wxZf-V"
      },
      "execution_count": 12,
      "outputs": []
    },
    {
      "cell_type": "code",
      "source": [
        "load_and_extract_text(\"CoverLetter/Data/CV_GPT_rev.pdf\")"
      ],
      "metadata": {
        "colab": {
          "base_uri": "https://localhost:8080/",
          "height": 88
        },
        "id": "oHdjHsX1ZvQD",
        "outputId": "3e7a3d69-47c0-4303-cd7d-b625d80f648f"
      },
      "execution_count": 13,
      "outputs": [
        {
          "output_type": "execute_result",
          "data": {
            "text/plain": [
              "'Itay\\nBen-Dan\\nHaarava\\n20,\\nHerzliya\\nP.\\nO.\\nBox\\n5990,\\nHerzliya,\\nIsrael\\n46100\\nCellular:\\n+972544539284\\nEmail:\\nitaybd@gmail.com\\nProfessional\\nSummary\\nFull\\nStack\\nMachine\\nLearning\\nEngineer\\nwith\\nextensive\\nexperience\\nin\\ndata\\nengineering,\\nmodel\\ndevelopment,\\ndeployment,\\nand\\nmaintenance.\\nExpertise\\nin\\nsports,\\nfinance,\\nand\\nrobotics,\\nwith\\na\\nfocus\\non\\nadvanced\\ndata\\nanalytics\\nand\\nmachine\\nlearning,\\nincluding\\nLLMs\\nand\\nmulti-agent\\nsystems.\\nWork\\nExperience\\n2017-Present:\\nMachine\\nLearning\\nand\\nData\\nScience\\nConsultant\\n●\\nDeveloped\\npredictive\\nmodels\\nfrom\\nscratch,\\nincluding\\ndeployment.\\n●\\nConducted\\nexploratory\\ndata\\nanalysis\\nand\\nadvanced\\nfeature\\ngeneration.\\n●\\nIntegrated\\ndata\\nfrom\\nvarious\\nsources\\ninto\\nunified\\nformats.\\n●\\nDeveloped\\npolicy\\ngenerative\\nmodels\\nusing\\nreinforcement\\nlearning.\\n2017-Present:\\nFounder\\nand\\nHead\\nof\\nResearch,\\nFinzor\\nLtd.\\n●\\nDeveloped\\nportfolio\\nmanagement\\nand\\ninvestment\\nanalysis\\ntools.\\n●\\nLed\\na\\nteam\\nto\\ndeliver\\nsoftware\\nproducts\\nfrom\\ndesign\\nto\\nproduction.\\n2016-2017:\\nPrincipal\\nMachine\\nLearning,\\nPalo\\nAlto\\nNetworks\\n●\\nApplied\\nmachine\\nlearning\\nto\\nreverse\\nengineering\\nand\\nmalware\\nanalysis.\\n●\\nCreated\\nadaptive\\nmodels\\nfor\\nupdating\\nanti-malware\\nfilters\\nand\\nclassifiers.\\n2015-2016:\\nSenior\\nData\\nScientist,\\nSparkBeyond\\n●\\nWorked\\non\\nbig\\ndata\\npredictive\\nanalytics\\nand\\nmachine\\nlearning.\\n●\\nApplied\\nautomatic\\nfeature\\ngeneration\\nmethods\\nto\\ntime\\nseries\\nanalysis\\nand\\nreinforcement\\nlearning.\\n2011-2015:\\nSenior\\nQuantitative\\nResearcher,\\nWorldQuant●\\nDeveloped\\nautomated\\ncomputational\\nmethods\\nfor\\nquant-driven\\nstrategies.\\n●\\nApplied\\npredictive\\nanalytics\\nand\\nstatistical\\nmethods\\nacross\\nvarious\\nassets.\\n2010-2011:\\nSenior\\nSoftware\\nEngineer,\\nBroadcom\\n●\\nDesigned\\nnetwork\\nand\\npacket\\nprocessing\\nmethodologies.\\n●\\nImplemented\\nadvanced\\nautomated\\ntesting\\nmethods.\\n2008-2009:\\nFounder,\\nGenous\\nVision\\n●\\nDeveloped\\nalgorithms\\nfor\\nrecognizing\\nanatomies\\nin\\nultrasound\\nimages.\\nEducation\\n2009:\\nPh.D.\\nin\\nMathematics,\\nTechnion,\\nHaifa\\n●\\nTopic:\\nDiscrete\\nGeometry\\n●\\nSupervisor:\\nDr.\\nRom\\nPinchasi\\n2004:\\nM.Sc.\\nin\\nMathematics,\\nTechnion,\\nHaifa\\n●\\nTopic:\\nGame\\nTheory\\n●\\nThesis:\\nTime\\nSharing\\nunder\\nDichotomous\\nPreferences\\n●\\nGrade:\\n95\\n●\\nSupervisor:\\nProf.\\nRon\\nHolzman\\n2002:\\nB.Sc.\\nin\\nMathematics\\nand\\nComputer\\nScience,\\nTechnion,\\nHaifa\\n●\\nCum\\nLaude\\nSkills\\n●\\nProgramming\\nLanguages:\\nPython,\\nR,\\nC++,\\nJava\\n●\\nMachine\\nLearning\\nFrameworks:\\nTensorFlow,\\nPyTorch,\\nScikit-learn\\n●\\nData\\nAnalysis\\nTools:\\nPandas,\\nNumPy,\\nSQL\\n●\\nOther\\nTechnologies:\\nDocker,\\nKubernetes,\\nAWS,\\nGit,\\nLinux\\nProjects\\nTreeModelVis●\\nVisualization\\ntool\\nfor\\ntree-based\\nmodels,\\naiding\\nin\\nunderstanding\\ndecision\\npaths\\nand\\nfeature\\nimportance.\\n●\\nTechnologies\\nUsed:\\nPython,\\nD3.js\\n●\\nGitHub\\nRepository\\nPublications\\n●\\nPoints\\nwith\\nLarge\\nQuadrant\\nDepth.\\nJoCG\\n2(1):\\n128-143\\n(2011)\\n●\\nPoints\\nwith\\nlarge\\nquadrant\\ndepth.\\nSymposium\\non\\nComputational\\nGeometry\\n2010:\\n358-364\\n●\\nOn\\na\\nproblem\\nabout\\nquadrant\\ndepth.\\nComput.\\nGeom.\\n43(6-7):\\n587-592\\n(2010)\\n●\\nPoints\\nwith\\nlarge\\nalphadepth.\\nJ.\\nComb.\\nTheory,\\nSer.\\nA\\n116(3):\\n747-755\\n(2009)\\nContact\\nInformation\\n●\\nEmail:\\nitaybd@gmail.com\\n●\\nLinkedIn:\\nItay\\nBen-Dan\\nLinkedIn\\nProfile\\nThis\\nCV\\nis\\nconcise\\nand\\ntailored,\\nhighlighting\\nkey\\nskills\\nand\\nexperience\\nin\\na\\nclean,\\norganized\\nformat.'"
            ],
            "application/vnd.google.colaboratory.intrinsic+json": {
              "type": "string"
            }
          },
          "metadata": {},
          "execution_count": 13
        }
      ]
    },
    {
      "cell_type": "code",
      "source": [
        "import pathlib\n",
        "import textwrap\n",
        "\n",
        "import google.generativeai as genai\n",
        "\n",
        "from IPython.display import display\n",
        "from IPython.display import Markdown\n",
        "\n",
        "\n",
        "def to_markdown(text):\n",
        "  text = text.replace('•', '  *')\n",
        "  return Markdown(textwrap.indent(text, '> ', predicate=lambda _: True))"
      ],
      "metadata": {
        "id": "N_bcFVj0_2By"
      },
      "execution_count": 14,
      "outputs": []
    },
    {
      "cell_type": "code",
      "source": [
        "model = genai.GenerativeModel('gemini-1.5-flash')"
      ],
      "metadata": {
        "id": "Z-qmIfuMBJ1o"
      },
      "execution_count": 15,
      "outputs": []
    },
    {
      "cell_type": "code",
      "source": [
        "\n",
        "\n",
        "#from your_embedding_library import generate_embeddings, find_similar_chunks\n",
        "\n",
        "\n",
        "# Example usage:\n",
        "def generate_cover_letter(model,prompt, job_description_text, cv_text, additional_prompt=\"\"):\n",
        "\n",
        "    prompt = f\"\"\"Based on the provided job description and CV, write a compelling and personalized cover letter that highlights relevant skills and experiences.\n",
        "\n",
        "    Job Description:\\n{job_description_text}\\n\\nCV:\\n{cv_text}\\n\\n{prompt}\"\"\"\n",
        "\n",
        "    response = model.generate_content(prompt)  # Remove the 'context' argument\n",
        "    return response\n"
      ],
      "metadata": {
        "id": "jr5tcC7Myxgu"
      },
      "execution_count": 16,
      "outputs": []
    },
    {
      "cell_type": "code",
      "source": [
        "job_description = \"\"\" We're seeking an AI Developer to join our team. In this role, you'll leverage artificial intelligence and machine learning techniques to improve the invoice reconciliation process and create a unified data format across various financial systems.\n",
        "\n",
        "Responsibilities:\n",
        "- Develop and implement AI and machine learning models to automate invoice reconciliation\n",
        "- Create intelligent systems to unify diverse invoice data into a standardized format\n",
        "- Design and build natural language processing (NLP) solutions to extract key information from unstructured invoice data\n",
        "- Implement machine learning algorithms to identify patterns, anomalies, and potential errors in financial data\n",
        "- Collaborate with finance and accounting teams to understand business requirements and integrate AI solutions into existing workflows\n",
        "- Continuously improve and optimize AI models based on new data and changing business needs\n",
        "\n",
        "Requirements:\n",
        "- Masters or PhD in Computer Science, Artificial Intelligence, or related field\n",
        "- 3+ years of experience developing AI and machine learning solutions, preferably in finance or accounting domains\n",
        "- Strong programming skills in Python and experience with ML frameworks (e.g., TensorFlow, PyTorch, scikit-learn)\n",
        "- Experience with NLP techniques and text analysis\n",
        "- Familiarity with financial systems, ERP software, and accounting principles\n",
        "- Knowledge of data privacy and security best practices\n",
        "- Excellent problem-solving skills and ability to translate complex business requirements into technical solutions\n",
        "\n",
        "No agencies please.\n",
        "This individual must be available for 30h/week and during UK working hours.\n",
        "\n",
        "\"\"\""
      ],
      "metadata": {
        "id": "ObT0i4G33Cie"
      },
      "execution_count": 17,
      "outputs": []
    },
    {
      "cell_type": "code",
      "source": [
        "prompt =  \"\"\"\n",
        "Based on the provided job description and CV, create a compelling and personalized cover letter that:\n",
        "[... (the rest of the original prompt remains the same) ...]\n",
        "\n",
        "Within the body paragraphs, emphasize the following key points using bold formatting (**):\n",
        "\n",
        "* **Years of experience:** If mentioned in the CV, clearly state your total years of experience in the relevant field.\n",
        "* **Technical skills:** Highlight the most relevant programming languages, tools, and frameworks used in your previous roles.\n",
        "* **Specific accomplishments:** Bold the names of projects or initiatives where you made a significant impact, and quantify the results whenever possible, ensuring the sentence remains grammatically correct.\n",
        "* **Keywords from the job description that demonstrate your skills:** Identify and emphasize any specific phrases from your CV that directly match the requirements outlined in the job description.\n",
        "* **Company name:** Bold the company name to show your attention to detail and interest in the position.\n",
        "\n",
        "Avoid excessive highlighting. Bold only the most essential words or phrases to maintain readability and impact. Each sentence should have no more than 2 bolded phrases and ideally 1.\n",
        "\"\"\""
      ],
      "metadata": {
        "id": "_WQBZLP7X9XD"
      },
      "execution_count": 36,
      "outputs": []
    },
    {
      "cell_type": "code",
      "source": [
        "Prompt2 = \"\"\"\n",
        "Based on the generated cover letter above, identify the MOST RELEVANT word or phrase in EACH SENTENCE that reflects the applicant's key skills, achievements, or qualifications that align with the job description. Enclose each identified word or phrase with double asterisks (**) for bold emphasis.\n",
        "\"\"\""
      ],
      "metadata": {
        "id": "DaKTbiyYjxnN"
      },
      "execution_count": 19,
      "outputs": []
    },
    {
      "cell_type": "code",
      "source": [
        "job_description = job_description #load_and_extract_text(\"job_description.pdf\")\n",
        "cv_text = load_and_extract_text(\"CoverLetter/Data/CV_GPT_rev.pdf\")\n",
        "cover_letter = generate_cover_letter(model,prompt,job_description, cv_text)\n",
        "#print(cover_letter)"
      ],
      "metadata": {
        "id": "s6351suRy2Zk"
      },
      "execution_count": 20,
      "outputs": []
    },
    {
      "cell_type": "code",
      "source": [
        "cover_letter.text"
      ],
      "metadata": {
        "colab": {
          "base_uri": "https://localhost:8080/",
          "height": 88
        },
        "id": "Tgse2rBkRtL1",
        "outputId": "55be83da-5a57-4983-ebe5-d2437dff72b8"
      },
      "execution_count": 21,
      "outputs": [
        {
          "output_type": "execute_result",
          "data": {
            "text/plain": [
              "\"[Your Name]\\n[Your Address]\\n[Your Phone Number]\\n[Your Email Address]\\n\\n[Date]\\n\\n[Hiring Manager Name]\\n[Hiring Manager Title]\\n[Company Name]\\n[Company Address]\\n\\nDear [Hiring Manager Name],\\n\\nI am writing to express my strong interest in the **AI Developer** position at **[Company Name]**. With **over 10 years of experience** as a Full Stack Machine Learning Engineer, I possess a deep understanding of AI and machine learning techniques, coupled with a proven track record of developing and deploying innovative solutions in various industries, including finance, sports, and robotics. \\n\\nMy expertise in **data engineering, model development, deployment, and maintenance** makes me well-suited to contribute significantly to your team's efforts to revolutionize the invoice reconciliation process. I am particularly proficient in:\\n\\n* **Developing and implementing AI and machine learning models** for predictive analysis and automation.\\n* **Creating intelligent systems** to unify diverse data into standardized formats, leveraging my experience in integrating data from multiple sources.\\n* **Designing and building natural language processing (NLP) solutions** to extract key information from unstructured data.\\n* **Implementing machine learning algorithms** to identify patterns, anomalies, and potential errors in financial data.\\n* **Collaborating with finance and accounting teams** to understand business requirements and translate them into technical solutions.\\n* **Programming languages:** **Python**, R, C++, Java\\n* **Machine Learning Frameworks:** **TensorFlow**, **PyTorch**, **scikit-learn**\\n* **Data Analysis Tools:** Pandas, NumPy, SQL\\n* **Other Technologies:** Docker, Kubernetes, AWS, Git, Linux\\n\\nMy experience with **Finzor Ltd.**, where I founded and led the Research team, focused on developing **portfolio management and investment analysis tools**, demonstrates my ability to create sophisticated financial solutions from design to production. Additionally, my work at **Palo Alto Networks** on **reverse engineering and malware analysis**, utilizing **machine learning to adapt anti-malware filters and classifiers**, showcases my understanding of cybersecurity best practices.\\n\\nI am confident that my skills and experience align perfectly with the requirements of this role. I am highly motivated to leverage my expertise to contribute to **[Company Name]'s** mission of driving efficiency and innovation in the financial sector. My passion for AI and my commitment to delivering exceptional results make me a strong candidate for this opportunity. \\n\\nThank you for your time and consideration. I look forward to discussing my qualifications further and learning more about this exciting opportunity.\\n\\nSincerely,\\n[Your Name] \\n\""
            ],
            "application/vnd.google.colaboratory.intrinsic+json": {
              "type": "string"
            }
          },
          "metadata": {},
          "execution_count": 21
        }
      ]
    },
    {
      "cell_type": "code",
      "source": [
        "import re\n",
        "def parse_output(model_response):\n",
        "    paragraphs = model_response.split(\"\\n\\n\")  # Split by empty lines to identify paragraphs\n",
        "    formatted_paragraphs = []\n",
        "\n",
        "    for paragraph in paragraphs:\n",
        "        lines = paragraph.splitlines()\n",
        "        formatted_lines = []\n",
        "\n",
        "        for line in lines:\n",
        "            # Check for bold text using a modified regex\n",
        "            bold_match = re.search(r\"\\*\\*(.*?)\\*\\*\", line)  # Find bold text within **\n",
        "            if bold_match:\n",
        "                text = bold_match.group(1)\n",
        "                formatted_lines.append((\"bold\", text))\n",
        "            else:\n",
        "                formatted_lines.append((\"normal\", line))  # Treat everything else as normal\n",
        "\n",
        "        formatted_paragraphs.append(formatted_lines)\n",
        "\n",
        "    return formatted_paragraphs"
      ],
      "metadata": {
        "id": "W_oiZ9lVtHj_"
      },
      "execution_count": 22,
      "outputs": []
    },
    {
      "cell_type": "code",
      "source": [
        "!pip install python-docx"
      ],
      "metadata": {
        "colab": {
          "base_uri": "https://localhost:8080/"
        },
        "id": "Ap0XVKLUyjL2",
        "outputId": "19f4e48a-e6bb-4149-b920-86c54b909474"
      },
      "execution_count": 23,
      "outputs": [
        {
          "output_type": "stream",
          "name": "stdout",
          "text": [
            "Collecting python-docx\n",
            "  Downloading python_docx-1.1.2-py3-none-any.whl.metadata (2.0 kB)\n",
            "Requirement already satisfied: lxml>=3.1.0 in /usr/local/lib/python3.10/dist-packages (from python-docx) (4.9.4)\n",
            "Requirement already satisfied: typing-extensions>=4.9.0 in /usr/local/lib/python3.10/dist-packages (from python-docx) (4.12.2)\n",
            "Downloading python_docx-1.1.2-py3-none-any.whl (244 kB)\n",
            "\u001b[?25l   \u001b[90m━━━━━━━━━━━━━━━━━━━━━━━━━━━━━━━━━━━━━━━━\u001b[0m \u001b[32m0.0/244.3 kB\u001b[0m \u001b[31m?\u001b[0m eta \u001b[36m-:--:--\u001b[0m\r\u001b[2K   \u001b[91m━━━━━━━━━━━━━━━━━━━━━━━━━━━━━━━━━━━━━━\u001b[0m\u001b[91m╸\u001b[0m\u001b[90m━\u001b[0m \u001b[32m235.5/244.3 kB\u001b[0m \u001b[31m7.8 MB/s\u001b[0m eta \u001b[36m0:00:01\u001b[0m\r\u001b[2K   \u001b[90m━━━━━━━━━━━━━━━━━━━━━━━━━━━━━━━━━━━━━━━━\u001b[0m \u001b[32m244.3/244.3 kB\u001b[0m \u001b[31m5.6 MB/s\u001b[0m eta \u001b[36m0:00:00\u001b[0m\n",
            "\u001b[?25hInstalling collected packages: python-docx\n",
            "Successfully installed python-docx-1.1.2\n"
          ]
        }
      ]
    },
    {
      "cell_type": "code",
      "source": [
        "from docx import Document\n",
        "\n",
        "def save_to_docx(text, filename=\"cover_letter.docx\"):\n",
        "    doc = Document()\n",
        "    doc.add_paragraph(text)\n",
        "    doc.save(filename)\n",
        "    return\n"
      ],
      "metadata": {
        "id": "YkENxfAxygln"
      },
      "execution_count": 24,
      "outputs": []
    },
    {
      "cell_type": "code",
      "source": [
        "def generate_cover_letter_x(model,prompt1, job_description_text, cv_text):\n",
        "  print(\"HERE1\")\n",
        "  response = generate_cover_letter(model,prompt1, job_description_text, cv_text)\n",
        "  print(\"HERE2\")\n",
        "  print(response.text)\n",
        "  sentences = response.text.split(\". \") # Split into sentences\n",
        "  formatted_sentences = []\n",
        "\n",
        "  for sentence in sentences:\n",
        "      prompt2 = f\"\"\"Based on the following sentence from a cover letter, identify the MOST RELEVANT word or phrase that reflects the applicant's key skills, achievements, or qualifications. Enclose the identified word or phrase with double asterisks (**) for bold emphasis.\n",
        "\n",
        "        Sentence: {sentence}\"\"\"\n",
        "      response2 = model.generate_content(prompt2)\n",
        "      formatted_sentences.append(response2.text.strip())  # Strip newline characters\n",
        "\n",
        "  formatted_cover_letter = \". \".join(formatted_sentences)\n",
        "  formatted_paragraphs = parse_output(response.text)\n",
        "\n",
        "  doc = Document()\n",
        "  print(formatted_paragraphs)\n",
        "  for paragraph in formatted_paragraphs:\n",
        "      p = doc.add_paragraph()\n",
        "      for style, text in paragraph:\n",
        "          run = p.add_run(text)\n",
        "          if style == \"bold\":\n",
        "              run.bold = True\n",
        "          elif style == \"italic\":\n",
        "              run.italic = True\n",
        "  # Save the .docx file\n",
        "  doc.save(\"cover_letter.docx\")\n",
        "  print(\"Cover letter generated and saved as cover_letter.docx\")\n",
        "\n",
        "\n"
      ],
      "metadata": {
        "id": "NAk9jmxWUM-6"
      },
      "execution_count": 32,
      "outputs": []
    },
    {
      "cell_type": "code",
      "source": [
        "from fpdf import FPDF\n",
        "pdf = FPDF()\n",
        "pdf.add_page()\n",
        "pdf.set_font(\"Arial\", size=12)\n",
        "\n",
        "# Add cover letter text to PDF\n",
        "pdf.multi_cell(0, 10, txt=cover_letter.text)\n",
        "\n",
        "# Save PDF to file\n",
        "pdf.output(\"cover_letter.pdf\", \"F\")"
      ],
      "metadata": {
        "colab": {
          "base_uri": "https://localhost:8080/",
          "height": 36
        },
        "id": "-ADKC0kRRakh",
        "outputId": "d6e26bcf-1ca2-48e6-b3ca-12c245431a72"
      },
      "execution_count": 26,
      "outputs": [
        {
          "output_type": "execute_result",
          "data": {
            "text/plain": [
              "''"
            ],
            "application/vnd.google.colaboratory.intrinsic+json": {
              "type": "string"
            }
          },
          "metadata": {},
          "execution_count": 26
        }
      ]
    },
    {
      "cell_type": "code",
      "source": [
        " generate_cover_letter_x(model,prompt, job_description, cv_text)"
      ],
      "metadata": {
        "colab": {
          "base_uri": "https://localhost:8080/",
          "height": 384
        },
        "id": "AMb3IhfODikf",
        "outputId": "c3340533-4807-48fd-aba7-d570d08eb9a3"
      },
      "execution_count": 37,
      "outputs": [
        {
          "output_type": "stream",
          "name": "stdout",
          "text": [
            "HERE1\n",
            "HERE2\n",
            "Dear Hiring Manager,\n",
            "\n",
            "I am writing to express my enthusiastic interest in the AI Developer position at your company. With over **10 years** of experience in machine learning and data science, I am confident that my skills and experience perfectly align with the requirements of this role. \n",
            "\n",
            "Throughout my career, I have developed a comprehensive skillset in **AI and machine learning model development, deployment, and maintenance**. I have a proven track record of successfully implementing **predictive models** from scratch, including deployment, and have a strong understanding of **data engineering**, **advanced feature generation**, and **integrated data from various sources**. My experience spans diverse industries, including **sports**, **finance**, and **robotics**, demonstrating my adaptability and ability to leverage AI to solve real-world problems. \n",
            "\n",
            "My expertise in **natural language processing (NLP)** is particularly relevant to this role. As **Founder and Head of Research at Finzor Ltd.**, I led a team to develop **portfolio management and investment analysis tools** using **NLP techniques** to extract valuable insights from unstructured financial data.  My **experience with financial systems** and **ERP software** combined with my **knowledge of data privacy and security best practices** ensures that I can seamlessly integrate AI solutions into existing financial workflows while prioritizing data integrity. \n",
            "\n",
            "I am eager to contribute my skills and passion for AI to your team and am confident that I can make a significant impact on the invoice reconciliation process. I am available for **30 hours per week** and during **UK working hours**, and I am excited to discuss how my experience can benefit your organization.\n",
            "\n",
            "Thank you for your time and consideration.\n",
            "\n",
            "Sincerely,\n",
            "\n",
            "Itay Ben-Dan \n",
            "\n",
            "[[('normal', 'Dear Hiring Manager,')], [('bold', '10 years')], [('bold', 'AI and machine learning model development, deployment, and maintenance')], [('bold', 'natural language processing (NLP)')], [('bold', '30 hours per week')], [('normal', 'Thank you for your time and consideration.')], [('normal', 'Sincerely,')], [('normal', 'Itay Ben-Dan ')]]\n",
            "Cover letter generated and saved as cover_letter.docx\n"
          ]
        }
      ]
    },
    {
      "cell_type": "code",
      "source": [
        "!ls"
      ],
      "metadata": {
        "colab": {
          "base_uri": "https://localhost:8080/"
        },
        "id": "C6mjUrIQnbPM",
        "outputId": "7fd9804b-94c5-4bfe-874c-9a5119f18363"
      },
      "execution_count": 35,
      "outputs": [
        {
          "output_type": "stream",
          "name": "stdout",
          "text": [
            "CoverLetter  cover_letter.docx\tcover_letter.pdf  sample_data\n"
          ]
        }
      ]
    }
  ]
}